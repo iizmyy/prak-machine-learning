{
  "cells": [
    {
      "cell_type": "markdown",
      "metadata": {
        "id": "view-in-github",
        "colab_type": "text"
      },
      "source": [
        "<a href=\"https://colab.research.google.com/github/iizmyy/prak-machine-learning/blob/main/Praktikum_II.ipynb\" target=\"_parent\"><img src=\"https://colab.research.google.com/assets/colab-badge.svg\" alt=\"Open In Colab\"/></a>"
      ]
    },
    {
      "cell_type": "markdown",
      "source": [
        "### List"
      ],
      "metadata": {
        "id": "KjoU1GSPO7MA"
      }
    },
    {
      "cell_type": "code",
      "execution_count": null,
      "metadata": {
        "id": "sL2Ig17JOvjC",
        "outputId": "2962eb19-6f3f-4296-86d5-3564051a9145",
        "colab": {
          "base_uri": "https://localhost:8080/"
        }
      },
      "outputs": [
        {
          "output_type": "stream",
          "name": "stdout",
          "text": [
            "List1[0] :  Januari\n",
            "List1[2:5] : [20, 21, 2020]\n",
            "Isi list1 setelah penambahan : ['Januari', 'Februari', 'Maret', 20, 21, 2020, 2021, 2022]\n",
            "Isi list1 setelah penghapusan :  ['Januari', 'Februari', 20, 21, 2020, 2021]\n",
            "Pengurutan ascending :  [1, 4, 3, 6, 5, 11]\n",
            "Pengurutan descending :  [11, 6, 5, 4, 3, 1]\n",
            "Nilai terbesar dalam list angka :  11\n"
          ]
        }
      ],
      "source": [
        "# Membuat list\n",
        "list1 = ['Januari', 'Februari', 20, 21, 2020, 2021]\n",
        "\n",
        "# Mengakses nilai dalam list\n",
        "print (\"List1[0] : \", list1[0])\n",
        "print (\"List1[2:5] :\", list1[2:5])\n",
        "\n",
        "# Menambahkan objek dalam list\n",
        "list1.append(2022)\n",
        "list1.insert(2, \"Maret\")\n",
        "print(\"Isi list1 setelah penambahan :\", list1)\n",
        "\n",
        "# Menghapus objek dalam list\n",
        "del list1[7]\n",
        "list1.remove('Maret')\n",
        "print(\"Isi list1 setelah penghapusan : \", list1)\n",
        "\n",
        "#Mengurutkan list\n",
        "angka=[1,4,3,6,5,11]\n",
        "print (\"Pengurutan ascending : \", angka)\n",
        "angka.sort(reverse=True)\n",
        "print (\"Pengurutan descending : \", angka)\n",
        "\n",
        "#Mengambil nilai terbesar\n",
        "print(\"Nilai terbesar dalam list angka : \", max(angka))"
      ]
    },
    {
      "cell_type": "code",
      "source": [
        "# Membuat list buah isi dengan objek apel, pisang, nanas, semangka, kelapa\n",
        "buah = [\"apel\", \"pisang\", \"nanas\", \"semangka\", \"kelapa\"]\n",
        "\n",
        "# Tambahkan objek jeruk ke dalam list buah\n",
        "buah.---(---)\n",
        "\n",
        "# Cetak list buah dari data ke-1 sampai ke-3\n",
        "print (\"Data ke-1 s/d ke-3 :\", ---[---])"
      ],
      "metadata": {
        "id": "DUASxnYc4Vcn",
        "colab": {
          "base_uri": "https://localhost:8080/"
        },
        "outputId": "e1b7d06f-4821-494e-d134-e5cc4b465475"
      },
      "execution_count": null,
      "outputs": [
        {
          "output_type": "stream",
          "name": "stdout",
          "text": [
            "Data ke-1 : ['apel', 'pisang']\n"
          ]
        }
      ]
    },
    {
      "cell_type": "markdown",
      "source": [
        "### Tuple"
      ],
      "metadata": {
        "id": "6JeUBtccO-4Z"
      }
    },
    {
      "cell_type": "code",
      "execution_count": null,
      "metadata": {
        "id": "zOsfM--bOvjG",
        "outputId": "0a43434a-020f-4251-d6e9-ca2f0f3808b8",
        "colab": {
          "base_uri": "https://localhost:8080/"
        }
      },
      "outputs": [
        {
          "output_type": "stream",
          "name": "stdout",
          "text": [
            "Isi tuple kosong :  ()\n",
            "Isi tuple dengan 1 item :  (1,)\n",
            "Isi tuple lebih dari 1 item :  (1, 4, 'a', 'c', 'd')\n",
            "Item ke-2 :  4\n",
            "Dua Item awal :  (1, 4)\n",
            "Isi tuple1 dari item ke-3 :  ('a', 'c', 'd')\n",
            "Jumlah item dalam tuple :  5\n",
            "Isi tuple : \n",
            "1\n",
            "4\n",
            "a\n",
            "c\n",
            "d\n",
            "Apakah ada item a dalam tuple1? True\n",
            "Hasil Unpack Tuple :  Perempuan , Laki-laki\n"
          ]
        }
      ],
      "source": [
        "# Membuat Tuple\n",
        "tuple1 = ()\n",
        "print(\"Isi tuple kosong : \", tuple1)\n",
        "\n",
        "tuple1 = (1, )\n",
        "print(\"Isi tuple dengan 1 item : \", tuple1)\n",
        "\n",
        "tuple1 = (1,4,'a', 'c', 'd')\n",
        "print(\"Isi tuple lebih dari 1 item : \", tuple1)\n",
        "\n",
        "# Mengakses item dalam tuple\n",
        "print(\"Item ke-2 : \", tuple1[1])\n",
        "print(\"Dua Item awal : \", tuple1[0:2])\n",
        "print(\"Isi tuple1 dari item ke-3 : \", tuple1[2:])\n",
        "\n",
        "# Jumlah item dalam tuple\n",
        "print(\"Jumlah item dalam tuple : \", len(tuple1))\n",
        "\n",
        "#Mencetak isi tuple dengan iterasi\n",
        "print(\"Isi tuple : \")\n",
        "for x in tuple1 : print (x)\n",
        "\n",
        "#Mengecek keberadaan item dalam tuple\n",
        "print(\"Apakah ada item a dalam tuple1?\", 'a' in tuple1)\n",
        "\n",
        "#Unpack\n",
        "gender = (\"Perempuan\",\"Laki-laki\")\n",
        "(g1, g2) = gender\n",
        "print(\"Hasil Unpack Tuple : \", g1, \",\", g2)"
      ]
    },
    {
      "cell_type": "code",
      "source": [
        "# Membuat tuple score dengan objek bad, fair, good, excellent\n",
        "score = ---\n",
        "print(\"Isi tuple score : \", ---)\n",
        "\n",
        "# Jumlah item dalam tuple\n",
        "print(\"Jumlah item dalam tuple score : \", ---(---))\n",
        "\n",
        "# Mengakses item dalam tuple\n",
        "print(\"Score ke-1 : \", ---)"
      ],
      "metadata": {
        "id": "w6w9H4Q170AG"
      },
      "execution_count": null,
      "outputs": []
    },
    {
      "cell_type": "markdown",
      "source": [
        "### Set"
      ],
      "metadata": {
        "id": "YFB1S6OxPFA-"
      }
    },
    {
      "cell_type": "code",
      "execution_count": null,
      "metadata": {
        "id": "m705vqVUOvjI",
        "outputId": "47cc927d-5d66-4ac9-d904-2f71a0335333"
      },
      "outputs": [
        {
          "name": "stdout",
          "output_type": "stream",
          "text": [
            "Isi set :  {'Surabaya', 'Makassar', 'Jakarta'}\n",
            "Isi set setelah penambahan 1 elemen :  {'Surabaya', 'Makassar', 'Jakarta', 'Malang'}\n",
            "Isi set setelah operasi update :  {'Surabaya', 'Malang', 'Jakarta', 'Manado', 'Jambi', 'Makassar'}\n",
            "Isi set setelah penghapusan 1 elemen :  {'Surabaya', 'Jakarta', 'Manado', 'Jambi', 'Makassar'}\n",
            "Elemen  Surabaya dihapus dari set kota\n",
            "{'Jakarta', 'Manado', 'Jambi', 'Makassar'}\n",
            "Jumlah elemen dalam set :  4\n"
          ]
        }
      ],
      "source": [
        "#inisialisasi set\n",
        "kota = {\"Makassar\", \"Jakarta\", \"Surabaya\"}\n",
        "print(\"Isi set : \", kota)\n",
        "\n",
        "#menambahkan elemen\n",
        "kota.add(\"Malang\")\n",
        "print(\"Isi set setelah penambahan 1 elemen : \", kota)\n",
        "\n",
        "#menambahkan beberapa elemen\n",
        "kota.update([\"Manado\", \"Jambi\"])\n",
        "print(\"Isi set setelah operasi update : \", kota)\n",
        "\n",
        "#Menghapus sebuah elemen\n",
        "kota.remove('Malang')\n",
        "print(\"Isi set setelah penghapusan 1 elemen : \", kota)\n",
        "\n",
        "#Mengapus sebuah elemen, walaupun 'Malang' telah dihapus,\n",
        "#tidak ada pesan error yang ditampilkan\n",
        "kota.discard('Malang')\n",
        "\n",
        "#operasi pop menghapus sebuah item secara random dari set\n",
        "print (\"Elemen \", kota.pop(), \"dihapus dari set kota\")\n",
        "print(kota)\n",
        "\n",
        "#menampilkan jumlah elemen dalam set\n",
        "print(\"Jumlah elemen dalam set : \", len(kota))"
      ]
    },
    {
      "cell_type": "code",
      "source": [
        "# Membuat set buah  isi dengan objek apel, pisang, nanas, semangka, kelapa\n",
        "buah = ---\n",
        "print(\"Isi set buah : \", ---)\n",
        "\n",
        "# Tambahkan objek jeruk dan nanas\n",
        "buah.---([---])\n",
        "print(\"Isi set buah : \", ---)\n",
        "\n",
        "#Menghapus objek semangka\n",
        "---.---(---)\n",
        "print(\"Isi set bauh setelah penghapusan 1 elemen : \", ---)"
      ],
      "metadata": {
        "id": "U0RcAWbd-u0h"
      },
      "execution_count": null,
      "outputs": []
    },
    {
      "cell_type": "markdown",
      "source": [
        "### Dictionary"
      ],
      "metadata": {
        "id": "Al71FvOyPKGV"
      }
    },
    {
      "cell_type": "code",
      "execution_count": null,
      "metadata": {
        "id": "F61X_Zh4OvjL",
        "outputId": "4848d6fc-62e4-48a1-cbc3-92e3205f5e54"
      },
      "outputs": [
        {
          "name": "stdout",
          "output_type": "stream",
          "text": [
            "Isi dictionary:  {'Nama': 'Janu', 'Usia': 8, 'Kelas': 'Tiga'}\n",
            "Nilai dari key Nama :  Janu\n",
            "Dictionary siswa1 :  {'Nama': 'Janu', 'Usia': 8, 'Kelas': 'Tiga'}\n",
            "Dictionary siswa1 :  {}\n",
            "Isi dictionary:  {'Nama': 'Janu', 'Usia': 9, 'Kelas': 'Tiga'}\n",
            "Usia Janu :  9\n",
            "Isi dictionary siswa2 :  {'Nama': 'Sam', 'Usia': 7, 'Kelas': 'Dua'}\n"
          ]
        }
      ],
      "source": [
        "#Membuat dictionary\n",
        "siswa = {'Nama' : 'Janu', 'Usia':8, 'Kelas':'Tiga'}\n",
        "print(\"Isi dictionary: \", siswa)\n",
        "\n",
        "#Mengakses elemen dalam dictionary\n",
        "print(\"Nilai dari key Nama : \", siswa['Nama'])\n",
        "\n",
        "#Copy isi dictionary\n",
        "siswa1 = siswa.copy()\n",
        "print(\"Dictionary siswa1 : \",siswa1)\n",
        "# Menghapus elemen dictionary\n",
        "siswa1.clear()\n",
        "# Menghapus kamus siswa1\n",
        "print(\"Dictionary siswa1 : \",siswa1)\n",
        "del siswa1\n",
        "\n",
        "#mengubah nilai dictionary\n",
        "siswa['Usia'] = 9\n",
        "print(\"Isi dictionary: \", siswa)\n",
        "\n",
        "#Menampilkan nilai dari key tertentu\n",
        "print(\"Usia Janu : \", siswa.get('Usia'))\n",
        "\n",
        "#Menambah dictionary ke dictionary lainnya\n",
        "siswa2 = {'Nama':'Sam', 'Usia':7}\n",
        "kelasSiswa = {'Kelas' : 'Dua'}\n",
        "siswa2.update(kelasSiswa)\n",
        "print(\"Isi dictionary siswa2 : \", siswa2)"
      ]
    },
    {
      "cell_type": "code",
      "source": [
        "#Membuat dictionary produk dengan nm_barang : Air Mineral, merek : Aqua, harga : 3000\n",
        "produk = {'nm_barang' : '---', '---':'Aqua' ,'harga':---}\n",
        "print(\"Isi dictionary: \", ---)\n",
        "\n",
        "#menampilkan nilai dari key nm_barang\n",
        "print(\"Nama Barang : \", ---)\n",
        "\n",
        "#menampilkan nilai dari key merek\n",
        "print(\"Merek : \", ---.get())\n",
        "\n",
        "#mengubah nilai harga menjadi 3500\n",
        "produk[---]=---\n",
        "print(\"Harga : \", ---)"
      ],
      "metadata": {
        "id": "qoxtJHY5ABbQ"
      },
      "execution_count": null,
      "outputs": []
    },
    {
      "cell_type": "markdown",
      "source": [
        "### Fungsi"
      ],
      "metadata": {
        "id": "18kbL88MPNdW"
      }
    },
    {
      "cell_type": "code",
      "execution_count": 1,
      "metadata": {
        "id": "pZq9mbQ-OvjL",
        "outputId": "947a9f5a-dbba-4b04-babc-d6f9acfcf5b9",
        "colab": {
          "base_uri": "https://localhost:8080/"
        }
      },
      "outputs": [
        {
          "output_type": "stream",
          "name": "stdout",
          "text": [
            "Hasil fungsi :\n",
            "5\n",
            "7\n",
            "Hasil subprosedur :\n",
            "15\n",
            "18\n"
          ]
        }
      ],
      "source": [
        "#fungsi\n",
        "def jumlah_dua_angka(x,y=0):\n",
        "    return x + y\n",
        "\n",
        "#subprosedur\n",
        "def jumlah_banyak_angka(angka):\n",
        "    jml=0\n",
        "    for x in angka:\n",
        "        jml = jml + x\n",
        "    print(jml)\n",
        "\n",
        "\n",
        "#memanggil fungsi\n",
        "print(\"Hasil fungsi :\")\n",
        "print (jumlah_dua_angka(5))\n",
        "print (jumlah_dua_angka(5,2))\n",
        "\n",
        "#memanggil subprosedur\n",
        "print(\"Hasil subprosedur :\")\n",
        "jumlah_banyak_angka(list([1,2,3,4,5]))\n",
        "jumlah_banyak_angka(list([4,3,5,6]))\n"
      ]
    },
    {
      "cell_type": "code",
      "source": [
        "\"\"\"\n",
        "Fungsi menghitung rata-rata dengan menjumlahkan seluruh elemen list\n",
        "kemudian dibagi dengan pajang list\n",
        "\"\"\"\n",
        "def hitung_rata2(listNilai):\n",
        "  rata2 = sum(---) / len(---)\n",
        "  return ---\n",
        "\n",
        "\"\"\"\n",
        "Fungsi mengecek keberadaan elemen dalam list\n",
        "Jika elemen ada dalam list maka fungsi mengembalikan \"Ada\"\n",
        "jika elemen tidak ada maka fungsi mengembalikan \"Tidak Ada\"\n",
        "\"\"\"\n",
        "def cek_elemen(listNilai, elemen):\n",
        "  if elemen in listNilai:\n",
        "    ---\n",
        "  --- :\n",
        "    ---\n",
        "\n",
        "#Buat list nilai yang berisi data 6, 12, 23, 35, 19, 22, 8, 7\n",
        "nilai = [---]\n",
        "\n",
        "#Pemanggilan fungsi yang menampilkan rata-rata dari isi list nilai\n",
        "print(\"Rata-rata nilai\", ---(---))\n",
        "\n",
        "#Mengecek apakah elemen dengan nilai 20 ada dalam list nilai\n",
        "angka = 20;\n",
        "print(f\"{angka} {cek_elemen(---, ---)} dalam list nilai\")\n",
        "\n",
        "#Mengecek apakah elemen dengan nilai 35 ada dalam list nilai\n",
        "angka = 35;\n",
        "print(f\"{angka} {---(---, ---)} dalam list nilai\")"
      ],
      "metadata": {
        "colab": {
          "base_uri": "https://localhost:8080/"
        },
        "id": "r_cSnIFvAWAx",
        "outputId": "7f13ba77-af8f-40c5-8981-1e0ea9f2a123"
      },
      "execution_count": 7,
      "outputs": [
        {
          "output_type": "stream",
          "name": "stdout",
          "text": [
            "Rata-rata nilai 16.5\n",
            "20 Tidak Ada dalam list nilai\n",
            "35 Ada dalam list nilai\n"
          ]
        }
      ]
    },
    {
      "cell_type": "markdown",
      "source": [
        "### Modul"
      ],
      "metadata": {
        "id": "ecTMlmDFPQXR"
      }
    },
    {
      "cell_type": "code",
      "execution_count": null,
      "metadata": {
        "colab": {
          "base_uri": "https://localhost:8080/",
          "height": 390
        },
        "id": "cw8D9UbTOvjM",
        "outputId": "8069b560-1cbc-4a3a-c528-e63115e25674"
      },
      "outputs": [
        {
          "output_type": "stream",
          "name": "stdout",
          "text": [
            "    A   B\n",
            "0  83  95\n",
            "1   7   0\n",
            "2  94  68\n",
            "3  53  83\n",
            "4  86  15\n"
          ]
        },
        {
          "output_type": "execute_result",
          "data": {
            "text/plain": [
              "<BarContainer object of 2 artists>"
            ]
          },
          "metadata": {},
          "execution_count": 3
        },
        {
          "output_type": "display_data",
          "data": {
            "text/plain": [
              "<Figure size 432x288 with 1 Axes>"
            ],
            "image/png": "[encoded data removed]"
          },
          "metadata": {
            "needs_background": "light"
          }
        }
      ],
      "source": [
        "#Impor semua fungsi dalam modul\n",
        "import pandas as pd\n",
        "import numpy\n",
        "\n",
        "#Impor fungsi tertentu dalam modul\n",
        "from matplotlib.pyplot import bar\n",
        "\n",
        "# Menggunakan fungsi membuat DataFrame\n",
        "df = pd.DataFrame(numpy.random.randint(0,100,size=(5, 2)), columns=list('AB'))\n",
        "print(df)\n",
        "\n",
        "# Menggunakan fungsi membuat bar chart\n",
        "gender = [\"Perempuan\", \"Laki-laki\"]\n",
        "jumlah = [200, 250]\n",
        "bar(gender, jumlah)"
      ]
    },
    {
      "cell_type": "code",
      "source": [
        "#Import modul numpy dengan alias np\n",
        "import --- as ---\n",
        "\n",
        "# Import fungsi pie dari modul matplotlib.pyplot untuk membuat pie chart\n",
        "from --- import ---\n",
        "\n",
        "\"\"\"Gunakan fungsi array dari modul numpy untuk membuat array berisi nilai\n",
        "   persentase pengguna kendaraan pribadi mobil, motor, dan kendaraan umum\n",
        "\"\"\"\n",
        "jumlah = ---.array([25, 65, 10])\n",
        "jenis_kendaraan = [\"Mobil\", \"Motor\", \"Kendaraan Umum\"]\n",
        "\n",
        "# Gunakan fungsi pie untuk membuat pie chart\n",
        "---(jumlah, labels = jenis_kendaraan, autopct = '%1.1f%%')"
      ],
      "metadata": {
        "colab": {
          "base_uri": "https://localhost:8080/",
          "height": 566
        },
        "id": "YYCCwxu2P2Id",
        "outputId": "f5f6f0f4-f904-4e80-e7f0-b4158089f090"
      },
      "execution_count": 20,
      "outputs": [
        {
          "output_type": "execute_result",
          "data": {
            "text/plain": [
              "([<matplotlib.patches.Wedge at 0x7bc50cec8a60>,\n",
              "  <matplotlib.patches.Wedge at 0x7bc50cea3a90>,\n",
              "  <matplotlib.patches.Wedge at 0x7bc50cec9630>],\n",
              " [Text(0.7778174593052024, 0.7778174593052023, 'Mobil'),\n",
              "  Text(-0.9801072140121813, -0.49938947630209485, 'Motor'),\n",
              "  Text(1.0461621185951564, -0.33991884563303376, 'Kendaraan Umum')],\n",
              " [Text(0.4242640687119285, 0.42426406871192845, '25.0%'),\n",
              "  Text(-0.5346039349157352, -0.2723942598011426, '65.0%'),\n",
              "  Text(0.5706338828700852, -0.1854102794362002, '10.0%')])"
            ]
          },
          "metadata": {},
          "execution_count": 20
        },
        {
          "output_type": "display_data",
          "data": {
            "text/plain": [
              "<Figure size 640x480 with 1 Axes>"
            ],
            "image/png": "[encoded data removed]"
          },
          "metadata": {}
        }
      ]
    },
    {
      "cell_type": "code",
      "source": [
        "#Impor semua fungsi dalam modul\n",
        "import pandas as pd\n",
        "import numpy\n",
        "\n",
        "#Impor fungsi tertentu dalam modul\n",
        "from matplotlib.pyplot import bar\n",
        "\n",
        "# Menggunakan fungsi membuat DataFrame\n",
        "df = pd.DataFrame(numpy.random.randint(0,100,size=(5, 2)), columns=list('AB'))\n",
        "print(df)\n",
        "\n",
        "# Menggunakan fungsi membuat bar chart\n",
        "gender = [\"Perempuan\", \"Laki-laki\"]\n",
        "jumlah = [200, 250]\n",
        "bar(gender, jumlah)"
      ],
      "metadata": {
        "id": "pwFKw4uPJEgk"
      },
      "execution_count": null,
      "outputs": []
    },
    {
      "cell_type": "markdown",
      "source": [
        "### Input/Output File"
      ],
      "metadata": {
        "id": "CqPl4kB8PTnB"
      }
    },
    {
      "cell_type": "code",
      "execution_count": null,
      "metadata": {
        "colab": {
          "base_uri": "https://localhost:8080/"
        },
        "id": "THJm_jWkOvjM",
        "outputId": "133f9ef3-97ce-4e84-fca9-b4bb4cd2d6cb"
      },
      "outputs": [
        {
          "output_type": "stream",
          "name": "stdout",
          "text": [
            "['Sinta\\n', 'Jaja\\n', 'Rina\\n']\n"
          ]
        }
      ],
      "source": [
        "#Membuat file dengan nama data. \\n adalah karakter untuk baris baru\n",
        "data = ['Sinta\\n', 'Jaja\\n', 'Rina\\n']\n",
        "f = open('data.txt', 'w')\n",
        "f.writelines(data)\n",
        "\n",
        "#Membaca file\n",
        "f = open('data.txt')\n",
        "print (f.readlines())\n",
        "f.close()"
      ]
    }
  ],
  "metadata": {
    "kernelspec": {
      "display_name": "Python 3 (ipykernel)",
      "language": "python",
      "name": "python3"
    },
    "language_info": {
      "codemirror_mode": {
        "name": "ipython",
        "version": 3
      },
      "file_extension": ".py",
      "mimetype": "text/x-python",
      "name": "python",
      "nbconvert_exporter": "python",
      "pygments_lexer": "ipython3",
      "version": "3.9.12"
    },
    "colab": {
      "provenance": [],
      "include_colab_link": true
    }
  },
  "nbformat": 4,
  "nbformat_minor": 0
}