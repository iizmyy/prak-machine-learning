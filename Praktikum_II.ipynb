{
  "cells": [
    {
      "cell_type": "markdown",
      "metadata": {
        "id": "view-in-github",
        "colab_type": "text"
      },
      "source": [
        "<a href=\"https://colab.research.google.com/github/iizmyy/prak-machine-learning/blob/main/Praktikum_II.ipynb\" target=\"_parent\"><img src=\"https://colab.research.google.com/assets/colab-badge.svg\" alt=\"Open In Colab\"/></a>"
      ]
    },
    {
      "cell_type": "markdown",
      "source": [
        "### List"
      ],
      "metadata": {
        "id": "KjoU1GSPO7MA"
      }
    },
    {
      "cell_type": "code",
      "execution_count": null,
      "metadata": {
        "id": "sL2Ig17JOvjC",
        "outputId": "4d32932f-cf6e-46c0-9ca2-9252d5350a3e"
      },
      "outputs": [
        {
          "name": "stdout",
          "output_type": "stream",
          "text": [
            "List1[0] :  Januari\n",
            "List1[2:5] : [20, 21, 2020]\n",
            "Isi list1 setelah penambahan : ['Januari', 'Februari', 'Maret', 20, 21, 2020, 2021, 2022]\n",
            "Isi list1 setelah penghapusan :  ['Januari', 'Februari', 20, 21, 2020, 2021]\n",
            "Pengurutan ascending :  [1, 4, 3, 6, 5, 11]\n",
            "Pengurutan descending :  [11, 6, 5, 4, 3, 1]\n",
            "Nilai terbesar dalam list angka :  11\n"
          ]
        }
      ],
      "source": [
        "# Membuat list\n",
        "list1 = ['Januari', 'Februari', 20, 21, 2020, 2021]\n",
        "\n",
        "# Mengakses nilai dalam list\n",
        "print (\"List1[0] : \", list1[0])\n",
        "print (\"List1[2:5] :\", list1[2:5])\n",
        "\n",
        "# Menambahkan objek dalam list\n",
        "list1.append(2022)\n",
        "list1.insert(2, \"Maret\")\n",
        "print(\"Isi list1 setelah penambahan :\", list1)\n",
        "\n",
        "# Menghapus objek dalam list\n",
        "del list1[7]\n",
        "list1.remove('Maret')\n",
        "print(\"Isi list1 setelah penghapusan : \", list1)\n",
        "\n",
        "#Mengurutkan list\n",
        "angka=[1,4,3,6,5,11]\n",
        "print (\"Pengurutan ascending : \", angka)\n",
        "angka.sort(reverse=True)\n",
        "print (\"Pengurutan descending : \", angka)\n",
        "\n",
        "#Mengambil nilai terbesar\n",
        "print(\"Nilai terbesar dalam list angka : \", max(angka))"
      ]
    },
    {
      "cell_type": "markdown",
      "source": [
        "### Tuple"
      ],
      "metadata": {
        "id": "6JeUBtccO-4Z"
      }
    },
    {
      "cell_type": "code",
      "execution_count": null,
      "metadata": {
        "id": "zOsfM--bOvjG",
        "outputId": "250e0a6c-81a2-40de-d266-032fa2b232a0"
      },
      "outputs": [
        {
          "name": "stdout",
          "output_type": "stream",
          "text": [
            "Isi tuple kosong :  ()\n",
            "Isi tuple dengan 1 item :  (1,)\n",
            "Isi tuple lebih dari 1 item :  (1, 4, 'a', 'c', 'd')\n",
            "Item ke-2 :  4\n",
            "Dua Item awal :  (1, 4)\n",
            "Isi tuple1 dari item ke-3 :  ('a', 'c', 'd')\n",
            "Jumlah item dalam tuple :  5\n",
            "Isi tuple : \n",
            "1\n",
            "4\n",
            "a\n",
            "c\n",
            "d\n",
            "Apakah ada item a dalam tuple1? True\n"
          ]
        }
      ],
      "source": [
        "# Membuat Tuple\n",
        "tuple1 = ()\n",
        "print(\"Isi tuple kosong : \", tuple1)\n",
        "\n",
        "tuple1 = (1, )\n",
        "print(\"Isi tuple dengan 1 item : \", tuple1)\n",
        "\n",
        "tuple1 = (1,4,'a', 'c', 'd')\n",
        "print(\"Isi tuple lebih dari 1 item : \", tuple1)\n",
        "\n",
        "# Mengakses item dalam tuple\n",
        "print(\"Item ke-2 : \", tuple1[1])\n",
        "print(\"Dua Item awal : \", tuple1[0:2])\n",
        "print(\"Isi tuple1 dari item ke-3 : \", tuple1[2:])\n",
        "\n",
        "# Jumlah item dalam tuple\n",
        "print(\"Jumlah item dalam tuple : \", len(tuple1))\n",
        "\n",
        "#Mencetak isi tuple dengan iterasi\n",
        "print(\"Isi tuple : \")\n",
        "for x in tuple1 : print (x)\n",
        "\n",
        "#Mengecek keberadaan item dalam tuple\n",
        "print(\"Apakah ada item a dalam tuple1?\", 'a' in tuple1)"
      ]
    },
    {
      "cell_type": "markdown",
      "source": [
        "### Set"
      ],
      "metadata": {
        "id": "YFB1S6OxPFA-"
      }
    },
    {
      "cell_type": "code",
      "execution_count": null,
      "metadata": {
        "id": "m705vqVUOvjI",
        "outputId": "47cc927d-5d66-4ac9-d904-2f71a0335333"
      },
      "outputs": [
        {
          "name": "stdout",
          "output_type": "stream",
          "text": [
            "Isi set :  {'Surabaya', 'Makassar', 'Jakarta'}\n",
            "Isi set setelah penambahan 1 elemen :  {'Surabaya', 'Makassar', 'Jakarta', 'Malang'}\n",
            "Isi set setelah operasi update :  {'Surabaya', 'Malang', 'Jakarta', 'Manado', 'Jambi', 'Makassar'}\n",
            "Isi set setelah penghapusan 1 elemen :  {'Surabaya', 'Jakarta', 'Manado', 'Jambi', 'Makassar'}\n",
            "Elemen  Surabaya dihapus dari set kota\n",
            "{'Jakarta', 'Manado', 'Jambi', 'Makassar'}\n",
            "Jumlah elemen dalam set :  4\n"
          ]
        }
      ],
      "source": [
        "#inisialisasi set\n",
        "kota = {\"Makassar\", \"Jakarta\", \"Surabaya\"}\n",
        "print(\"Isi set : \", kota)\n",
        "\n",
        "#menambahkan elemen\n",
        "kota.add(\"Malang\")\n",
        "print(\"Isi set setelah penambahan 1 elemen : \", kota)\n",
        "\n",
        "#menambahkan beberapa elemen\n",
        "kota.update([\"Manado\", \"Jambi\"])\n",
        "print(\"Isi set setelah operasi update : \", kota)\n",
        "\n",
        "#Menghapus sebuah elemen\n",
        "kota.remove('Malang')\n",
        "print(\"Isi set setelah penghapusan 1 elemen : \", kota)\n",
        "\n",
        "#Mengapus sebuah elemen, walaupun 'Malang' telah dihapus,\n",
        "#tidak ada pesan error yang ditampilkan\n",
        "kota.discard('Malang')\n",
        "\n",
        "#operasi pop menghapus sebuah item secara random dari set\n",
        "print (\"Elemen \", kota.pop(), \"dihapus dari set kota\")\n",
        "print(kota)\n",
        "\n",
        "#menampilkan jumlah elemen dalam set\n",
        "print(\"Jumlah elemen dalam set : \", len(kota))"
      ]
    },
    {
      "cell_type": "markdown",
      "source": [
        "### Dictionary"
      ],
      "metadata": {
        "id": "Al71FvOyPKGV"
      }
    },
    {
      "cell_type": "code",
      "execution_count": null,
      "metadata": {
        "id": "F61X_Zh4OvjL",
        "outputId": "4848d6fc-62e4-48a1-cbc3-92e3205f5e54"
      },
      "outputs": [
        {
          "name": "stdout",
          "output_type": "stream",
          "text": [
            "Isi dictionary:  {'Nama': 'Janu', 'Usia': 8, 'Kelas': 'Tiga'}\n",
            "Nilai dari key Nama :  Janu\n",
            "Dictionary siswa1 :  {'Nama': 'Janu', 'Usia': 8, 'Kelas': 'Tiga'}\n",
            "Dictionary siswa1 :  {}\n",
            "Isi dictionary:  {'Nama': 'Janu', 'Usia': 9, 'Kelas': 'Tiga'}\n",
            "Usia Janu :  9\n",
            "Isi dictionary siswa2 :  {'Nama': 'Sam', 'Usia': 7, 'Kelas': 'Dua'}\n"
          ]
        }
      ],
      "source": [
        "#Membuat dictionary\n",
        "siswa = {'Nama' : 'Janu', 'Usia':8, 'Kelas':'Tiga'}\n",
        "print(\"Isi dictionary: \", siswa)\n",
        "\n",
        "#Mengakses elemen dalam dictionary\n",
        "print(\"Nilai dari key Nama : \", siswa['Nama'])\n",
        "\n",
        "#Copy isi dictionary\n",
        "siswa1 = siswa.copy()\n",
        "print(\"Dictionary siswa1 : \",siswa1)\n",
        "# Menghapus elemen dictionary\n",
        "siswa1.clear() \n",
        "# Menghapus kamus siswa1\n",
        "print(\"Dictionary siswa1 : \",siswa1)\n",
        "del siswa1\n",
        "\n",
        "#mengubah nilai dictionary\n",
        "siswa['Usia'] = 9\n",
        "print(\"Isi dictionary: \", siswa)\n",
        "\n",
        "#Menampilkan nilai dari key tertentu\n",
        "print(\"Usia Janu : \", siswa.get('Usia'))\n",
        "\n",
        "#Menambah dictionary ke dictionary lainnya\n",
        "siswa2 = {'Nama':'Sam', 'Usia':7}\n",
        "kelasSiswa = {'Kelas' : 'Dua'}\n",
        "siswa2.update(kelasSiswa)\n",
        "print(\"Isi dictionary siswa2 : \", siswa2)"
      ]
    },
    {
      "cell_type": "markdown",
      "source": [
        "### Fungsi"
      ],
      "metadata": {
        "id": "18kbL88MPNdW"
      }
    },
    {
      "cell_type": "code",
      "execution_count": null,
      "metadata": {
        "id": "pZq9mbQ-OvjL",
        "outputId": "410b714c-f0e9-47a7-cbff-e54aca5db938"
      },
      "outputs": [
        {
          "name": "stdout",
          "output_type": "stream",
          "text": [
            "Hasil fungsi :\n",
            "5\n",
            "7\n",
            "Hasil subprosedur :\n",
            "15\n",
            "18\n"
          ]
        }
      ],
      "source": [
        "#fungsi\n",
        "def jumlah_dua_angka(x,y=0):\n",
        "    return x + y\n",
        "\n",
        "#subprosedur\n",
        "def jumlah_banyak_angka(angka):\n",
        "    jml=0\n",
        "    for x in angka:\n",
        "        jml = jml + x\n",
        "    print(jml)\n",
        "\n",
        "\n",
        "#memanggil fungsi\n",
        "print(\"Hasil fungsi :\")\n",
        "print (jumlah_dua_angka(5))\n",
        "print (jumlah_dua_angka(5,2))\n",
        "\n",
        "#memanggil subprosedur\n",
        "print(\"Hasil subprosedur :\")\n",
        "jumlah_banyak_angka(list([1,2,3,4,5]))\n",
        "jumlah_banyak_angka(list([4,3,5,6]))\n"
      ]
    },
    {
      "cell_type": "markdown",
      "source": [
        "### Modul"
      ],
      "metadata": {
        "id": "ecTMlmDFPQXR"
      }
    },
    {
      "cell_type": "code",
      "execution_count": 3,
      "metadata": {
        "colab": {
          "base_uri": "https://localhost:8080/",
          "height": 390
        },
        "id": "cw8D9UbTOvjM",
        "outputId": "8069b560-1cbc-4a3a-c528-e63115e25674"
      },
      "outputs": [
        {
          "output_type": "stream",
          "name": "stdout",
          "text": [
            "    A   B\n",
            "0  83  95\n",
            "1   7   0\n",
            "2  94  68\n",
            "3  53  83\n",
            "4  86  15\n"
          ]
        },
        {
          "output_type": "execute_result",
          "data": {
            "text/plain": [
              "<BarContainer object of 2 artists>"
            ]
          },
          "metadata": {},
          "execution_count": 3
        },
        {
          "output_type": "display_data",
          "data": {
            "text/plain": [
              "<Figure size 432x288 with 1 Axes>"
            ],
            "image/png": "[encoded data removed]"
          },
          "metadata": {
            "needs_background": "light"
          }
        }
      ],
      "source": [
        "#Impor semua fungsi dalam modul\n",
        "import pandas as pd\n",
        "import numpy\n",
        "\n",
        "#Impor fungsi tertentu dalam modul\n",
        "from matplotlib.pyplot import bar\n",
        "\n",
        "# Menggunakan fungsi membuat DataFrame\n",
        "df = pd.DataFrame(numpy.random.randint(0,100,size=(5, 2)), columns=list('AB')) \n",
        "print(df)\n",
        "\n",
        "# Menggunakan fungsi membuat bar chart\n",
        "gender = [\"Perempuan\", \"Laki-laki\"]\n",
        "jumlah = [200, 250]\n",
        "bar(gender, jumlah)"
      ]
    },
    {
      "cell_type": "markdown",
      "source": [
        "### Input/Output File"
      ],
      "metadata": {
        "id": "CqPl4kB8PTnB"
      }
    },
    {
      "cell_type": "code",
      "execution_count": 1,
      "metadata": {
        "colab": {
          "base_uri": "https://localhost:8080/"
        },
        "id": "THJm_jWkOvjM",
        "outputId": "133f9ef3-97ce-4e84-fca9-b4bb4cd2d6cb"
      },
      "outputs": [
        {
          "output_type": "stream",
          "name": "stdout",
          "text": [
            "['Sinta\\n', 'Jaja\\n', 'Rina\\n']\n"
          ]
        }
      ],
      "source": [
        "#Membuat file dengan nama data. \\n adalah karakter untuk baris baru\n",
        "data = ['Sinta\\n', 'Jaja\\n', 'Rina\\n']\n",
        "f = open('data.txt', 'w')\n",
        "f.writelines(data)\n",
        "\n",
        "#Membaca file\n",
        "f = open('data.txt')\n",
        "print (f.readlines())\n",
        "f.close()"
      ]
    }
  ],
  "metadata": {
    "kernelspec": {
      "display_name": "Python 3 (ipykernel)",
      "language": "python",
      "name": "python3"
    },
    "language_info": {
      "codemirror_mode": {
        "name": "ipython",
        "version": 3
      },
      "file_extension": ".py",
      "mimetype": "text/x-python",
      "name": "python",
      "nbconvert_exporter": "python",
      "pygments_lexer": "ipython3",
      "version": "3.9.12"
    },
    "colab": {
      "provenance": [],
      "include_colab_link": true
    }
  },
  "nbformat": 4,
  "nbformat_minor": 0
}