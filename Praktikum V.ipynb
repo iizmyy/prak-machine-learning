{
 "cells": [
  {
   "cell_type": "markdown",
   "id": "b768699a",
   "metadata": {},
   "source": [
    "### Regresi Linear Sederhana"
   ]
  },
  {
   "cell_type": "code",
   "execution_count": 3,
   "id": "da3ee5e0",
   "metadata": {},
   "outputs": [
    {
     "data": {
      "text/html": [
       "<div>\n",
       "<style scoped>\n",
       "    .dataframe tbody tr th:only-of-type {\n",
       "        vertical-align: middle;\n",
       "    }\n",
       "\n",
       "    .dataframe tbody tr th {\n",
       "        vertical-align: top;\n",
       "    }\n",
       "\n",
       "    .dataframe thead th {\n",
       "        text-align: right;\n",
       "    }\n",
       "</style>\n",
       "<table border=\"1\" class=\"dataframe\">\n",
       "  <thead>\n",
       "    <tr style=\"text-align: right;\">\n",
       "      <th></th>\n",
       "      <th>jam_belajar</th>\n",
       "      <th>nilai_ujian</th>\n",
       "    </tr>\n",
       "  </thead>\n",
       "  <tbody>\n",
       "    <tr>\n",
       "      <th>0</th>\n",
       "      <td>2.0</td>\n",
       "      <td>57</td>\n",
       "    </tr>\n",
       "    <tr>\n",
       "      <th>1</th>\n",
       "      <td>2.0</td>\n",
       "      <td>60</td>\n",
       "    </tr>\n",
       "    <tr>\n",
       "      <th>2</th>\n",
       "      <td>2.5</td>\n",
       "      <td>66</td>\n",
       "    </tr>\n",
       "    <tr>\n",
       "      <th>3</th>\n",
       "      <td>4.0</td>\n",
       "      <td>73</td>\n",
       "    </tr>\n",
       "    <tr>\n",
       "      <th>4</th>\n",
       "      <td>5.0</td>\n",
       "      <td>76</td>\n",
       "    </tr>\n",
       "    <tr>\n",
       "      <th>5</th>\n",
       "      <td>5.0</td>\n",
       "      <td>79</td>\n",
       "    </tr>\n",
       "    <tr>\n",
       "      <th>6</th>\n",
       "      <td>7.0</td>\n",
       "      <td>81</td>\n",
       "    </tr>\n",
       "    <tr>\n",
       "      <th>7</th>\n",
       "      <td>8.0</td>\n",
       "      <td>90</td>\n",
       "    </tr>\n",
       "    <tr>\n",
       "      <th>8</th>\n",
       "      <td>8.0</td>\n",
       "      <td>95</td>\n",
       "    </tr>\n",
       "    <tr>\n",
       "      <th>9</th>\n",
       "      <td>9.0</td>\n",
       "      <td>100</td>\n",
       "    </tr>\n",
       "  </tbody>\n",
       "</table>\n",
       "</div>"
      ],
      "text/plain": [
       "   jam_belajar  nilai_ujian\n",
       "0          2.0           57\n",
       "1          2.0           60\n",
       "2          2.5           66\n",
       "3          4.0           73\n",
       "4          5.0           76\n",
       "5          5.0           79\n",
       "6          7.0           81\n",
       "7          8.0           90\n",
       "8          8.0           95\n",
       "9          9.0          100"
      ]
     },
     "metadata": {},
     "output_type": "display_data"
    },
    {
     "data": {
      "text/plain": [
       "<AxesSubplot:title={'center':'Nilai Vs Lama Belajar'}, xlabel='jam_belajar', ylabel='nilai_ujian'>"
      ]
     },
     "execution_count": 3,
     "metadata": {},
     "output_type": "execute_result"
    },
    {
     "data": {
      "image/png": "[encoded data removed]",
      "text/plain": [
       "<Figure size 432x288 with 1 Axes>"
      ]
     },
     "metadata": {
      "needs_background": "light"
     },
     "output_type": "display_data"
    }
   ],
   "source": [
    "import pandas as pd\n",
    "import matplotlib.pyplot as plt\n",
    "\n",
    "nilai = {\n",
    "    \"jam_belajar\" : [2,2,2.5,4,5,5,7,8,8,9],\n",
    "    \"nilai_ujian\" : [57,60,66,73,76,79,81,90,95,100]\n",
    "}\n",
    "\n",
    "# Data Training\n",
    "df_nilai = pd.DataFrame(nilai)\n",
    "display(df_nilai)\n",
    "\n",
    "# Scatter Plot\n",
    "df_nilai.plot(kind='scatter', x='jam_belajar', y='nilai_ujian', title='Nilai Vs Lama Belajar')"
   ]
  },
  {
   "cell_type": "markdown",
   "id": "5cd4b24c",
   "metadata": {},
   "source": [
    "### Training Data dan Prediksi Nilai"
   ]
  },
  {
   "cell_type": "code",
   "execution_count": 24,
   "id": "cb7f11d6",
   "metadata": {},
   "outputs": [
    {
     "name": "stdout",
     "output_type": "stream",
     "text": [
      "Koefisien :  [5.32934132]\n",
      "Intercept :  49.72095808383234\n",
      "Model regresi : y= 49.72095808383234 + 5.329341317365269x\n",
      "\n",
      "Prediksi nilai ujian dengan jam belajar 3 jam : 65.70898203592814\n",
      "\n",
      "Hasil Prediksi 3 data uji\n",
      "   jam_belajar  prediksi_nilai_ujian\n",
      "0          3.0             65.708982\n",
      "1          3.5             68.373653\n",
      "2          6.0             81.697006\n"
     ]
    }
   ],
   "source": [
    "import numpy as np\n",
    "from sklearn import linear_model\n",
    "\n",
    "\n",
    "# Variabel bebas dan variabel target\n",
    "X = df_nilai[['jam_belajar']]\n",
    "y = df_nilai['nilai_ujian']\n",
    "\n",
    "# Membuat objek regresi linear\n",
    "regr_s = linear_model.LinearRegression()\n",
    "\n",
    "# Tranining model menggunakan data latih\n",
    "regr_s.fit(X.values, y)\n",
    "\n",
    "# Nilai koefisien dan nilai intercept\n",
    "print(\"Koefisien : \", regr_s.coef_)\n",
    "print(\"Intercept : \", regr_s.intercept_)\n",
    "print(\"Model regresi : y= {} + {}x\".format(regr_s.intercept_,regr_s.coef_[0]))\n",
    "\n",
    "# Memprediksi dengan satu data uji\n",
    "jam_belajar_uji = 3 \n",
    "nilai_ujian_pred = regr_s.predict([[jam_belajar_uji]])\n",
    "\n",
    "print(\"\\nPrediksi nilai ujian dengan jam belajar {} jam : {}\".format(jam_belajar_uji,nilai_ujian_pred[0]))\n",
    "\n",
    "# Memprediksi lebih dari satu data uji\n",
    "jam_belajar_uji = pd.DataFrame(np.array([[3],[3.5],[6]]), columns=['jam_belajar'])\n",
    "nilai_ujian_pred = regr_s.predict(jam_belajar_uji.values)\n",
    "\n",
    "# Hasil prediksi\n",
    "print(\"\\nHasil Prediksi 3 data uji\")\n",
    "jam_belajar_uji['prediksi_nilai_ujian'] = nilai_ujian_pred\n",
    "print(jam_belajar_uji)"
   ]
  },
  {
   "cell_type": "markdown",
   "id": "3f675087",
   "metadata": {},
   "source": [
    "### Membuat Regression Plot"
   ]
  },
  {
   "cell_type": "code",
   "execution_count": 25,
   "id": "ef3e3864",
   "metadata": {},
   "outputs": [
    {
     "data": {
      "text/plain": [
       "<seaborn.axisgrid.FacetGrid at 0x239365e6a60>"
      ]
     },
     "execution_count": 25,
     "metadata": {},
     "output_type": "execute_result"
    },
    {
     "data": {
      "image/png": "[encoded data removed]",
      "text/plain": [
       "<Figure size 360x360 with 1 Axes>"
      ]
     },
     "metadata": {
      "needs_background": "light"
     },
     "output_type": "display_data"
    }
   ],
   "source": [
    "import seaborn as sns\n",
    "\n",
    "#Regression Plot\n",
    "sns.lmplot(x=\"jam_belajar\", y=\"nilai_ujian\", data=df_nilai, line_kws={\"color\": \"C1\"}, ci=None)"
   ]
  },
  {
   "cell_type": "markdown",
   "id": "0128934a",
   "metadata": {},
   "source": [
    "### Regresi Linear Berganda"
   ]
  },
  {
   "cell_type": "code",
   "execution_count": 7,
   "id": "60e9f9a5",
   "metadata": {},
   "outputs": [
    {
     "data": {
      "text/html": [
       "<div>\n",
       "<style scoped>\n",
       "    .dataframe tbody tr th:only-of-type {\n",
       "        vertical-align: middle;\n",
       "    }\n",
       "\n",
       "    .dataframe tbody tr th {\n",
       "        vertical-align: top;\n",
       "    }\n",
       "\n",
       "    .dataframe thead th {\n",
       "        text-align: right;\n",
       "    }\n",
       "</style>\n",
       "<table border=\"1\" class=\"dataframe\">\n",
       "  <thead>\n",
       "    <tr style=\"text-align: right;\">\n",
       "      <th></th>\n",
       "      <th>LT</th>\n",
       "      <th>LB</th>\n",
       "      <th>JKT</th>\n",
       "      <th>JKM</th>\n",
       "      <th>GARASI</th>\n",
       "      <th>HARGA</th>\n",
       "    </tr>\n",
       "  </thead>\n",
       "  <tbody>\n",
       "    <tr>\n",
       "      <th>0</th>\n",
       "      <td>1100</td>\n",
       "      <td>700</td>\n",
       "      <td>5</td>\n",
       "      <td>6</td>\n",
       "      <td>ADA</td>\n",
       "      <td>28.00</td>\n",
       "    </tr>\n",
       "    <tr>\n",
       "      <th>1</th>\n",
       "      <td>824</td>\n",
       "      <td>800</td>\n",
       "      <td>4</td>\n",
       "      <td>4</td>\n",
       "      <td>ADA</td>\n",
       "      <td>19.00</td>\n",
       "    </tr>\n",
       "    <tr>\n",
       "      <th>2</th>\n",
       "      <td>500</td>\n",
       "      <td>400</td>\n",
       "      <td>4</td>\n",
       "      <td>3</td>\n",
       "      <td>ADA</td>\n",
       "      <td>4.70</td>\n",
       "    </tr>\n",
       "    <tr>\n",
       "      <th>3</th>\n",
       "      <td>251</td>\n",
       "      <td>300</td>\n",
       "      <td>5</td>\n",
       "      <td>4</td>\n",
       "      <td>ADA</td>\n",
       "      <td>4.90</td>\n",
       "    </tr>\n",
       "    <tr>\n",
       "      <th>4</th>\n",
       "      <td>1340</td>\n",
       "      <td>575</td>\n",
       "      <td>4</td>\n",
       "      <td>5</td>\n",
       "      <td>ADA</td>\n",
       "      <td>28.00</td>\n",
       "    </tr>\n",
       "    <tr>\n",
       "      <th>...</th>\n",
       "      <td>...</td>\n",
       "      <td>...</td>\n",
       "      <td>...</td>\n",
       "      <td>...</td>\n",
       "      <td>...</td>\n",
       "      <td>...</td>\n",
       "    </tr>\n",
       "    <tr>\n",
       "      <th>996</th>\n",
       "      <td>488</td>\n",
       "      <td>550</td>\n",
       "      <td>6</td>\n",
       "      <td>5</td>\n",
       "      <td>ADA</td>\n",
       "      <td>16.00</td>\n",
       "    </tr>\n",
       "    <tr>\n",
       "      <th>997</th>\n",
       "      <td>209</td>\n",
       "      <td>270</td>\n",
       "      <td>4</td>\n",
       "      <td>4</td>\n",
       "      <td>ADA</td>\n",
       "      <td>4.50</td>\n",
       "    </tr>\n",
       "    <tr>\n",
       "      <th>998</th>\n",
       "      <td>692</td>\n",
       "      <td>400</td>\n",
       "      <td>4</td>\n",
       "      <td>3</td>\n",
       "      <td>TIDAK ADA</td>\n",
       "      <td>29.00</td>\n",
       "    </tr>\n",
       "    <tr>\n",
       "      <th>999</th>\n",
       "      <td>102</td>\n",
       "      <td>140</td>\n",
       "      <td>4</td>\n",
       "      <td>3</td>\n",
       "      <td>TIDAK ADA</td>\n",
       "      <td>1.70</td>\n",
       "    </tr>\n",
       "    <tr>\n",
       "      <th>1000</th>\n",
       "      <td>63</td>\n",
       "      <td>110</td>\n",
       "      <td>3</td>\n",
       "      <td>3</td>\n",
       "      <td>TIDAK ADA</td>\n",
       "      <td>1.25</td>\n",
       "    </tr>\n",
       "  </tbody>\n",
       "</table>\n",
       "<p>1001 rows × 6 columns</p>\n",
       "</div>"
      ],
      "text/plain": [
       "        LT   LB  JKT  JKM     GARASI  HARGA\n",
       "0     1100  700    5    6        ADA  28.00\n",
       "1      824  800    4    4        ADA  19.00\n",
       "2      500  400    4    3        ADA   4.70\n",
       "3      251  300    5    4        ADA   4.90\n",
       "4     1340  575    4    5        ADA  28.00\n",
       "...    ...  ...  ...  ...        ...    ...\n",
       "996    488  550    6    5        ADA  16.00\n",
       "997    209  270    4    4        ADA   4.50\n",
       "998    692  400    4    3  TIDAK ADA  29.00\n",
       "999    102  140    4    3  TIDAK ADA   1.70\n",
       "1000    63  110    3    3  TIDAK ADA   1.25\n",
       "\n",
       "[1001 rows x 6 columns]"
      ]
     },
     "metadata": {},
     "output_type": "display_data"
    },
    {
     "name": "stdout",
     "output_type": "stream",
     "text": [
      "Koefisien :  [ 0.014667    0.01652276  0.49559178 -0.49559178]\n",
      "Intercept :  -0.3808873664996817\n",
      "\n",
      "Prediksi rumah LT=550, LB=700, Garasi=ADA : [19.74748779] M\n",
      "\n",
      "Hasil Prediksi data test 2\n",
      "      LT   LB  GRS_ADA  GRS_TIDAK ADA  HARGA  HARGA_PRED\n",
      "201  250  460        1              0   15.0   11.381925\n",
      "202  518  450        1              0   17.5   15.147453\n",
      "203  117  221        1              0    4.0    5.482274\n",
      "204  350  350        0              1    8.0   10.039937\n",
      "205  550  600        1              0   20.0   18.095211\n"
     ]
    }
   ],
   "source": [
    "import numpy as np\n",
    "import pandas as pd\n",
    "from sklearn import linear_model\n",
    "\n",
    "# Load dataset rumah jaksel\n",
    "df_rumah = pd.read_csv('HARGA RUMAH JAKSEL.csv')\n",
    "display(df_rumah)\n",
    "\n",
    "# Training Data\n",
    "rumah_X_train = df_rumah.loc[:200, ('LT','LB','GARASI')]\n",
    "rumah_X_train = pd.get_dummies(rumah_X_train, prefix='GRS',columns=['GARASI'])\n",
    "rumah_y_train = df_rumah.loc[:200,'HARGA']\n",
    "\n",
    "# Membuat objek regresi linier\n",
    "regr_b = linear_model.LinearRegression()\n",
    "\n",
    "# Training model dengan data latih\n",
    "regr_b.fit(rumah_X_train.values, rumah_y_train)\n",
    "\n",
    "# Nilai koefisien dan nilai intercept\n",
    "print(\"Koefisien : \", regr_b.coef_)\n",
    "print(\"Intercept : \", regr_b.intercept_)\n",
    "\n",
    "# Prediksi harga sebuah rumah dengan LT:550, LB:700, Garasi : ADA\n",
    "rumah_x_test1 = np.array([[550,700,1,0]])\n",
    "harga_rumah_pred = regr_b.predict(rumah_x_test1)\n",
    "print(\"\\nPrediksi rumah LT=550, LB=700, Garasi=ADA :\", harga_rumah_pred, \"M\")\n",
    "\n",
    "# Prediksi harga beberapa rumah\n",
    "rumah_X_test2 = df_rumah.loc[201:205, ('LT','LB','GARASI')]\n",
    "rumah_X_test2 = pd.get_dummies(rumah_X_test2, prefix='GRS',columns=['GARASI'])\n",
    "harga_rumah_pred = regr_b.predict(rumah_X_test2.values)\n",
    "\n",
    "# Hasil Prediksi dalam tabel\n",
    "print(\"\\nHasil Prediksi data test 2\")\n",
    "rumah_Y_test2 = df_rumah.loc[201:205, 'HARGA']\n",
    "rumah_test2 = pd.concat([rumah_X_test2, rumah_Y_test2], axis=1)\n",
    "rumah_test2['HARGA_PRED'] = harga_rumah_pred\n",
    "print(rumah_test2)"
   ]
  },
  {
   "cell_type": "markdown",
   "id": "f56ee9ad",
   "metadata": {},
   "source": [
    "### Latihan\n",
    "1. Tuliskan persamaan regresi untuk kasus pada regresi linear berganda\n",
    "2. Buat kode program untuk memprediksi harga rumah dengan kriteria berikut:\n",
    "#### Rumah I\n",
    "- LB : 100\n",
    "- LT : 70\n",
    "- GARASI : ADA\n",
    "#### Rumah II\n",
    "- LB : 100\n",
    "- LT : 120\n",
    "- GARASI : TIDAK\n",
    "\n",
    "Berapa prediksi harga rumah untuk kedua rumah tersebut ?"
   ]
  },
  {
   "cell_type": "code",
   "execution_count": null,
   "id": "f6032f3c",
   "metadata": {},
   "outputs": [],
   "source": []
  }
 ],
 "metadata": {
  "kernelspec": {
   "display_name": "Python 3 (ipykernel)",
   "language": "python",
   "name": "python3"
  },
  "language_info": {
   "codemirror_mode": {
    "name": "ipython",
    "version": 3
   },
   "file_extension": ".py",
   "mimetype": "text/x-python",
   "name": "python",
   "nbconvert_exporter": "python",
   "pygments_lexer": "ipython3",
   "version": "3.9.12"
  }
 },
 "nbformat": 4,
 "nbformat_minor": 5
}
