{
 "cells": [
  {
   "cell_type": "code",
   "execution_count": 1,
   "id": "8c9de0d4",
   "metadata": {},
   "outputs": [
    {
     "data": {
      "text/plain": [
       "array([1, 2, 3, 5, 6])"
      ]
     },
     "execution_count": 1,
     "metadata": {},
     "output_type": "execute_result"
    }
   ],
   "source": [
    "import numpy as np\n",
    "\n",
    "array1 = np.array([1,2,3,5,6])\n",
    "array1"
   ]
  },
  {
   "cell_type": "code",
   "execution_count": 2,
   "id": "92d47801",
   "metadata": {},
   "outputs": [
    {
     "name": "stdout",
     "output_type": "stream",
     "text": [
      "1 ganjil\n",
      "2 genap\n",
      "3 ganjil\n",
      "5 ganjil\n",
      "6 genap\n"
     ]
    }
   ],
   "source": [
    "for i in array1:\n",
    "    if i % 2 == 0:\n",
    "        print(i, \"genap\")\n",
    "    else:\n",
    "        print(i, \"ganjil\")"
   ]
  },
  {
   "cell_type": "code",
   "execution_count": null,
   "id": "7c7eff7d",
   "metadata": {},
   "outputs": [],
   "source": []
  }
 ],
 "metadata": {
  "kernelspec": {
   "display_name": "Python 3 (ipykernel)",
   "language": "python",
   "name": "python3"
  },
  "language_info": {
   "codemirror_mode": {
    "name": "ipython",
    "version": 3
   },
   "file_extension": ".py",
   "mimetype": "text/x-python",
   "name": "python",
   "nbconvert_exporter": "python",
   "pygments_lexer": "ipython3",
   "version": "3.9.12"
  }
 },
 "nbformat": 4,
 "nbformat_minor": 5
}
