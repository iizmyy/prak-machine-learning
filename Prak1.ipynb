{
 "cells": [
  {
   "cell_type": "markdown",
   "id": "64f6b0a3",
   "metadata": {},
   "source": [
    "### Program Pertama"
   ]
  },
  {
   "cell_type": "code",
   "execution_count": 1,
   "id": "eda0606c",
   "metadata": {},
   "outputs": [
    {
     "name": "stdout",
     "output_type": "stream",
     "text": [
      "Halo, Python\n"
     ]
    }
   ],
   "source": [
    "print(\"Halo, Python\")"
   ]
  },
  {
   "cell_type": "markdown",
   "id": "319ae188",
   "metadata": {},
   "source": [
    "### Kode Blok\n",
    "contoh indentation dan suites"
   ]
  },
  {
   "cell_type": "code",
   "execution_count": 2,
   "id": "fcfb85b1",
   "metadata": {},
   "outputs": [
    {
     "name": "stdout",
     "output_type": "stream",
     "text": [
      "Contoh Indentasi dan Suites\n",
      "x bernilai 1\n"
     ]
    }
   ],
   "source": [
    "# Contoh indentation yang benar\n",
    "print(\"Contoh Indentasi dan Suites\")\n",
    "x=1\n",
    "if(x==1):\n",
    "    print(\"x bernilai 1\")\n",
    "else:\n",
    "    print(\"x bernilai selain 1\")"
   ]
  },
  {
   "cell_type": "code",
   "execution_count": 3,
   "id": "38f19635",
   "metadata": {},
   "outputs": [
    {
     "ename": "IndentationError",
     "evalue": "expected an indented block (1565559973.py, line 5)",
     "output_type": "error",
     "traceback": [
      "\u001b[1;36m  Input \u001b[1;32mIn [3]\u001b[1;36m\u001b[0m\n\u001b[1;33m    print(\"x bernilai 1\")\u001b[0m\n\u001b[1;37m    ^\u001b[0m\n\u001b[1;31mIndentationError\u001b[0m\u001b[1;31m:\u001b[0m expected an indented block\n"
     ]
    }
   ],
   "source": [
    "# Contoh indentation yang salah\n",
    "print(\"Contoh Indentasi dan Suites\")\n",
    "x=1\n",
    "if(x==1):\n",
    "print(\"x bernilai 1\")\n",
    "else:\n",
    "print(\"x bernilai selain 1\")"
   ]
  },
  {
   "cell_type": "markdown",
   "id": "97207cc2",
   "metadata": {},
   "source": [
    "### Penggunaan Objek Data"
   ]
  },
  {
   "cell_type": "code",
   "execution_count": 7,
   "id": "c124c76f",
   "metadata": {},
   "outputs": [
    {
     "name": "stdout",
     "output_type": "stream",
     "text": [
      "<class 'bool'> True\n",
      "<class 'float'> 3.14\n",
      "<class 'complex'> (2+8j)\n",
      "<class 'str'> Tipe String\n",
      "<class 'str'> Ini juga String\n"
     ]
    }
   ],
   "source": [
    "#boolean\n",
    "boolean = True\n",
    "\n",
    "#float\n",
    "Float = 3.14\n",
    "\n",
    "#complex\n",
    "kompleks = 2+8j\n",
    "\n",
    "#String\n",
    "string = 'Tipe String'\n",
    "string_lagi = \"Ini juga String\"\n",
    "\n",
    "print (type(boolean), boolean)\n",
    "print (type(Float), Float)\n",
    "print (type(kompleks), kompleks)\n",
    "print (type(string), string)\n",
    "print (type(string_lagi), string_lagi)"
   ]
  },
  {
   "cell_type": "markdown",
   "id": "a94e040a",
   "metadata": {},
   "source": [
    "### Komentar"
   ]
  },
  {
   "cell_type": "code",
   "execution_count": 11,
   "id": "327caffb",
   "metadata": {},
   "outputs": [
    {
     "name": "stdout",
     "output_type": "stream",
     "text": [
      "Komentar\n"
     ]
    }
   ],
   "source": [
    "#Komentar satu baris\n",
    "\n",
    "\"\"\"Komentar baris 1\n",
    "Komentar baris 2\"\"\"\n",
    "\n",
    "print(\"Komentar\")"
   ]
  },
  {
   "cell_type": "markdown",
   "id": "65ddc1c7",
   "metadata": {},
   "source": [
    "### Operator Dasar "
   ]
  },
  {
   "cell_type": "code",
   "execution_count": 21,
   "id": "5da7c3b0",
   "metadata": {},
   "outputs": [
    {
     "name": "stdout",
     "output_type": "stream",
     "text": [
      "Operator Aritmatika\n",
      "Penjumlahan x + y =  15\n",
      "Penjumlahan x - y =  5\n",
      "Penjumlahan x ** y =  100000\n",
      "\n",
      "Operator Relasi\n",
      "x == y False\n",
      "x != y True\n",
      "x < y False\n",
      "x >= y True\n",
      "\n",
      "Operator Logika\n",
      "70 >=80 and 70 <=100 adalah False\n",
      "70 >=80 or 70 <=100 adalah True\n",
      "not 70>=80 adalah True\n",
      "\n",
      "Operator Keanggotaan\n",
      "Huruf j ada di Makassar ?  False\n",
      "Huruf j tidak ada di Makassar ?  True\n"
     ]
    }
   ],
   "source": [
    "print (\"Operator Aritmatika\")\n",
    "x = 10\n",
    "y = 5\n",
    "\n",
    "#penjumlahan\n",
    "print (\"Penjumlahan x + y = \", x + y)\n",
    "\n",
    "#pengurangan\n",
    "print (\"Penjumlahan x - y = \", x - y)\n",
    "\n",
    "#eksponen\n",
    "print (\"Penjumlahan x ** y = \", x**y)\n",
    "\n",
    "x = 10\n",
    "y = 5\n",
    "\n",
    "print (\"\\nOperator Relasi\")\n",
    "# operasi sama dengan\n",
    "print (\"x == y\", x == y)\n",
    "\n",
    "#operasi tidak sama dengan\n",
    "print (\"x != y\", x != y)\n",
    "\n",
    "#operasi kurang dari\n",
    "print (\"x < y\", x < y)\n",
    "\n",
    "#operasi lebih besar atau sama dengan\n",
    "print (\"x >= y\", x >= y)\n",
    "\n",
    "print (\"\\nOperator Logika\")\n",
    "nilai = 70\n",
    "\n",
    "print (\"70 >=80 and 70 <=100 adalah\", (nilai >= 80) and (nilai <= 100))\n",
    "print (\"70 >=80 or 70 <=100 adalah\", (nilai >= 80) or (nilai <= 100))\n",
    "print (\"not 70>=80 adalah\", not (nilai >= 80))\n",
    "\n",
    "print (\"\\nOperator Keanggotaan\")\n",
    "kota = \"Makassar\"\n",
    "print (\"Huruf j ada di Makassar ? \",'j' in kota)\n",
    "print (\"Huruf j tidak ada di Makassar ? \",'j' not in kota)"
   ]
  },
  {
   "cell_type": "markdown",
   "id": "bba080bd",
   "metadata": {},
   "source": [
    "### Struktur Kontrol : Seleksi"
   ]
  },
  {
   "cell_type": "code",
   "execution_count": 22,
   "id": "77a79bcc",
   "metadata": {},
   "outputs": [
    {
     "name": "stdout",
     "output_type": "stream",
     "text": [
      "5 adalah bilangan ganjil\n"
     ]
    }
   ],
   "source": [
    "# Seleksi dua kondisi\n",
    "angka = 5\n",
    "if (angka % 2 == 0) :\n",
    "    print (angka, \"adalah bilangan genap\")\n",
    "else :\n",
    "    print (angka, \"adalah bilangan ganjil\")"
   ]
  },
  {
   "cell_type": "code",
   "execution_count": 23,
   "id": "a48474a3",
   "metadata": {},
   "outputs": [
    {
     "name": "stdout",
     "output_type": "stream",
     "text": [
      "B\n"
     ]
    }
   ],
   "source": [
    "# Seleksi bersarang\n",
    "nilai = 75\n",
    "    \n",
    "if nilai >=80 :\n",
    "    print (\"A\")\n",
    "elif nilai >=70 :\n",
    "    print (\"B\")\n",
    "elif nilai >=60 :\n",
    "    print (\"C\")\n",
    "elif nilai >=50 :\n",
    "    nilai (\"D\")\n",
    "else :\n",
    "    nilai (\"E\")"
   ]
  },
  {
   "cell_type": "markdown",
   "id": "2412ae1a",
   "metadata": {},
   "source": [
    "### Struktur Kontrol : Perulangan"
   ]
  },
  {
   "cell_type": "code",
   "execution_count": 24,
   "id": "459bf3d6",
   "metadata": {},
   "outputs": [
    {
     "name": "stdout",
     "output_type": "stream",
     "text": [
      "Mencetak semua huruf dengan for\n",
      "A\n",
      "B\n",
      "C\n",
      "D\n",
      "E\n",
      "Menjumlahkan seluruh nilai dalam nilai1 menggunakan while\n",
      "Jumlah nilai pada nilai1 adalah  25\n"
     ]
    }
   ],
   "source": [
    "huruf = ['A', 'B', 'C', 'D', 'E']\n",
    "\n",
    "#Perulangan dengan for\n",
    "print(\"Mencetak semua huruf dengan for\")\n",
    "for h in huruf :\n",
    "    print (h)\n",
    "\n",
    "#Perulangan dengan while\n",
    "print(\"Menjumlahkan seluruh nilai dalam nilai1 menggunakan while\")\n",
    "nilai1 = [1,3,4,8,9]\n",
    "i = 0\n",
    "jumlah = 0\n",
    "while (i < len(nilai1)):\n",
    "    jumlah += nilai1[i]\n",
    "    i+=1\n",
    "print(\"Jumlah nilai pada nilai1 adalah \", jumlah)"
   ]
  },
  {
   "cell_type": "code",
   "execution_count": 25,
   "id": "eb07c0bc",
   "metadata": {},
   "outputs": [
    {
     "name": "stdout",
     "output_type": "stream",
     "text": [
      "Enter your name:izmy\n",
      "Hello, izmy\n"
     ]
    }
   ],
   "source": [
    "x = input('Enter your name:')\n",
    "print('Hello, ' + x)"
   ]
  }
 ],
 "metadata": {
  "kernelspec": {
   "display_name": "Python 3 (ipykernel)",
   "language": "python",
   "name": "python3"
  },
  "language_info": {
   "codemirror_mode": {
    "name": "ipython",
    "version": 3
   },
   "file_extension": ".py",
   "mimetype": "text/x-python",
   "name": "python",
   "nbconvert_exporter": "python",
   "pygments_lexer": "ipython3",
   "version": "3.9.12"
  }
 },
 "nbformat": 4,
 "nbformat_minor": 5
}
