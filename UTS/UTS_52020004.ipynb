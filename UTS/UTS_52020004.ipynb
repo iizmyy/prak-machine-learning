{
  "nbformat": 4,
  "nbformat_minor": 0,
  "metadata": {
    "colab": {
      "provenance": []
    },
    "kernelspec": {
      "name": "python3",
      "display_name": "Python 3"
    },
    "language_info": {
      "name": "python"
    }
  },
  "cells": [
    {
      "cell_type": "code",
      "execution_count": 1,
      "metadata": {
        "colab": {
          "base_uri": "https://localhost:8080/",
          "height": 72
        },
        "id": "j9Ie1s0KwEvW",
        "outputId": "a9d4aa36-7cfa-4f57-ae74-bcb72bf5db44"
      },
      "outputs": [
        {
          "output_type": "display_data",
          "data": {
            "text/plain": [
              "<IPython.core.display.HTML object>"
            ],
            "text/html": [
              "\n",
              "     <input type=\"file\" id=\"files-965ac79c-aa7c-4d5e-966c-2a5b0a74c1e5\" name=\"files[]\" multiple disabled\n",
              "        style=\"border:none\" />\n",
              "     <output id=\"result-965ac79c-aa7c-4d5e-966c-2a5b0a74c1e5\">\n",
              "      Upload widget is only available when the cell has been executed in the\n",
              "      current browser session. Please rerun this cell to enable.\n",
              "      </output>\n",
              "      <script>// Copyright 2017 Google LLC\n",
              "//\n",
              "// Licensed under the Apache License, Version 2.0 (the \"License\");\n",
              "// you may not use this file except in compliance with the License.\n",
              "// You may obtain a copy of the License at\n",
              "//\n",
              "//      http://www.apache.org/licenses/LICENSE-2.0\n",
              "//\n",
              "// Unless required by applicable law or agreed to in writing, software\n",
              "// distributed under the License is distributed on an \"AS IS\" BASIS,\n",
              "// WITHOUT WARRANTIES OR CONDITIONS OF ANY KIND, either express or implied.\n",
              "// See the License for the specific language governing permissions and\n",
              "// limitations under the License.\n",
              "\n",
              "/**\n",
              " * @fileoverview Helpers for google.colab Python module.\n",
              " */\n",
              "(function(scope) {\n",
              "function span(text, styleAttributes = {}) {\n",
              "  const element = document.createElement('span');\n",
              "  element.textContent = text;\n",
              "  for (const key of Object.keys(styleAttributes)) {\n",
              "    element.style[key] = styleAttributes[key];\n",
              "  }\n",
              "  return element;\n",
              "}\n",
              "\n",
              "// Max number of bytes which will be uploaded at a time.\n",
              "const MAX_PAYLOAD_SIZE = 100 * 1024;\n",
              "\n",
              "function _uploadFiles(inputId, outputId) {\n",
              "  const steps = uploadFilesStep(inputId, outputId);\n",
              "  const outputElement = document.getElementById(outputId);\n",
              "  // Cache steps on the outputElement to make it available for the next call\n",
              "  // to uploadFilesContinue from Python.\n",
              "  outputElement.steps = steps;\n",
              "\n",
              "  return _uploadFilesContinue(outputId);\n",
              "}\n",
              "\n",
              "// This is roughly an async generator (not supported in the browser yet),\n",
              "// where there are multiple asynchronous steps and the Python side is going\n",
              "// to poll for completion of each step.\n",
              "// This uses a Promise to block the python side on completion of each step,\n",
              "// then passes the result of the previous step as the input to the next step.\n",
              "function _uploadFilesContinue(outputId) {\n",
              "  const outputElement = document.getElementById(outputId);\n",
              "  const steps = outputElement.steps;\n",
              "\n",
              "  const next = steps.next(outputElement.lastPromiseValue);\n",
              "  return Promise.resolve(next.value.promise).then((value) => {\n",
              "    // Cache the last promise value to make it available to the next\n",
              "    // step of the generator.\n",
              "    outputElement.lastPromiseValue = value;\n",
              "    return next.value.response;\n",
              "  });\n",
              "}\n",
              "\n",
              "/**\n",
              " * Generator function which is called between each async step of the upload\n",
              " * process.\n",
              " * @param {string} inputId Element ID of the input file picker element.\n",
              " * @param {string} outputId Element ID of the output display.\n",
              " * @return {!Iterable<!Object>} Iterable of next steps.\n",
              " */\n",
              "function* uploadFilesStep(inputId, outputId) {\n",
              "  const inputElement = document.getElementById(inputId);\n",
              "  inputElement.disabled = false;\n",
              "\n",
              "  const outputElement = document.getElementById(outputId);\n",
              "  outputElement.innerHTML = '';\n",
              "\n",
              "  const pickedPromise = new Promise((resolve) => {\n",
              "    inputElement.addEventListener('change', (e) => {\n",
              "      resolve(e.target.files);\n",
              "    });\n",
              "  });\n",
              "\n",
              "  const cancel = document.createElement('button');\n",
              "  inputElement.parentElement.appendChild(cancel);\n",
              "  cancel.textContent = 'Cancel upload';\n",
              "  const cancelPromise = new Promise((resolve) => {\n",
              "    cancel.onclick = () => {\n",
              "      resolve(null);\n",
              "    };\n",
              "  });\n",
              "\n",
              "  // Wait for the user to pick the files.\n",
              "  const files = yield {\n",
              "    promise: Promise.race([pickedPromise, cancelPromise]),\n",
              "    response: {\n",
              "      action: 'starting',\n",
              "    }\n",
              "  };\n",
              "\n",
              "  cancel.remove();\n",
              "\n",
              "  // Disable the input element since further picks are not allowed.\n",
              "  inputElement.disabled = true;\n",
              "\n",
              "  if (!files) {\n",
              "    return {\n",
              "      response: {\n",
              "        action: 'complete',\n",
              "      }\n",
              "    };\n",
              "  }\n",
              "\n",
              "  for (const file of files) {\n",
              "    const li = document.createElement('li');\n",
              "    li.append(span(file.name, {fontWeight: 'bold'}));\n",
              "    li.append(span(\n",
              "        `(${file.type || 'n/a'}) - ${file.size} bytes, ` +\n",
              "        `last modified: ${\n",
              "            file.lastModifiedDate ? file.lastModifiedDate.toLocaleDateString() :\n",
              "                                    'n/a'} - `));\n",
              "    const percent = span('0% done');\n",
              "    li.appendChild(percent);\n",
              "\n",
              "    outputElement.appendChild(li);\n",
              "\n",
              "    const fileDataPromise = new Promise((resolve) => {\n",
              "      const reader = new FileReader();\n",
              "      reader.onload = (e) => {\n",
              "        resolve(e.target.result);\n",
              "      };\n",
              "      reader.readAsArrayBuffer(file);\n",
              "    });\n",
              "    // Wait for the data to be ready.\n",
              "    let fileData = yield {\n",
              "      promise: fileDataPromise,\n",
              "      response: {\n",
              "        action: 'continue',\n",
              "      }\n",
              "    };\n",
              "\n",
              "    // Use a chunked sending to avoid message size limits. See b/62115660.\n",
              "    let position = 0;\n",
              "    do {\n",
              "      const length = Math.min(fileData.byteLength - position, MAX_PAYLOAD_SIZE);\n",
              "      const chunk = new Uint8Array(fileData, position, length);\n",
              "      position += length;\n",
              "\n",
              "      const base64 = btoa(String.fromCharCode.apply(null, chunk));\n",
              "      yield {\n",
              "        response: {\n",
              "          action: 'append',\n",
              "          file: file.name,\n",
              "          data: base64,\n",
              "        },\n",
              "      };\n",
              "\n",
              "      let percentDone = fileData.byteLength === 0 ?\n",
              "          100 :\n",
              "          Math.round((position / fileData.byteLength) * 100);\n",
              "      percent.textContent = `${percentDone}% done`;\n",
              "\n",
              "    } while (position < fileData.byteLength);\n",
              "  }\n",
              "\n",
              "  // All done.\n",
              "  yield {\n",
              "    response: {\n",
              "      action: 'complete',\n",
              "    }\n",
              "  };\n",
              "}\n",
              "\n",
              "scope.google = scope.google || {};\n",
              "scope.google.colab = scope.google.colab || {};\n",
              "scope.google.colab._files = {\n",
              "  _uploadFiles,\n",
              "  _uploadFilesContinue,\n",
              "};\n",
              "})(self);\n",
              "</script> "
            ]
          },
          "metadata": {}
        },
        {
          "output_type": "stream",
          "name": "stdout",
          "text": [
            "Saving top_insta_influencers_data.csv to top_insta_influencers_data.csv\n"
          ]
        }
      ],
      "source": [
        "from google.colab import files\n",
        "uploaded = files.upload()\n",
        "# Permisi bu, File csv yang digunakan sudah diedit\n",
        "# Data file csv menggunakan 3.3k, jadi banyak error, saya edit filenya dan ubah semua data yang ada \"k\" dan \"m\" menjadi angka biasa"
      ]
    },
    {
      "cell_type": "code",
      "source": [
        "import numpy as np\n",
        "import pandas as pd\n",
        "from sklearn import linear_model\n",
        "\n",
        "# Load dataset influencer instagram\n",
        "df_influencer = pd.read_csv('top_insta_influencers_data.csv')"
      ],
      "metadata": {
        "id": "juS4W2zcwWm6"
      },
      "execution_count": 14,
      "outputs": []
    },
    {
      "cell_type": "code",
      "source": [
        "# Training Data\n",
        "influencer_X_train = df_influencer.loc[:200, ['posts', 'followers', 'avg_likes']]\n",
        "influencer_X_train = pd.get_dummies(influencer_X_train, prefix='AL', columns=['avg_likes'])\n",
        "influencer_y_train = df_influencer.loc[:200, 'influence_score']\n",
        "\n",
        "# Membuat objek regresi linier\n",
        "regr_b = linear_model.LinearRegression()\n",
        "\n",
        "# Training model dengan data latih\n",
        "regr_b.fit(influencer_X_train.values, influencer_y_train)"
      ],
      "metadata": {
        "colab": {
          "base_uri": "https://localhost:8080/",
          "height": 74
        },
        "id": "eMqIVWcrxDzQ",
        "outputId": "6318b74e-5be8-4230-82b8-b98f04549bab"
      },
      "execution_count": 15,
      "outputs": [
        {
          "output_type": "execute_result",
          "data": {
            "text/plain": [
              "LinearRegression()"
            ],
            "text/html": [
              "<style>#sk-container-id-2 {color: black;background-color: white;}#sk-container-id-2 pre{padding: 0;}#sk-container-id-2 div.sk-toggleable {background-color: white;}#sk-container-id-2 label.sk-toggleable__label {cursor: pointer;display: block;width: 100%;margin-bottom: 0;padding: 0.3em;box-sizing: border-box;text-align: center;}#sk-container-id-2 label.sk-toggleable__label-arrow:before {content: \"▸\";float: left;margin-right: 0.25em;color: #696969;}#sk-container-id-2 label.sk-toggleable__label-arrow:hover:before {color: black;}#sk-container-id-2 div.sk-estimator:hover label.sk-toggleable__label-arrow:before {color: black;}#sk-container-id-2 div.sk-toggleable__content {max-height: 0;max-width: 0;overflow: hidden;text-align: left;background-color: #f0f8ff;}#sk-container-id-2 div.sk-toggleable__content pre {margin: 0.2em;color: black;border-radius: 0.25em;background-color: #f0f8ff;}#sk-container-id-2 input.sk-toggleable__control:checked~div.sk-toggleable__content {max-height: 200px;max-width: 100%;overflow: auto;}#sk-container-id-2 input.sk-toggleable__control:checked~label.sk-toggleable__label-arrow:before {content: \"▾\";}#sk-container-id-2 div.sk-estimator input.sk-toggleable__control:checked~label.sk-toggleable__label {background-color: #d4ebff;}#sk-container-id-2 div.sk-label input.sk-toggleable__control:checked~label.sk-toggleable__label {background-color: #d4ebff;}#sk-container-id-2 input.sk-hidden--visually {border: 0;clip: rect(1px 1px 1px 1px);clip: rect(1px, 1px, 1px, 1px);height: 1px;margin: -1px;overflow: hidden;padding: 0;position: absolute;width: 1px;}#sk-container-id-2 div.sk-estimator {font-family: monospace;background-color: #f0f8ff;border: 1px dotted black;border-radius: 0.25em;box-sizing: border-box;margin-bottom: 0.5em;}#sk-container-id-2 div.sk-estimator:hover {background-color: #d4ebff;}#sk-container-id-2 div.sk-parallel-item::after {content: \"\";width: 100%;border-bottom: 1px solid gray;flex-grow: 1;}#sk-container-id-2 div.sk-label:hover label.sk-toggleable__label {background-color: #d4ebff;}#sk-container-id-2 div.sk-serial::before {content: \"\";position: absolute;border-left: 1px solid gray;box-sizing: border-box;top: 0;bottom: 0;left: 50%;z-index: 0;}#sk-container-id-2 div.sk-serial {display: flex;flex-direction: column;align-items: center;background-color: white;padding-right: 0.2em;padding-left: 0.2em;position: relative;}#sk-container-id-2 div.sk-item {position: relative;z-index: 1;}#sk-container-id-2 div.sk-parallel {display: flex;align-items: stretch;justify-content: center;background-color: white;position: relative;}#sk-container-id-2 div.sk-item::before, #sk-container-id-2 div.sk-parallel-item::before {content: \"\";position: absolute;border-left: 1px solid gray;box-sizing: border-box;top: 0;bottom: 0;left: 50%;z-index: -1;}#sk-container-id-2 div.sk-parallel-item {display: flex;flex-direction: column;z-index: 1;position: relative;background-color: white;}#sk-container-id-2 div.sk-parallel-item:first-child::after {align-self: flex-end;width: 50%;}#sk-container-id-2 div.sk-parallel-item:last-child::after {align-self: flex-start;width: 50%;}#sk-container-id-2 div.sk-parallel-item:only-child::after {width: 0;}#sk-container-id-2 div.sk-dashed-wrapped {border: 1px dashed gray;margin: 0 0.4em 0.5em 0.4em;box-sizing: border-box;padding-bottom: 0.4em;background-color: white;}#sk-container-id-2 div.sk-label label {font-family: monospace;font-weight: bold;display: inline-block;line-height: 1.2em;}#sk-container-id-2 div.sk-label-container {text-align: center;}#sk-container-id-2 div.sk-container {/* jupyter's `normalize.less` sets `[hidden] { display: none; }` but bootstrap.min.css set `[hidden] { display: none !important; }` so we also need the `!important` here to be able to override the default hidden behavior on the sphinx rendered scikit-learn.org. See: https://github.com/scikit-learn/scikit-learn/issues/21755 */display: inline-block !important;position: relative;}#sk-container-id-2 div.sk-text-repr-fallback {display: none;}</style><div id=\"sk-container-id-2\" class=\"sk-top-container\"><div class=\"sk-text-repr-fallback\"><pre>LinearRegression()</pre><b>In a Jupyter environment, please rerun this cell to show the HTML representation or trust the notebook. <br />On GitHub, the HTML representation is unable to render, please try loading this page with nbviewer.org.</b></div><div class=\"sk-container\" hidden><div class=\"sk-item\"><div class=\"sk-estimator sk-toggleable\"><input class=\"sk-toggleable__control sk-hidden--visually\" id=\"sk-estimator-id-2\" type=\"checkbox\" checked><label for=\"sk-estimator-id-2\" class=\"sk-toggleable__label sk-toggleable__label-arrow\">LinearRegression</label><div class=\"sk-toggleable__content\"><pre>LinearRegression()</pre></div></div></div></div></div>"
            ]
          },
          "metadata": {},
          "execution_count": 15
        }
      ]
    },
    {
      "cell_type": "code",
      "source": [
        "# Nilai koefisien dan nilai intercept\n",
        "print(\"Koefisien : \", regr_b.coef_)\n",
        "print(\"Intercept : \", regr_b.intercept_)"
      ],
      "metadata": {
        "colab": {
          "base_uri": "https://localhost:8080/"
        },
        "id": "nRuYmTD5xILO",
        "outputId": "7deab695-6e42-4919-ee71-6963543e0ebf"
      },
      "execution_count": 16,
      "outputs": [
        {
          "output_type": "stream",
          "name": "stdout",
          "text": [
            "Koefisien :  [ 3.71222400e-04  4.46834177e-08  2.86129150e+00  1.66526032e+00\n",
            "  2.64027608e+00  3.60212851e+00  6.37657769e-01  5.06467234e-01\n",
            "  4.51163897e+00 -8.61260157e+00  3.01850046e+00  6.74812412e+00\n",
            "  2.04186019e+00  2.78944875e+00  2.30549232e+00 -4.96227459e+00\n",
            " -2.69438746e+00 -4.14260110e+00  1.93464384e+00 -3.22466379e+00\n",
            "  3.26164527e-01  3.94802497e+00 -5.22533179e+00  2.01860996e+00\n",
            "  2.71922211e+00 -2.86270421e+00  7.07450716e-02  5.56571375e+00\n",
            " -1.87954394e+00 -5.17433008e+00 -2.06698747e-01  2.28244588e+00\n",
            " -4.61103800e-01 -7.39959709e+00 -1.50109396e+00  3.83735761e+00\n",
            "  2.17441876e+00  2.49753054e+00 -1.55598905e+00  1.75726182e+00\n",
            " -3.23829379e+00  1.20136067e+00  6.02470255e+00  1.18063578e+00\n",
            " -8.10180292e+00  7.93375690e-01  5.39866777e+00  4.66481783e+00\n",
            "  1.09058675e+00 -4.68509654e+00  4.89843839e+00  2.61736770e+00\n",
            "  4.94174629e+00  1.00656163e-01 -3.15197761e+01  1.25959210e+00\n",
            " -3.74497504e+01  4.08735985e+00  1.49731310e+00  3.39075655e+00\n",
            "  4.19603160e+00  6.86130455e+00 -1.53592393e+00 -8.24180574e+00\n",
            "  3.44517723e+00  1.03710191e+00  2.78716472e+00 -1.70719000e+01\n",
            "  5.49708820e+00  4.41664164e+00  5.60731252e+00  6.74346440e+00\n",
            "  4.58815355e-01 -1.23286906e+00  1.12815807e+00  2.23308960e+00\n",
            "  3.85719374e+00  6.58242489e+00  3.00177771e+00  5.54519806e+00\n",
            " -2.85305178e+00  5.76040245e+00  5.11312801e+00  6.84641641e-01\n",
            "  3.82737351e-01 -4.01588642e+00 -3.00611709e+00  4.02398679e+00\n",
            " -3.81894360e+01 -4.14991281e+00  4.60821360e+00  4.05597275e+00\n",
            "  6.95264236e+00  5.02012695e+00 -3.43885759e-01  5.71100808e-01\n",
            "  4.24227446e+00  3.72693823e+00  3.08910505e+00  7.07539678e-01\n",
            "  1.48430315e+00  2.21404085e+00 -1.22525141e+01  9.37390305e-01\n",
            "  5.14734849e+00  5.75190732e-01 -1.43836255e+00  6.41524223e+00\n",
            "  1.17467650e+00  4.45367197e+00 -7.09787300e-01  3.21458326e+00\n",
            "  6.27101649e+00  4.81634767e+00  2.19834851e+00  3.27630132e-01\n",
            " -1.79075645e-01  2.16341413e+00  2.02506658e+00  4.17788126e-01\n",
            " -1.15140205e+01  8.45856079e-01  1.97679369e+00  4.13656392e+00\n",
            " -4.86224165e+00 -4.30244350e+00 -3.37503902e+00  1.50090036e+00\n",
            " -4.38996549e+00  1.14287715e-01 -3.20027785e+00 -4.82900694e+00\n",
            " -8.86134375e+00 -7.38990881e+00  4.40137430e+00  4.21583560e+00\n",
            "  3.87032942e+00]\n",
            "Intercept :  76.90450475435745\n"
          ]
        }
      ]
    },
    {
      "cell_type": "code",
      "source": [
        "# Prediksi influence score seorang influencer dengan posts:2450, followers:252000, avg_likes : 1500000\n",
        "influencer_x_test1 = df_influencer.loc[:0, ['posts', 'followers', 'avg_likes']]\n",
        "influencer_x_test1 = pd.get_dummies(influencer_x_test1, prefix='AL', columns=['avg_likes'])\n",
        "\n",
        "# Make sure the test data has the same columns as the training data\n",
        "# If there are missing one-hot-encoded columns, add them with zero values\n",
        "missing_cols = list(set(influencer_X_train.columns) - set(influencer_x_test1.columns))\n",
        "influencer_x_test1 = pd.concat([influencer_x_test1, pd.DataFrame(0, index=influencer_x_test1.index, columns=missing_cols)], axis=1)\n",
        "\n",
        "influence_score_pred = regr_b.predict(influencer_x_test1.values)\n",
        "print(\"\\nPrediksi posts:2450, followers:252000, avg_likes : 1500000 :\", influence_score_pred, \"M\")"
      ],
      "metadata": {
        "colab": {
          "base_uri": "https://localhost:8080/"
        },
        "id": "7kdMVTrvxPMk",
        "outputId": "647669a8-5697-4f65-dba4-739c3c85d79f"
      },
      "execution_count": 17,
      "outputs": [
        {
          "output_type": "stream",
          "name": "stdout",
          "text": [
            "\n",
            "Prediksi posts:2450, followers:252000, avg_likes : 1500000 : [102.25120031] M\n"
          ]
        }
      ]
    },
    {
      "cell_type": "code",
      "source": [
        "# Prediksi influence score beberapa influencer\n",
        "influencer_X_test2 = df_influencer.loc[101:105, ['posts', 'followers', 'avg_likes']]\n",
        "influencer_X_test2 = pd.get_dummies(influencer_X_test2, prefix='AL', columns=['avg_likes'])\n",
        "\n",
        "# Make sure the test data has the same columns as the training data\n",
        "# If there are missing one-hot-encoded columns, add them with zero values\n",
        "missing_cols_test2 = list(set(influencer_X_train.columns) - set(influencer_X_test2.columns))\n",
        "influencer_X_test2 = pd.concat([influencer_X_test2, pd.DataFrame(0, index=influencer_X_test2.index, columns=missing_cols_test2)], axis=1)\n",
        "\n",
        "influence_score_pred = regr_b.predict(influencer_X_test2.values)\n",
        "\n",
        "# Hasil Prediksi dalam tabel\n",
        "print(\"\\nHasil Prediksi data test 2\")\n",
        "influencer_Y_test2 = df_influencer.loc[101:105, 'influence_score']\n",
        "influencer_test2 = pd.concat([influencer_X_test2, influencer_Y_test2], axis=1)\n",
        "influencer_test2['influence_score_PRED'] = influence_score_pred\n",
        "print(influencer_test2)"
      ],
      "metadata": {
        "colab": {
          "base_uri": "https://localhost:8080/"
        },
        "id": "Kj3eQWsoxS-t",
        "outputId": "f48ef3ea-9881-4773-ecca-c332a8ff7250"
      },
      "execution_count": 18,
      "outputs": [
        {
          "output_type": "stream",
          "name": "stdout",
          "text": [
            "\n",
            "Hasil Prediksi data test 2\n",
            "     posts  followers  AL_115100  AL_356800  AL_2400000  AL_4200000  \\\n",
            "101   6400   49700000          0          1           0           0   \n",
            "102     60   49300000          0          0           0           0   \n",
            "103   2500   49200000          0          0           1           0   \n",
            "104    150   49100000          0          0           0           1   \n",
            "105   8900   49000000          1          0           0           0   \n",
            "\n",
            "     AL_15400000  AL_264700  AL_996200  AL_1800000  ...  AL_597200  AL_505700  \\\n",
            "101            0          0          0           0  ...          0          0   \n",
            "102            1          0          0           0  ...          0          0   \n",
            "103            0          0          0           0  ...          0          0   \n",
            "104            0          0          0           0  ...          0          0   \n",
            "105            0          0          0           0  ...          0          0   \n",
            "\n",
            "     AL_695400  AL_685100  AL_157400  AL_5500000  AL_2100000  AL_372400  \\\n",
            "101          0          0          0           0           0          0   \n",
            "102          0          0          0           0           0          0   \n",
            "103          0          0          0           0           0          0   \n",
            "104          0          0          0           0           0          0   \n",
            "105          0          0          0           0           0          0   \n",
            "\n",
            "     influence_score  influence_score_PRED  \n",
            "101               80             83.166354  \n",
            "102               83             79.767328  \n",
            "103               81             82.671261  \n",
            "104               80             82.756272  \n",
            "105               86             85.259163  \n",
            "\n",
            "[5 rows x 139 columns]\n"
          ]
        }
      ]
    }
  ]
}