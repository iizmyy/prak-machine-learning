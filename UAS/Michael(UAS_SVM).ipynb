{
  "nbformat": 4,
  "nbformat_minor": 0,
  "metadata": {
    "colab": {
      "provenance": []
    },
    "kernelspec": {
      "name": "python3",
      "display_name": "Python 3"
    },
    "language_info": {
      "name": "python"
    }
  },
  "cells": [
    {
      "cell_type": "code",
      "execution_count": 19,
      "metadata": {
        "id": "bMZrG0E7Mdv1"
      },
      "outputs": [],
      "source": [
        "from sklearn import datasets\n",
        "import numpy as np\n",
        "import pandas as pd"
      ]
    },
    {
      "cell_type": "code",
      "source": [
        "# data = pd.read_csv('sample_data/Job_Placement_Data.csv')\n",
        "# prediktor = ['hsc_subject','undergrad_degree','work_experience']\n",
        "# prediktor_dummies = pd.get_dummies(data[prediktor], prefix=['hsc_subject','undergrad_degree','work_experience'])\n",
        "# t = ['ssc_percentage']\n",
        "# X = data [prediktor_dummies]\n",
        "# y = data [\"status\"]\n",
        "data = pd.read_csv(\"sample_data/Job_Placement_Data.csv\")\n",
        "X = data.loc[:,('hsc_subject','undergrad_degree','work_experience')]\n",
        "X = pd.get_dummies(X, prefix=('hsc_subject','undergrad_degree','work_experience'), columns=['hsc_subject','undergrad_degree','work_experience'])\n",
        "y = data[\"status\"]\n",
        "print(\"Label kelas : \", np.unique(y))"
      ],
      "metadata": {
        "id": "Wdcin7uyNUYA",
        "colab": {
          "base_uri": "https://localhost:8080/"
        },
        "outputId": "d1f86d06-e874-48dc-ecf1-b9b77255d9f3"
      },
      "execution_count": 20,
      "outputs": [
        {
          "output_type": "stream",
          "name": "stdout",
          "text": [
            "Label kelas :  ['Not Placed' 'Placed']\n"
          ]
        }
      ]
    },
    {
      "cell_type": "code",
      "source": [
        "from sklearn.preprocessing import StandardScaler\n",
        "sc = StandardScaler()\n",
        "sc.fit(X)\n",
        "X = sc.transform(X)\n",
        "print(X[0:5,:])"
      ],
      "metadata": {
        "colab": {
          "base_uri": "https://localhost:8080/"
        },
        "id": "ufkwb5c_lx24",
        "outputId": "654e1dd8-fb5b-4954-96df-4bc38d76cda9"
      },
      "execution_count": 21,
      "outputs": [
        {
          "output_type": "stream",
          "name": "stdout",
          "text": [
            "[[-0.23221018  0.95008151 -0.85666269 -1.43924583 -0.23221018  1.62605898\n",
            "   0.72444647 -0.72444647]\n",
            " [-0.23221018 -1.05254128  1.16732059 -1.43924583 -0.23221018  1.62605898\n",
            "  -1.38036423  1.38036423]\n",
            " [ 4.30644338 -1.05254128 -0.85666269  0.69480833 -0.23221018 -0.61498384\n",
            "   0.72444647 -0.72444647]\n",
            " [-0.23221018 -1.05254128  1.16732059 -1.43924583 -0.23221018  1.62605898\n",
            "   0.72444647 -0.72444647]\n",
            " [-0.23221018  0.95008151 -0.85666269  0.69480833 -0.23221018 -0.61498384\n",
            "   0.72444647 -0.72444647]]\n"
          ]
        }
      ]
    },
    {
      "cell_type": "code",
      "source": [
        "from sklearn.model_selection import train_test_split\n",
        "X_train, X_test, y_train, y_test = train_test_split(X, y, test_size=0.3, random_state=0)\n",
        "print(\"X Training:\", X_train[0:5,:])\n",
        "print(\"y Training:\",y_train[0:5])"
      ],
      "metadata": {
        "colab": {
          "base_uri": "https://localhost:8080/"
        },
        "id": "IuuzYtexNaUe",
        "outputId": "7fa613c3-bf9f-48d3-e6d5-a6997d7e2ee2"
      },
      "execution_count": 22,
      "outputs": [
        {
          "output_type": "stream",
          "name": "stdout",
          "text": [
            "X Training: [[-0.23221018 -1.05254128  1.16732059 -1.43924583 -0.23221018  1.62605898\n",
            "   0.72444647 -0.72444647]\n",
            " [-0.23221018  0.95008151 -0.85666269  0.69480833 -0.23221018 -0.61498384\n",
            "   0.72444647 -0.72444647]\n",
            " [-0.23221018 -1.05254128  1.16732059 -1.43924583 -0.23221018  1.62605898\n",
            "   0.72444647 -0.72444647]\n",
            " [-0.23221018  0.95008151 -0.85666269  0.69480833 -0.23221018 -0.61498384\n",
            "   0.72444647 -0.72444647]\n",
            " [-0.23221018 -1.05254128  1.16732059  0.69480833 -0.23221018 -0.61498384\n",
            "  -1.38036423  1.38036423]]\n",
            "y Training: 111    Not Placed\n",
            "159    Not Placed\n",
            "24         Placed\n",
            "30         Placed\n",
            "60         Placed\n",
            "Name: status, dtype: object\n"
          ]
        }
      ]
    },
    {
      "cell_type": "code",
      "source": [
        "from sklearn.svm import SVC\n",
        "clf_svc = SVC(kernel='linear', C=1, random_state=0)\n",
        "clf_svc.fit(X_train, y_train)"
      ],
      "metadata": {
        "colab": {
          "base_uri": "https://localhost:8080/"
        },
        "id": "xDZHuT-7Ndvf",
        "outputId": "207eae08-b5aa-4e06-fa9b-3bfae70e4f09"
      },
      "execution_count": 23,
      "outputs": [
        {
          "output_type": "execute_result",
          "data": {
            "text/plain": [
              "SVC(C=1, kernel='linear', random_state=0)"
            ]
          },
          "metadata": {},
          "execution_count": 23
        }
      ]
    },
    {
      "cell_type": "code",
      "source": [
        "print(\"Koefisien model : \", clf_svc.coef_)\n",
        "print(\"Bias model : \", clf_svc.intercept_)\n",
        "print(\"Indeks Support Vector : \", clf_svc.support_)\n",
        "print(\"Support vector : \", clf_svc.support_vectors_)\n",
        "print(\"Jumlah support vector: \",clf_svc.n_support_)\n",
        "print(\"Nilai alpha : \", np.abs(clf_svc.dual_coef_))"
      ],
      "metadata": {
        "id": "nOzPrz4dN0QZ",
        "colab": {
          "base_uri": "https://localhost:8080/"
        },
        "outputId": "0d4a647d-e976-466d-fa31-137ed8645be9"
      },
      "execution_count": 24,
      "outputs": [
        {
          "output_type": "stream",
          "name": "stdout",
          "text": [
            "Koefisien model :  [[ 8.62389668e-06  1.33931676e-05 -1.73817937e-05  9.73154147e-02\n",
            "  -3.94886184e-01  9.27880177e-02  6.15949984e-08 -6.15949993e-08]]\n",
            "Bias model :  [0.89767742]\n",
            "Indeks Support Vector :  [  0   1   6   9  12  13  15  16  22  25  27  30  35  41  42  46  47  49\n",
            "  59  61  67  71  72  75  76  80  81  87  89  90  91  92  94  95 102 107\n",
            " 110 112 116 118 119 120 121 127 128 139 140 142   8  19  21  32  33  34\n",
            "  40  43  45  50  51  52  53  54  55  57  62  66  68  70  77  78  79  85\n",
            "  86  96  98  99 104 105 106 108 109 111 115 122 123 125 130 131 133 134\n",
            " 137 138 141 143 144 145 146 147 148 149]\n",
            "Support vector :  [[-0.23221018 -1.05254128  1.16732059 -1.43924583 -0.23221018  1.62605898\n",
            "   0.72444647 -0.72444647]\n",
            " [-0.23221018  0.95008151 -0.85666269  0.69480833 -0.23221018 -0.61498384\n",
            "   0.72444647 -0.72444647]\n",
            " [-0.23221018 -1.05254128  1.16732059 -1.43924583 -0.23221018  1.62605898\n",
            "  -1.38036423  1.38036423]\n",
            " [-0.23221018  0.95008151 -0.85666269  0.69480833 -0.23221018 -0.61498384\n",
            "   0.72444647 -0.72444647]\n",
            " [-0.23221018 -1.05254128  1.16732059 -1.43924583 -0.23221018  1.62605898\n",
            "   0.72444647 -0.72444647]\n",
            " [-0.23221018  0.95008151 -0.85666269  0.69480833 -0.23221018 -0.61498384\n",
            "   0.72444647 -0.72444647]\n",
            " [-0.23221018 -1.05254128  1.16732059 -1.43924583 -0.23221018  1.62605898\n",
            "   0.72444647 -0.72444647]\n",
            " [ 4.30644338 -1.05254128 -0.85666269  0.69480833 -0.23221018 -0.61498384\n",
            "  -1.38036423  1.38036423]\n",
            " [-0.23221018  0.95008151 -0.85666269  0.69480833 -0.23221018 -0.61498384\n",
            "   0.72444647 -0.72444647]\n",
            " [-0.23221018  0.95008151 -0.85666269  0.69480833 -0.23221018 -0.61498384\n",
            "   0.72444647 -0.72444647]\n",
            " [-0.23221018 -1.05254128  1.16732059  0.69480833 -0.23221018 -0.61498384\n",
            "   0.72444647 -0.72444647]\n",
            " [-0.23221018  0.95008151 -0.85666269  0.69480833 -0.23221018 -0.61498384\n",
            "   0.72444647 -0.72444647]\n",
            " [-0.23221018  0.95008151 -0.85666269  0.69480833 -0.23221018 -0.61498384\n",
            "   0.72444647 -0.72444647]\n",
            " [-0.23221018 -1.05254128  1.16732059  0.69480833 -0.23221018 -0.61498384\n",
            "   0.72444647 -0.72444647]\n",
            " [-0.23221018 -1.05254128  1.16732059  0.69480833 -0.23221018 -0.61498384\n",
            "   0.72444647 -0.72444647]\n",
            " [-0.23221018 -1.05254128  1.16732059 -1.43924583 -0.23221018  1.62605898\n",
            "   0.72444647 -0.72444647]\n",
            " [-0.23221018  0.95008151 -0.85666269  0.69480833 -0.23221018 -0.61498384\n",
            "   0.72444647 -0.72444647]\n",
            " [ 4.30644338 -1.05254128 -0.85666269 -1.43924583  4.30644338 -0.61498384\n",
            "  -1.38036423  1.38036423]\n",
            " [-0.23221018  0.95008151 -0.85666269  0.69480833 -0.23221018 -0.61498384\n",
            "  -1.38036423  1.38036423]\n",
            " [ 4.30644338 -1.05254128 -0.85666269 -1.43924583  4.30644338 -0.61498384\n",
            "   0.72444647 -0.72444647]\n",
            " [-0.23221018  0.95008151 -0.85666269  0.69480833 -0.23221018 -0.61498384\n",
            "  -1.38036423  1.38036423]\n",
            " [-0.23221018  0.95008151 -0.85666269  0.69480833 -0.23221018 -0.61498384\n",
            "   0.72444647 -0.72444647]\n",
            " [-0.23221018  0.95008151 -0.85666269 -1.43924583 -0.23221018  1.62605898\n",
            "   0.72444647 -0.72444647]\n",
            " [-0.23221018 -1.05254128  1.16732059  0.69480833 -0.23221018 -0.61498384\n",
            "   0.72444647 -0.72444647]\n",
            " [-0.23221018  0.95008151 -0.85666269  0.69480833 -0.23221018 -0.61498384\n",
            "   0.72444647 -0.72444647]\n",
            " [-0.23221018  0.95008151 -0.85666269  0.69480833 -0.23221018 -0.61498384\n",
            "   0.72444647 -0.72444647]\n",
            " [-0.23221018  0.95008151 -0.85666269  0.69480833 -0.23221018 -0.61498384\n",
            "   0.72444647 -0.72444647]\n",
            " [-0.23221018 -1.05254128  1.16732059  0.69480833 -0.23221018 -0.61498384\n",
            "   0.72444647 -0.72444647]\n",
            " [-0.23221018 -1.05254128  1.16732059  0.69480833 -0.23221018 -0.61498384\n",
            "   0.72444647 -0.72444647]\n",
            " [-0.23221018 -1.05254128  1.16732059  0.69480833 -0.23221018 -0.61498384\n",
            "   0.72444647 -0.72444647]\n",
            " [-0.23221018 -1.05254128  1.16732059 -1.43924583  4.30644338 -0.61498384\n",
            "   0.72444647 -0.72444647]\n",
            " [-0.23221018 -1.05254128  1.16732059 -1.43924583 -0.23221018  1.62605898\n",
            "   0.72444647 -0.72444647]\n",
            " [-0.23221018  0.95008151 -0.85666269  0.69480833 -0.23221018 -0.61498384\n",
            "   0.72444647 -0.72444647]\n",
            " [-0.23221018  0.95008151 -0.85666269  0.69480833 -0.23221018 -0.61498384\n",
            "   0.72444647 -0.72444647]\n",
            " [-0.23221018 -1.05254128  1.16732059 -1.43924583  4.30644338 -0.61498384\n",
            "   0.72444647 -0.72444647]\n",
            " [-0.23221018 -1.05254128  1.16732059 -1.43924583 -0.23221018  1.62605898\n",
            "   0.72444647 -0.72444647]\n",
            " [-0.23221018  0.95008151 -0.85666269  0.69480833 -0.23221018 -0.61498384\n",
            "   0.72444647 -0.72444647]\n",
            " [-0.23221018 -1.05254128  1.16732059 -1.43924583 -0.23221018  1.62605898\n",
            "  -1.38036423  1.38036423]\n",
            " [-0.23221018  0.95008151 -0.85666269  0.69480833 -0.23221018 -0.61498384\n",
            "   0.72444647 -0.72444647]\n",
            " [-0.23221018  0.95008151 -0.85666269 -1.43924583 -0.23221018  1.62605898\n",
            "   0.72444647 -0.72444647]\n",
            " [-0.23221018  0.95008151 -0.85666269  0.69480833 -0.23221018 -0.61498384\n",
            "   0.72444647 -0.72444647]\n",
            " [-0.23221018 -1.05254128  1.16732059 -1.43924583 -0.23221018  1.62605898\n",
            "   0.72444647 -0.72444647]\n",
            " [-0.23221018 -1.05254128  1.16732059 -1.43924583 -0.23221018  1.62605898\n",
            "   0.72444647 -0.72444647]\n",
            " [-0.23221018  0.95008151 -0.85666269  0.69480833 -0.23221018 -0.61498384\n",
            "  -1.38036423  1.38036423]\n",
            " [-0.23221018  0.95008151 -0.85666269  0.69480833 -0.23221018 -0.61498384\n",
            "   0.72444647 -0.72444647]\n",
            " [-0.23221018 -1.05254128  1.16732059 -1.43924583  4.30644338 -0.61498384\n",
            "   0.72444647 -0.72444647]\n",
            " [-0.23221018  0.95008151 -0.85666269  0.69480833 -0.23221018 -0.61498384\n",
            "   0.72444647 -0.72444647]\n",
            " [-0.23221018  0.95008151 -0.85666269  0.69480833 -0.23221018 -0.61498384\n",
            "   0.72444647 -0.72444647]\n",
            " [ 4.30644338 -1.05254128 -0.85666269  0.69480833 -0.23221018 -0.61498384\n",
            "  -1.38036423  1.38036423]\n",
            " [-0.23221018 -1.05254128  1.16732059 -1.43924583 -0.23221018  1.62605898\n",
            "   0.72444647 -0.72444647]\n",
            " [-0.23221018 -1.05254128  1.16732059 -1.43924583  4.30644338 -0.61498384\n",
            "  -1.38036423  1.38036423]\n",
            " [-0.23221018 -1.05254128  1.16732059 -1.43924583 -0.23221018  1.62605898\n",
            "   0.72444647 -0.72444647]\n",
            " [ 4.30644338 -1.05254128 -0.85666269  0.69480833 -0.23221018 -0.61498384\n",
            "   0.72444647 -0.72444647]\n",
            " [-0.23221018 -1.05254128  1.16732059 -1.43924583 -0.23221018  1.62605898\n",
            "   0.72444647 -0.72444647]\n",
            " [-0.23221018  0.95008151 -0.85666269  0.69480833 -0.23221018 -0.61498384\n",
            "   0.72444647 -0.72444647]\n",
            " [-0.23221018 -1.05254128  1.16732059  0.69480833 -0.23221018 -0.61498384\n",
            "   0.72444647 -0.72444647]\n",
            " [-0.23221018  0.95008151 -0.85666269  0.69480833 -0.23221018 -0.61498384\n",
            "   0.72444647 -0.72444647]\n",
            " [-0.23221018  0.95008151 -0.85666269  0.69480833 -0.23221018 -0.61498384\n",
            "   0.72444647 -0.72444647]\n",
            " [-0.23221018 -1.05254128  1.16732059  0.69480833 -0.23221018 -0.61498384\n",
            "   0.72444647 -0.72444647]\n",
            " [-0.23221018  0.95008151 -0.85666269  0.69480833 -0.23221018 -0.61498384\n",
            "   0.72444647 -0.72444647]\n",
            " [-0.23221018  0.95008151 -0.85666269 -1.43924583 -0.23221018  1.62605898\n",
            "   0.72444647 -0.72444647]\n",
            " [-0.23221018  0.95008151 -0.85666269  0.69480833 -0.23221018 -0.61498384\n",
            "   0.72444647 -0.72444647]\n",
            " [-0.23221018  0.95008151 -0.85666269  0.69480833 -0.23221018 -0.61498384\n",
            "   0.72444647 -0.72444647]\n",
            " [-0.23221018  0.95008151 -0.85666269  0.69480833 -0.23221018 -0.61498384\n",
            "   0.72444647 -0.72444647]\n",
            " [-0.23221018  0.95008151 -0.85666269  0.69480833 -0.23221018 -0.61498384\n",
            "   0.72444647 -0.72444647]\n",
            " [-0.23221018 -1.05254128  1.16732059 -1.43924583 -0.23221018  1.62605898\n",
            "   0.72444647 -0.72444647]\n",
            " [-0.23221018 -1.05254128  1.16732059 -1.43924583  4.30644338 -0.61498384\n",
            "  -1.38036423  1.38036423]\n",
            " [-0.23221018  0.95008151 -0.85666269  0.69480833 -0.23221018 -0.61498384\n",
            "   0.72444647 -0.72444647]\n",
            " [-0.23221018  0.95008151 -0.85666269  0.69480833 -0.23221018 -0.61498384\n",
            "   0.72444647 -0.72444647]\n",
            " [-0.23221018 -1.05254128  1.16732059 -1.43924583 -0.23221018  1.62605898\n",
            "   0.72444647 -0.72444647]\n",
            " [-0.23221018  0.95008151 -0.85666269  0.69480833 -0.23221018 -0.61498384\n",
            "   0.72444647 -0.72444647]\n",
            " [-0.23221018  0.95008151 -0.85666269  0.69480833 -0.23221018 -0.61498384\n",
            "   0.72444647 -0.72444647]\n",
            " [-0.23221018  0.95008151 -0.85666269  0.69480833 -0.23221018 -0.61498384\n",
            "   0.72444647 -0.72444647]\n",
            " [-0.23221018 -1.05254128  1.16732059  0.69480833 -0.23221018 -0.61498384\n",
            "   0.72444647 -0.72444647]\n",
            " [-0.23221018 -1.05254128  1.16732059 -1.43924583 -0.23221018  1.62605898\n",
            "   0.72444647 -0.72444647]\n",
            " [-0.23221018  0.95008151 -0.85666269  0.69480833 -0.23221018 -0.61498384\n",
            "   0.72444647 -0.72444647]\n",
            " [-0.23221018 -1.05254128  1.16732059  0.69480833 -0.23221018 -0.61498384\n",
            "   0.72444647 -0.72444647]\n",
            " [-0.23221018 -1.05254128  1.16732059 -1.43924583 -0.23221018  1.62605898\n",
            "   0.72444647 -0.72444647]\n",
            " [-0.23221018  0.95008151 -0.85666269  0.69480833 -0.23221018 -0.61498384\n",
            "   0.72444647 -0.72444647]\n",
            " [-0.23221018  0.95008151 -0.85666269  0.69480833 -0.23221018 -0.61498384\n",
            "   0.72444647 -0.72444647]\n",
            " [-0.23221018 -1.05254128  1.16732059  0.69480833 -0.23221018 -0.61498384\n",
            "   0.72444647 -0.72444647]\n",
            " [-0.23221018  0.95008151 -0.85666269  0.69480833 -0.23221018 -0.61498384\n",
            "   0.72444647 -0.72444647]\n",
            " [-0.23221018  0.95008151 -0.85666269  0.69480833 -0.23221018 -0.61498384\n",
            "   0.72444647 -0.72444647]\n",
            " [-0.23221018 -1.05254128  1.16732059  0.69480833 -0.23221018 -0.61498384\n",
            "   0.72444647 -0.72444647]\n",
            " [ 4.30644338 -1.05254128 -0.85666269 -1.43924583  4.30644338 -0.61498384\n",
            "   0.72444647 -0.72444647]\n",
            " [-0.23221018 -1.05254128  1.16732059  0.69480833 -0.23221018 -0.61498384\n",
            "   0.72444647 -0.72444647]\n",
            " [-0.23221018 -1.05254128  1.16732059 -1.43924583 -0.23221018  1.62605898\n",
            "   0.72444647 -0.72444647]\n",
            " [-0.23221018 -1.05254128  1.16732059 -1.43924583 -0.23221018  1.62605898\n",
            "  -1.38036423  1.38036423]\n",
            " [-0.23221018 -1.05254128  1.16732059 -1.43924583 -0.23221018  1.62605898\n",
            "   0.72444647 -0.72444647]\n",
            " [ 4.30644338 -1.05254128 -0.85666269 -1.43924583  4.30644338 -0.61498384\n",
            "  -1.38036423  1.38036423]\n",
            " [-0.23221018  0.95008151 -0.85666269  0.69480833 -0.23221018 -0.61498384\n",
            "   0.72444647 -0.72444647]\n",
            " [-0.23221018 -1.05254128  1.16732059 -1.43924583 -0.23221018  1.62605898\n",
            "   0.72444647 -0.72444647]\n",
            " [-0.23221018  0.95008151 -0.85666269  0.69480833 -0.23221018 -0.61498384\n",
            "   0.72444647 -0.72444647]\n",
            " [-0.23221018 -1.05254128  1.16732059 -1.43924583 -0.23221018  1.62605898\n",
            "  -1.38036423  1.38036423]\n",
            " [-0.23221018  0.95008151 -0.85666269  0.69480833 -0.23221018 -0.61498384\n",
            "  -1.38036423  1.38036423]\n",
            " [-0.23221018  0.95008151 -0.85666269  0.69480833 -0.23221018 -0.61498384\n",
            "   0.72444647 -0.72444647]\n",
            " [-0.23221018  0.95008151 -0.85666269  0.69480833 -0.23221018 -0.61498384\n",
            "  -1.38036423  1.38036423]\n",
            " [-0.23221018 -1.05254128  1.16732059 -1.43924583 -0.23221018  1.62605898\n",
            "   0.72444647 -0.72444647]\n",
            " [-0.23221018  0.95008151 -0.85666269  0.69480833 -0.23221018 -0.61498384\n",
            "  -1.38036423  1.38036423]\n",
            " [-0.23221018  0.95008151 -0.85666269  0.69480833 -0.23221018 -0.61498384\n",
            "   0.72444647 -0.72444647]]\n",
            "Jumlah support vector:  [48 52]\n",
            "Nilai alpha :  [[1.         1.         1.         1.         1.         1.\n",
            "  1.         1.         1.         1.         1.         1.\n",
            "  1.         1.         1.         1.         1.         1.\n",
            "  1.         0.99597778 1.         1.         1.         1.\n",
            "  1.         1.         1.         1.         1.         1.\n",
            "  0.09105105 1.         1.         1.         1.         1.\n",
            "  1.         1.         1.         1.         1.         1.\n",
            "  1.         1.         1.         0.99997631 1.         1.\n",
            "  0.95068538 0.03924742 1.         1.         0.0452943  1.\n",
            "  0.95410715 0.08024164 1.         1.         1.         1.\n",
            "  1.         1.         1.         1.         1.         1.\n",
            "  1.         1.         1.         1.         1.         1.\n",
            "  1.         1.         1.         1.         1.         1.\n",
            "  1.         1.         1.         1.         1.         1.\n",
            "  1.         0.96937319 1.         1.         1.         1.\n",
            "  1.         1.         1.         0.00311513 1.         1.\n",
            "  1.         0.9990414  0.04619946 0.99970008]]\n"
          ]
        }
      ]
    },
    {
      "cell_type": "code",
      "source": [
        "y_prediksi = clf_svc.predict(X_test)\n",
        "print(y_prediksi)"
      ],
      "metadata": {
        "id": "MkWKtVAZN2xV",
        "colab": {
          "base_uri": "https://localhost:8080/"
        },
        "outputId": "48910443-7da2-4678-be29-937e66b528cc"
      },
      "execution_count": 25,
      "outputs": [
        {
          "output_type": "stream",
          "name": "stdout",
          "text": [
            "['Not Placed' 'Placed' 'Placed' 'Placed' 'Placed' 'Placed' 'Placed'\n",
            " 'Placed' 'Placed' 'Placed' 'Placed' 'Placed' 'Placed' 'Placed' 'Placed'\n",
            " 'Placed' 'Placed' 'Placed' 'Placed' 'Placed' 'Placed' 'Placed' 'Placed'\n",
            " 'Placed' 'Placed' 'Placed' 'Not Placed' 'Placed' 'Placed' 'Placed'\n",
            " 'Placed' 'Placed' 'Placed' 'Placed' 'Placed' 'Placed' 'Placed' 'Placed'\n",
            " 'Placed' 'Placed' 'Placed' 'Placed' 'Placed' 'Placed' 'Placed' 'Placed'\n",
            " 'Placed' 'Placed' 'Placed' 'Placed' 'Placed' 'Placed' 'Placed' 'Placed'\n",
            " 'Placed' 'Placed' 'Placed' 'Placed' 'Placed' 'Placed' 'Placed' 'Placed'\n",
            " 'Placed' 'Placed' 'Placed']\n"
          ]
        }
      ]
    },
    {
      "cell_type": "code",
      "source": [
        "from sklearn.metrics import confusion_matrix, accuracy_score\n",
        "from sklearn import metrics\n",
        "cm = confusion_matrix(y_test, y_prediksi)\n",
        "cm_display = metrics.ConfusionMatrixDisplay(confusion_matrix=cm)\n",
        "cm_display.plot()\n",
        "akurasi = accuracy_score(y_test, y_prediksi)*100\n",
        "print(\"Akurasi : {} %\".format(akurasi))"
      ],
      "metadata": {
        "id": "0X1el15mN42m",
        "colab": {
          "base_uri": "https://localhost:8080/",
          "height": 300
        },
        "outputId": "7711a95f-db76-4ec1-cadb-0c1808f6bdba"
      },
      "execution_count": 26,
      "outputs": [
        {
          "output_type": "stream",
          "name": "stdout",
          "text": [
            "Akurasi : 70.76923076923077 %\n"
          ]
        },
        {
          "output_type": "display_data",
          "data": {
            "text/plain": [
              "<Figure size 432x288 with 2 Axes>"
            ],
            "image/png": "[encoded data removed]"
          },
          "metadata": {
            "needs_background": "light"
          }
        }
      ]
    }
  ]
}