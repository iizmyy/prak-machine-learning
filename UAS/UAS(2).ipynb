{
 "cells": [
  {
   "cell_type": "code",
   "execution_count": 1,
   "id": "e30860a4",
   "metadata": {},
   "outputs": [],
   "source": [
    "from sklearn import datasets\n",
    "import numpy as np\n",
    "import pandas as pd"
   ]
  },
  {
   "cell_type": "code",
   "execution_count": 2,
   "id": "f451b3e8",
   "metadata": {},
   "outputs": [
    {
     "name": "stdout",
     "output_type": "stream",
     "text": [
      "Label kelas :  ['GALAXY' 'QSO' 'STAR']\n"
     ]
    }
   ],
   "source": [
    "data = pd.read_csv(\"star_classification.csv\")\n",
    "X = data.loc[:,('obj_ID', 'alpha', 'delta', 'u', 'g', 'r', 'i', 'z','run_ID','rerun_ID','cam_col','field_ID','spec_obj_ID','redshift','plate','MJD','fiber_ID')]\n",
    "y = data['class']\n",
    "print(\"Label kelas : \", np.unique(y))"
   ]
  },
  {
   "cell_type": "code",
   "execution_count": 3,
   "id": "89c2579d",
   "metadata": {},
   "outputs": [
    {
     "name": "stdout",
     "output_type": "stream",
     "text": [
      "[[-0.44563362 -0.43460358  0.42552871  0.0597546   0.05492616  0.40396155\n",
      "   0.0460074   0.00393658 -0.44553451  0.         -0.95255272 -0.71894695\n",
      "   0.22860866  0.07955728  0.22863291  0.42320321 -1.02134224]\n",
      " [ 0.01873981 -0.33992143  0.36340227  0.08804527  0.07245617  1.58440609\n",
      "   1.18509719  0.09283473  0.01864555  0.          0.93792046 -0.45050918\n",
      "   1.79791232  0.2770962   1.79792394  1.42072864 -0.0818825 ]\n",
      " [-0.4456333  -0.36725058  0.58271274  0.10332677  0.06716517  0.51974532\n",
      "   0.1500187   0.00880798 -0.44553451  0.         -0.95255272 -0.44379823\n",
      "  -0.19003674  0.09242283 -0.19002535  0.00185377 -0.55161237]\n",
      " [-0.14731149  1.66952317 -1.24910526  0.0049215   0.10220974  1.05990425\n",
      "   0.80760969  0.01832104 -0.14727846  0.         -0.322395    0.18703053\n",
      "   1.35896201  0.48677026  1.35894247  1.35492735  1.19519558]\n",
      " [ 1.84276754  1.73731007 -0.150242   -0.08005533 -0.09294786 -1.69742091\n",
      "  -1.76788724 -0.09846826  1.84279178  0.         -0.322395   -0.32971218\n",
      "   0.33332814 -0.63026662  0.33329748  0.33086022  1.44106981]]\n"
     ]
    }
   ],
   "source": [
    "from sklearn.preprocessing import StandardScaler\n",
    "sc = StandardScaler()\n",
    "sc.fit(X)\n",
    "X = sc.transform(X)\n",
    "print(X[0:5,:])"
   ]
  },
  {
   "cell_type": "code",
   "execution_count": 4,
   "id": "58c77720",
   "metadata": {},
   "outputs": [
    {
     "name": "stdout",
     "output_type": "stream",
     "text": [
      "X Training: [[ 1.6755079   1.86247601 -0.54377912 -0.08464091 -0.09462785 -1.68606628\n",
      "  -1.71152978 -0.09238751  1.67534086  0.          1.56807819  0.71719512\n",
      "   0.3414124  -0.62124135  0.34142676  0.37454343 -0.55528214]\n",
      " [ 1.67538181 -1.63198417 -0.59706467  0.09961436  0.03133949  0.07769124\n",
      "  -0.19430966 -0.0114429   1.67534086  0.          0.30776273  1.71041487\n",
      "  -0.15850789 -0.13034629 -0.15852436  0.1340093   0.69243783]\n",
      " [-0.63955208  0.36607177  1.63776155 -0.14916014 -0.14623393 -2.27640447\n",
      "  -2.17087128 -0.10841468 -0.63945184  0.         -0.95255272 -0.90685339\n",
      "  -0.91116407 -0.7893497  -0.91116081 -0.60307573 -0.36445438]\n",
      " [-0.11123857 -1.7784967  -1.27021528 -0.05778528 -0.07167015 -1.38134065\n",
      "  -1.41520794 -0.07659294 -0.11114164  0.         -0.95255272 -0.20220424\n",
      "  -1.60793129 -0.56151015 -1.60790841 -2.03964507 -1.40299776]\n",
      " [-0.39829835  0.44157202  0.85383348 -0.08298805 -0.04947812 -0.41590617\n",
      "  -0.10667599  0.00338785 -0.39820036  0.         -0.95255272  0.05281164\n",
      "  -1.2671817   0.29496131 -1.26715582 -1.36946722 -1.45437447]]\n",
      "y Training: 42865    GALAXY\n",
      "91446    GALAXY\n",
      "66374      STAR\n",
      "79106    GALAXY\n",
      "13404       QSO\n",
      "Name: class, dtype: object\n"
     ]
    }
   ],
   "source": [
    "from sklearn.model_selection import train_test_split\n",
    "X_train, X_test, y_train, y_test = train_test_split(X, y, test_size=0.3, random_state=0)\n",
    "print(\"X Training:\", X_train[0:5,:])\n",
    "print(\"y Training:\",y_train[0:5])"
   ]
  },
  {
   "cell_type": "code",
   "execution_count": 5,
   "id": "a46866c2",
   "metadata": {},
   "outputs": [
    {
     "data": {
      "text/plain": [
       "SVC(C=0.1, gamma=1, kernel='linear', random_state=0)"
      ]
     },
     "execution_count": 5,
     "metadata": {},
     "output_type": "execute_result"
    }
   ],
   "source": [
    "from sklearn.svm import SVC\n",
    "clf_svc = SVC(kernel='linear', C=0.1, gamma=1, random_state=0)\n",
    "clf_svc.fit(X_train, y_train)"
   ]
  },
  {
   "cell_type": "code",
   "execution_count": 6,
   "id": "945d3716",
   "metadata": {},
   "outputs": [
    {
     "name": "stdout",
     "output_type": "stream",
     "text": [
      "Koefisien model :  [[-1.66031309e-03 -8.59307775e-02 -1.21564231e-01  2.96824428e+00\n",
      "   2.13411465e+00  2.25259105e+00 -2.00637560e+00 -7.14082600e-01\n",
      "  -1.65995051e-03  0.00000000e+00 -3.64939798e-03  8.21547521e-03\n",
      "   2.96133114e-01 -2.25925326e+00  2.96135218e-01 -3.84865576e-01\n",
      "  -2.16593878e-02]\n",
      " [ 1.53006183e-03  5.38450654e-03  4.11644790e-03 -2.17050391e-01\n",
      "   2.10034552e-02  4.30991607e-03  2.56846633e-03 -2.32084179e-01\n",
      "   1.53036893e-03  0.00000000e+00 -3.14103983e-03  2.27495256e-03\n",
      "   2.34312296e-02  2.04176329e+01  2.34313000e-02 -5.99039125e-02\n",
      "   2.56284919e-03]\n",
      " [ 4.41343085e-04  1.00166834e-03  9.28122177e-04 -1.97330288e-02\n",
      "   2.87620739e-02  5.13728134e-04 -8.73646939e-04 -3.12062058e-02\n",
      "   4.41362229e-04  0.00000000e+00 -2.13288034e-04  2.56354558e-04\n",
      "   9.99539133e-04  5.47674730e+00  9.99541149e-04 -3.51361884e-03\n",
      "   1.53517801e-04]]\n",
      "Bias model :  [ 0.82874295 15.0891781   3.31510813]\n",
      "Indeks Support Vector :  [   33    35    43 ... 69916 69918 69960]\n",
      "Support vector :  [[-1.22512297 -0.27038814  1.77900344 ... -1.47919471 -1.8284174\n",
      "  -1.45804423]\n",
      " [-0.44557017 -0.4710449   0.34460034 ...  1.79318186  1.40911665\n",
      "  -0.81216566]\n",
      " [ 1.64446166 -1.68913861 -1.04199648 ...  1.45446158  1.38976333\n",
      "  -0.22133356]\n",
      " ...\n",
      " [ 1.64216958 -1.83712456  0.00753752 ... -0.79125383 -0.69541872\n",
      "  -0.81216566]\n",
      " [-0.47050977 -1.16291097  0.29357551 ... -1.31593154 -1.44798641\n",
      "  -1.34061177]\n",
      " [-0.77430214 -0.94156329 -1.21906519 ... -1.31762514 -1.61000135\n",
      "  -0.18463591]]\n",
      "Jumlah support vector:  [6324 3059 3633]\n",
      "Nilai alpha :  [[0.1 0.1 0.1 ... 0.1 0.1 0.1]\n",
      " [0.1 0.  0.  ... 0.  0.  0. ]]\n"
     ]
    }
   ],
   "source": [
    "print(\"Koefisien model : \", clf_svc.coef_)\n",
    "print(\"Bias model : \", clf_svc.intercept_)\n",
    "print(\"Indeks Support Vector : \", clf_svc.support_)\n",
    "print(\"Support vector : \", clf_svc.support_vectors_)\n",
    "print(\"Jumlah support vector: \",clf_svc.n_support_)\n",
    "print(\"Nilai alpha : \", np.abs(clf_svc.dual_coef_))"
   ]
  },
  {
   "cell_type": "code",
   "execution_count": 7,
   "id": "22728946",
   "metadata": {},
   "outputs": [
    {
     "name": "stdout",
     "output_type": "stream",
     "text": [
      "['GALAXY' 'QSO' 'GALAXY' ... 'STAR' 'GALAXY' 'GALAXY']\n"
     ]
    }
   ],
   "source": [
    "y_prediksi = clf_svc.predict(X_test)\n",
    "print(y_prediksi)"
   ]
  },
  {
   "cell_type": "code",
   "execution_count": null,
   "id": "c2c5717d",
   "metadata": {},
   "outputs": [],
   "source": []
  }
 ],
 "metadata": {
  "kernelspec": {
   "display_name": "Python 3 (ipykernel)",
   "language": "python",
   "name": "python3"
  },
  "language_info": {
   "codemirror_mode": {
    "name": "ipython",
    "version": 3
   },
   "file_extension": ".py",
   "mimetype": "text/x-python",
   "name": "python",
   "nbconvert_exporter": "python",
   "pygments_lexer": "ipython3",
   "version": "3.9.12"
  }
 },
 "nbformat": 4,
 "nbformat_minor": 5
}
