{
 "cells": [
  {
   "cell_type": "code",
   "execution_count": 1,
   "id": "11bb4c2c",
   "metadata": {},
   "outputs": [],
   "source": [
    "import numpy as np\n",
    "import pandas as pd\n",
    "from sklearn import datasets"
   ]
  },
  {
   "cell_type": "code",
   "execution_count": 2,
   "id": "2420c2ec",
   "metadata": {},
   "outputs": [
    {
     "name": "stdout",
     "output_type": "stream",
     "text": [
      "Hasil :  ['DrugY' 'drugA' 'drugB' 'drugC' 'drugX']\n"
     ]
    }
   ],
   "source": [
    "data = pd.read_csv(\"drug200.csv\")\n",
    "X = data.loc[:,('Age', 'Sex', 'Na_to_K')]\n",
    "X = pd.get_dummies(X, prefix='Sex', columns=['Sex'])\n",
    "y = data['Drug']\n",
    "print(\"Hasil : \", np.unique(y))"
   ]
  },
  {
   "cell_type": "code",
   "execution_count": 3,
   "id": "d480f0a0",
   "metadata": {},
   "outputs": [
    {
     "name": "stdout",
     "output_type": "stream",
     "text": [
      "[[-1.29159102  1.28652212  1.040833   -1.040833  ]\n",
      " [ 0.16269866 -0.4151454  -0.96076892  0.96076892]\n",
      " [ 0.16269866 -0.82855818 -0.96076892  0.96076892]\n",
      " [-0.988614   -1.14996267  1.040833   -1.040833  ]\n",
      " [ 1.0110343   0.27179427  1.040833   -1.040833  ]]\n"
     ]
    }
   ],
   "source": [
    "from sklearn.preprocessing import StandardScaler\n",
    "sc = StandardScaler()\n",
    "sc.fit(X)\n",
    "X = sc.transform(X)\n",
    "print(X[0:5,:])"
   ]
  },
  {
   "cell_type": "code",
   "execution_count": 4,
   "id": "c75ce653",
   "metadata": {},
   "outputs": [
    {
     "name": "stdout",
     "output_type": "stream",
     "text": [
      "X Training: [[ 0.46567567  2.33663776 -0.96076892  0.96076892]\n",
      " [ 0.82924809  3.07561832  1.040833   -1.040833  ]\n",
      " [ 0.88984349 -0.30537382  1.040833   -1.040833  ]\n",
      " [-0.74623239  1.37242427  1.040833   -1.040833  ]\n",
      " [ 1.67758373 -0.20018185  1.040833   -1.040833  ]]\n",
      "y Training: 131    DrugY\n",
      "96     DrugY\n",
      "181    drugX\n",
      "19     DrugY\n",
      "153    drugX\n",
      "Name: Drug, dtype: object\n"
     ]
    }
   ],
   "source": [
    "from sklearn.model_selection import train_test_split\n",
    "X_train, X_test, y_train, y_test = train_test_split(X, y, test_size=0.3, random_state=0)\n",
    "print(\"X Training:\", X_train[0:5,:])\n",
    "print(\"y Training:\",y_train[0:5])"
   ]
  },
  {
   "cell_type": "code",
   "execution_count": 5,
   "id": "ae4c7a36",
   "metadata": {},
   "outputs": [
    {
     "data": {
      "text/plain": [
       "SVC(C=0.1, gamma=1, random_state=0)"
      ]
     },
     "execution_count": 5,
     "metadata": {},
     "output_type": "execute_result"
    }
   ],
   "source": [
    "from sklearn.svm import SVC\n",
    "clf_svc = SVC(kernel='rbf', C=0.1, gamma=1, random_state=0)\n",
    "clf_svc.fit(X_train, y_train)"
   ]
  },
  {
   "cell_type": "code",
   "execution_count": 6,
   "id": "d629eb48",
   "metadata": {},
   "outputs": [
    {
     "name": "stdout",
     "output_type": "stream",
     "text": [
      "Bias model :  [ 0.91720109  0.94543086  0.94986192  0.76435302  0.67359585  0.86523788\n",
      " -0.97949992  0.71313042 -0.98550051 -1.00160895]\n",
      "Indeks Support Vector :  [  0   1   5   7  11  15  16  27  32  35  36  37  38  42  44  50  52  54\n",
      "  56  60  62  63  68  70  73  77  83  84  88  91  94  95  97 103 110 111\n",
      " 114 119 120 122 130 132 136 139  12  13  14  20  21  41  45  61  64  65\n",
      "  76  92 105 108 109 123 127 131   6  22  24  28  47  49  53  55  57 101\n",
      " 102 107 129  23  26  31  34  40  72  74  81  85 112 116 138   2   4   8\n",
      "   9  10  17  18  29  30  39  46  48  58  66  67  69  75  78  82  87  89\n",
      "  90  93  98 100 104 106 113 115 117 121 125 126 134 135 137]\n",
      "Support vector :  [[ 0.46567567  2.33663776 -0.96076892  0.96076892]\n",
      " [ 0.82924809  3.07561832  1.040833   -1.040833  ]\n",
      " [-0.9280186   1.85480857  1.040833   -1.040833  ]\n",
      " [-1.41278182  1.74129005  1.040833   -1.040833  ]\n",
      " [ 1.0716297   0.0707083  -0.96076892  0.96076892]\n",
      " [ 0.34448487  0.1563329   1.040833   -1.040833  ]\n",
      " [-1.29159102  0.10623487 -0.96076892  0.96076892]\n",
      " [-0.62504158  0.36338623 -0.96076892  0.96076892]\n",
      " [ 0.10210325  2.58143808  1.040833   -1.040833  ]\n",
      " [-0.32206457 -0.01602651 -0.96076892  0.96076892]\n",
      " [ 1.73817914  0.31412086  1.040833   -1.040833  ]\n",
      " [ 1.31401132  0.0364307  -0.96076892  0.96076892]\n",
      " [-0.14027836  1.82996772  1.040833   -1.040833  ]\n",
      " [ 0.82924809  0.46233329  1.040833   -1.040833  ]\n",
      " [ 0.70805729 -0.14841852 -0.96076892  0.96076892]\n",
      " [-1.59456803  1.13678315  1.040833   -1.040833  ]\n",
      " [-1.29159102  2.16511101 -0.96076892  0.96076892]\n",
      " [ 1.79877454  0.674105    1.040833   -1.040833  ]\n",
      " [ 0.22329406 -0.14550423  1.040833   -1.040833  ]\n",
      " [-1.71575884 -0.0788919   1.040833   -1.040833  ]\n",
      " [-1.35218642  1.69438387 -0.96076892  0.96076892]\n",
      " [ 1.0716297   1.54020408 -0.96076892  0.96076892]\n",
      " [-1.71575884  0.40557404 -0.96076892  0.96076892]\n",
      " [ 0.28388946  0.02643885  1.040833   -1.040833  ]\n",
      " [-1.77635424  0.15563902 -0.96076892  0.96076892]\n",
      " [-0.20087376 -0.12885115 -0.96076892  0.96076892]\n",
      " [-0.26146916  1.62943685 -0.96076892  0.96076892]\n",
      " [ 1.43520212  1.52174691  1.040833   -1.040833  ]\n",
      " [ 0.34448487 -0.04086736 -0.96076892  0.96076892]\n",
      " [-0.20087376  0.36838215  1.040833   -1.040833  ]\n",
      " [-1.23099561  1.34633444 -0.96076892  0.96076892]\n",
      " [-1.23099561  0.32924741  1.040833   -1.040833  ]\n",
      " [ 0.16269866  2.42267869 -0.96076892  0.96076892]\n",
      " [ 0.82924809  1.46554276  1.040833   -1.040833  ]\n",
      " [ 0.04150785  0.25902691 -0.96076892  0.96076892]\n",
      " [-1.77635424  0.08888791  1.040833   -1.040833  ]\n",
      " [ 0.40508027  0.30676574 -0.96076892  0.96076892]\n",
      " [-0.988614    0.37809645  1.040833   -1.040833  ]\n",
      " [-0.38265997  0.30676574 -0.96076892  0.96076892]\n",
      " [ 1.25341591  2.62459732 -0.96076892  0.96076892]\n",
      " [ 1.49579753 -0.08416537 -0.96076892  0.96076892]\n",
      " [ 1.13222511  1.36451406 -0.96076892  0.96076892]\n",
      " [ 1.67758373  0.031296   -0.96076892  0.96076892]\n",
      " [-0.32206457  0.15827576  1.040833   -1.040833  ]\n",
      " [-0.56444618 -0.44276176  1.040833   -1.040833  ]\n",
      " [ 0.04150785 -0.44831279  1.040833   -1.040833  ]\n",
      " [-0.32206457 -0.89100724 -0.96076892  0.96076892]\n",
      " [ 0.16269866 -0.788452   -0.96076892  0.96076892]\n",
      " [-0.44325537 -0.41542295  1.040833   -1.040833  ]\n",
      " [-1.29159102 -1.12040345 -0.96076892  0.96076892]\n",
      " [ 0.34448487 -1.19270559 -0.96076892  0.96076892]\n",
      " [-1.53397263 -0.38461474  1.040833   -1.040833  ]\n",
      " [-0.80682779 -0.58472929 -0.96076892  0.96076892]\n",
      " [-0.50385078 -0.67812533  1.040833   -1.040833  ]\n",
      " [-0.80682779 -0.67410083 -0.96076892  0.96076892]\n",
      " [-0.07968296 -0.29316156 -0.96076892  0.96076892]\n",
      " [ 0.22329406 -0.78248465 -0.96076892  0.96076892]\n",
      " [-1.47337723 -0.66924368  1.040833   -1.040833  ]\n",
      " [-1.10980481 -0.52422309  1.040833   -1.040833  ]\n",
      " [-0.14027836 -0.46052505 -0.96076892  0.96076892]\n",
      " [ 0.28388946 -1.36215071 -0.96076892  0.96076892]\n",
      " [-0.74623239 -0.92139911 -0.96076892  0.96076892]\n",
      " [ 1.43520212 -0.81815     1.040833   -1.040833  ]\n",
      " [ 0.40508027 -0.65800285 -0.96076892  0.96076892]\n",
      " [ 1.67758373 -0.88920315 -0.96076892  0.96076892]\n",
      " [ 0.64746188 -0.70879476  1.040833   -1.040833  ]\n",
      " [ 0.9504389  -0.3860025   1.040833   -1.040833  ]\n",
      " [ 0.82924809 -0.25610845  1.040833   -1.040833  ]\n",
      " [ 0.88984349 -0.29829626 -0.96076892  0.96076892]\n",
      " [ 0.76865269 -0.85201127  1.040833   -1.040833  ]\n",
      " [ 1.55639293 -0.86533373 -0.96076892  0.96076892]\n",
      " [ 1.43520212 -0.70435393 -0.96076892  0.96076892]\n",
      " [ 1.79877454 -0.90446848 -0.96076892  0.96076892]\n",
      " [ 0.9504389  -1.03575028 -0.96076892  0.96076892]\n",
      " [ 1.55639293 -0.29385544 -0.96076892  0.96076892]\n",
      " [ 0.70805729 -0.6269171   1.040833   -1.040833  ]\n",
      " [ 0.16269866 -0.82855818 -0.96076892  0.96076892]\n",
      " [ 0.16269866 -0.59916196  1.040833   -1.040833  ]\n",
      " [-1.71575884 -0.56599457 -0.96076892  0.96076892]\n",
      " [ 0.88984349 -0.7827622   1.040833   -1.040833  ]\n",
      " [ 0.16269866 -0.83508063  1.040833   -1.040833  ]\n",
      " [ 0.28388946 -0.76985606 -0.96076892  0.96076892]\n",
      " [-0.988614   -0.41042702  1.040833   -1.040833  ]\n",
      " [ 0.16269866 -0.4151454  -0.96076892  0.96076892]\n",
      " [-0.74623239 -0.884346    1.040833   -1.040833  ]\n",
      " [ 1.67758373 -1.29276286 -0.96076892  0.96076892]\n",
      " [ 1.43520212 -0.80399488 -0.96076892  0.96076892]\n",
      " [ 0.88984349 -0.30537382  1.040833   -1.040833  ]\n",
      " [ 1.67758373 -0.20018185  1.040833   -1.040833  ]\n",
      " [ 1.37460672 -0.71975804 -0.96076892  0.96076892]\n",
      " [ 0.40508027 -0.34520245  1.040833   -1.040833  ]\n",
      " [ 1.49579753 -0.83535819  1.040833   -1.040833  ]\n",
      " [ 0.34448487 -0.46926791  1.040833   -1.040833  ]\n",
      " [ 0.28388946 -0.93028076  1.040833   -1.040833  ]\n",
      " [ 0.46567567 -0.85908883 -0.96076892  0.96076892]\n",
      " [-1.29159102 -0.53074555 -0.96076892  0.96076892]\n",
      " [-0.56444618 -0.95956243 -0.96076892  0.96076892]\n",
      " [-0.50385078 -0.64676202 -0.96076892  0.96076892]\n",
      " [ 0.76865269 -0.2593003   1.040833   -1.040833  ]\n",
      " [ 1.79877454 -0.57529254 -0.96076892  0.96076892]\n",
      " [-0.988614   -1.14996267  1.040833   -1.040833  ]\n",
      " [ 1.37460672 -0.91182359 -0.96076892  0.96076892]\n",
      " [-1.29159102 -0.28650033 -0.96076892  0.96076892]\n",
      " [ 0.04150785 -0.84201942 -0.96076892  0.96076892]\n",
      " [-0.26146916 -0.6571702   1.040833   -1.040833  ]\n",
      " [ 0.10210325 -1.2211546  -0.96076892  0.96076892]\n",
      " [-0.07968296 -0.44761891 -0.96076892  0.96076892]\n",
      " [-0.44325537 -0.98759512 -0.96076892  0.96076892]\n",
      " [ 0.28388946 -0.34506367 -0.96076892  0.96076892]\n",
      " [-0.32206457 -0.88476233  1.040833   -1.040833  ]\n",
      " [ 0.52627108 -0.27081868 -0.96076892  0.96076892]\n",
      " [-1.47337723 -0.94415833  1.040833   -1.040833  ]\n",
      " [-0.56444618 -1.14344022 -0.96076892  0.96076892]\n",
      " [ 0.28388946 -0.70366006 -0.96076892  0.96076892]\n",
      " [-0.74623239 -0.72780703  1.040833   -1.040833  ]\n",
      " [ 1.0110343  -1.21352194  1.040833   -1.040833  ]\n",
      " [-1.23099561 -0.76041931  1.040833   -1.040833  ]\n",
      " [ 1.19282051 -1.15509738 -0.96076892  0.96076892]\n",
      " [-1.77635424 -0.97149714 -0.96076892  0.96076892]\n",
      " [ 0.9504389  -0.83175002 -0.96076892  0.96076892]\n",
      " [ 0.70805729 -0.98787267 -0.96076892  0.96076892]\n",
      " [-1.65516344 -0.72891723 -0.96076892  0.96076892]\n",
      " [-0.26146916 -0.83008471  1.040833   -1.040833  ]]\n",
      "Jumlah support vector:  [44 18 13 12 36]\n",
      "Nilai alpha :  [[0.         0.06158596 0.00267383 0.04904368 0.         0.\n",
      "  0.1        0.         0.03262956 0.1        0.05064422 0.\n",
      "  0.02832537 0.         0.1        0.         0.06585857 0.0030939\n",
      "  0.1        0.1        0.00741855 0.         0.         0.09901327\n",
      "  0.05617449 0.1        0.00645439 0.05847431 0.1        0.\n",
      "  0.         0.01805497 0.04801012 0.         0.         0.1\n",
      "  0.         0.1        0.06936968 0.06026057 0.         0.03973943\n",
      "  0.04317512 0.1        0.1        0.1        0.1        0.1\n",
      "  0.1        0.1        0.1        0.1        0.1        0.1\n",
      "  0.1        0.1        0.1        0.1        0.1        0.1\n",
      "  0.1        0.1        0.1        0.1        0.1        0.1\n",
      "  0.1        0.1        0.1        0.1        0.1        0.1\n",
      "  0.1        0.1        0.1        0.1        0.1        0.1\n",
      "  0.1        0.1        0.1        0.1        0.1        0.1\n",
      "  0.1        0.1        0.1        0.1        0.1        0.1\n",
      "  0.1        0.1        0.1        0.1        0.1        0.1\n",
      "  0.1        0.1        0.1        0.1        0.1        0.1\n",
      "  0.1        0.1        0.1        0.1        0.1        0.1\n",
      "  0.1        0.1        0.1        0.1        0.1        0.1\n",
      "  0.1        0.1        0.1        0.1        0.1        0.1\n",
      "  0.1        0.1        0.1       ]\n",
      " [0.         0.04250634 0.00433469 0.03232143 0.02945693 0.02010792\n",
      "  0.         0.         0.01936355 0.         0.1        0.1\n",
      "  0.02134388 0.04593175 0.1        0.01729016 0.03798272 0.\n",
      "  0.1        0.04564134 0.         0.00569229 0.         0.1\n",
      "  0.04740843 0.039985   0.01675849 0.01846139 0.06748135 0.\n",
      "  0.01685039 0.         0.02719696 0.         0.         0.\n",
      "  0.         0.         0.         0.04388498 0.1        0.\n",
      "  0.1        0.         0.04516894 0.1        0.         0.1\n",
      "  0.1        0.1        0.1        0.1        0.1        0.1\n",
      "  0.         0.1        0.1        0.1        0.         0.05483106\n",
      "  0.1        0.         0.1        0.1        0.1        0.1\n",
      "  0.1        0.1        0.1        0.1        0.1        0.1\n",
      "  0.1        0.1        0.1        0.1        0.1        0.1\n",
      "  0.1        0.1        0.1        0.1        0.1        0.1\n",
      "  0.1        0.1        0.1        0.         0.00847825 0.\n",
      "  0.08498056 0.         0.         0.         0.         0.1\n",
      "  0.1        0.1        0.         0.         0.         0.\n",
      "  0.04286688 0.1        0.1        0.1        0.1        0.1\n",
      "  0.0985517  0.04999039 0.         0.1        0.1        0.0669962\n",
      "  0.1        0.         0.1        0.00597823 0.04964062 0.\n",
      "  0.09251718 0.         0.1       ]\n",
      " [0.         0.03876534 0.         0.03947622 0.         0.\n",
      "  0.         0.         0.01849173 0.02145486 0.05846277 0.\n",
      "  0.01787792 0.         0.1        0.         0.0370717  0.\n",
      "  0.1        0.1        0.00593271 0.018851   0.         0.1\n",
      "  0.1        0.1        0.01329831 0.02933489 0.06499845 0.\n",
      "  0.         0.01300859 0.02483138 0.         0.         0.\n",
      "  0.         0.         0.         0.03676673 0.09241606 0.\n",
      "  0.         0.06896134 0.1        0.1        0.         0.1\n",
      "  0.1        0.1        0.1        0.05994227 0.06032232 0.1\n",
      "  0.         0.1        0.1        0.1        0.         0.01600168\n",
      "  0.06373373 0.         0.1        0.1        0.1        0.1\n",
      "  0.1        0.1        0.1        0.1        0.1        0.\n",
      "  0.1        0.1        0.1        0.1        0.1        0.1\n",
      "  0.1        0.1        0.1        0.1        0.1        0.1\n",
      "  0.1        0.1        0.1        0.1        0.03624764 0.1\n",
      "  0.06512999 0.1        0.00663842 0.06849148 0.         0.\n",
      "  0.         0.         0.1        0.1        0.         0.1\n",
      "  0.00587718 0.         0.         0.         0.         0.\n",
      "  0.02831966 0.         0.1        0.01100518 0.010486   0.\n",
      "  0.         0.1        0.         0.1        0.00925904 0.1\n",
      "  0.05854541 0.         0.        ]\n",
      " [0.02911712 0.1        0.06110716 0.1        0.1        0.1\n",
      "  0.1        0.02465865 0.1        0.1        0.1        0.1\n",
      "  0.07035872 0.1        0.1        0.03102405 0.1        0.1\n",
      "  0.1        0.1        0.09246937 0.1        0.1        0.1\n",
      "  0.1        0.1        0.04609648 0.1        0.1        0.08994371\n",
      "  0.         0.09490527 0.1        0.02093174 0.1        0.1\n",
      "  0.02875396 0.         0.1        0.1        0.1        0.01063375\n",
      "  0.1        0.1        0.1        0.1        0.1        0.1\n",
      "  0.1        0.1        0.1        0.1        0.1        0.1\n",
      "  0.1        0.1        0.1        0.1        0.1        0.1\n",
      "  0.1        0.1        0.1        0.1        0.1        0.1\n",
      "  0.1        0.1        0.1        0.1        0.1        0.1\n",
      "  0.1        0.1        0.1        0.1        0.1        0.1\n",
      "  0.1        0.1        0.1        0.1        0.1        0.1\n",
      "  0.1        0.1        0.1        0.08273374 0.         0.\n",
      "  0.01068776 0.00463217 0.1        0.1        0.         0.\n",
      "  0.         0.         0.         0.03628633 0.         0.1\n",
      "  0.01080006 0.09738985 0.08034129 0.         0.0243488  0.\n",
      "  0.06469266 0.         0.         0.         0.         0.09884214\n",
      "  0.1        0.07562135 0.06035061 0.06289859 0.         0.\n",
      "  0.         0.08641734 0.00395731]]\n"
     ]
    }
   ],
   "source": [
    "# print(\"Koefisien model : \", clf_svc.coef_)\n",
    "print(\"Bias model : \", clf_svc.intercept_)\n",
    "print(\"Indeks Support Vector : \", clf_svc.support_)\n",
    "print(\"Support vector : \", clf_svc.support_vectors_)\n",
    "print(\"Jumlah support vector: \",clf_svc.n_support_)\n",
    "print(\"Nilai alpha : \", np.abs(clf_svc.dual_coef_))"
   ]
  },
  {
   "cell_type": "code",
   "execution_count": 7,
   "id": "e6660605",
   "metadata": {},
   "outputs": [
    {
     "name": "stdout",
     "output_type": "stream",
     "text": [
      "['DrugY' 'DrugY' 'DrugY' 'DrugY' 'DrugY' 'DrugY' 'DrugY' 'DrugY' 'DrugY'\n",
      " 'DrugY' 'DrugY' 'DrugY' 'DrugY' 'DrugY' 'DrugY' 'DrugY' 'DrugY' 'DrugY'\n",
      " 'DrugY' 'DrugY' 'DrugY' 'DrugY' 'DrugY' 'DrugY' 'DrugY' 'DrugY' 'DrugY'\n",
      " 'DrugY' 'DrugY' 'DrugY' 'DrugY' 'DrugY' 'drugX' 'DrugY' 'DrugY' 'DrugY'\n",
      " 'DrugY' 'DrugY' 'DrugY' 'DrugY' 'DrugY' 'DrugY' 'DrugY' 'DrugY' 'DrugY'\n",
      " 'drugX' 'DrugY' 'DrugY' 'DrugY' 'DrugY' 'DrugY' 'DrugY' 'DrugY' 'DrugY'\n",
      " 'DrugY' 'DrugY' 'DrugY' 'DrugY' 'DrugY' 'DrugY']\n"
     ]
    }
   ],
   "source": [
    "y_prediksi = clf_svc.predict(X_test)\n",
    "print(y_prediksi)"
   ]
  },
  {
   "cell_type": "code",
   "execution_count": 8,
   "id": "5458c7bb",
   "metadata": {},
   "outputs": [
    {
     "name": "stdout",
     "output_type": "stream",
     "text": [
      "Akurasi : 51.66666666666667 %\n"
     ]
    },
    {
     "data": {
      "image/png": "[encoded data removed]",
      "text/plain": [
       "<Figure size 640x480 with 2 Axes>"
      ]
     },
     "metadata": {},
     "output_type": "display_data"
    }
   ],
   "source": [
    "from sklearn.metrics import confusion_matrix, accuracy_score\n",
    "from sklearn import metrics\n",
    "cm = confusion_matrix(y_test, y_prediksi)\n",
    "cm_display = metrics.ConfusionMatrixDisplay(confusion_matrix=cm)\n",
    "cm_display.plot()\n",
    "akurasi = accuracy_score(y_test, y_prediksi)*100\n",
    "print(\"Akurasi : {} %\".format(akurasi))"
   ]
  },
  {
   "cell_type": "code",
   "execution_count": null,
   "id": "a9d86c1f",
   "metadata": {},
   "outputs": [],
   "source": []
  }
 ],
 "metadata": {
  "kernelspec": {
   "display_name": "Python 3 (ipykernel)",
   "language": "python",
   "name": "python3"
  },
  "language_info": {
   "codemirror_mode": {
    "name": "ipython",
    "version": 3
   },
   "file_extension": ".py",
   "mimetype": "text/x-python",
   "name": "python",
   "nbconvert_exporter": "python",
   "pygments_lexer": "ipython3",
   "version": "3.9.13"
  }
 },
 "nbformat": 4,
 "nbformat_minor": 5
}
