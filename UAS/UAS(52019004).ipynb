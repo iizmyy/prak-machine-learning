{
 "cells": [
  {
   "cell_type": "code",
   "execution_count": 1,
   "id": "5aef0f09",
   "metadata": {},
   "outputs": [],
   "source": [
    "from sklearn import datasets\n",
    "import numpy as np\n",
    "import pandas as pd"
   ]
  },
  {
   "cell_type": "code",
   "execution_count": null,
   "id": "6f4d1a46",
   "metadata": {},
   "outputs": [],
   "source": []
  },
  {
   "cell_type": "code",
   "execution_count": 2,
   "id": "f99ae033",
   "metadata": {},
   "outputs": [
    {
     "name": "stdout",
     "output_type": "stream",
     "text": [
      "Label kelas :  ['A' 'B' 'C' 'D']\n"
     ]
    }
   ],
   "source": [
    "data = pd.read_csv(\"bodyPerformance.csv\")\n",
    "X = data.loc[:,('age', 'gender', 'height_cm', 'weight_kg', 'body fat_%', 'diastolic', 'systolic', 'gripForce','sit and bend forward_cm','sit-ups counts','broad jump_cm')]\n",
    "X = pd.get_dummies(X, prefix='gender', columns=['gender'])\n",
    "y = data['class']\n",
    "print(\"Label kelas : \", np.unique(y))"
   ]
  },
  {
   "cell_type": "code",
   "execution_count": 3,
   "id": "a965d7ee",
   "metadata": {},
   "outputs": [
    {
     "name": "stdout",
     "output_type": "stream",
     "text": [
      "[[-7.17432115e-01  4.43872976e-01  6.52150023e-01 -2.67366553e-01\n",
      "   1.12008898e-01 -1.59593723e-02  1.68819029e+00  3.77317337e-01\n",
      "   1.41696147e+00  6.74008621e-01 -7.62750365e-01  7.62750365e-01]\n",
      " [-8.64219697e-01 -4.22465483e-01 -9.74734380e-01 -1.03908068e+00\n",
      "  -1.67278271e-01 -2.87820319e-01 -5.30734746e-02  1.28983577e-01\n",
      "   9.26633723e-01  9.75013135e-01 -7.62750365e-01  7.62750365e-01]\n",
      " [-4.23856952e-01  1.31021144e+00  8.83127438e-01 -4.32733865e-01\n",
      "   1.22915757e+00  1.47927584e+00  7.37554395e-01 -3.79509362e-01\n",
      "   6.46446438e-01 -2.29004922e-01 -7.62750365e-01  7.62750365e-01]\n",
      " [-3.50463161e-01  7.04961279e-01  3.05683900e-01 -6.67004225e-01\n",
      "  -2.60373993e-01  1.13944965e+00  4.17538353e-01 -1.09601212e-03\n",
      "   9.26633723e-01  7.24176040e-01 -7.62750365e-01  7.62750365e-01]\n",
      " [-6.44038324e-01  6.21887728e-01  2.11465044e-02 -8.46152146e-01\n",
      "  -8.18948330e-01 -2.19855083e-01  6.15195320e-01  1.40612863e+00\n",
      "   3.66259153e-01  6.74008621e-01 -7.62750365e-01  7.62750365e-01]]\n"
     ]
    }
   ],
   "source": [
    "from sklearn.preprocessing import StandardScaler\n",
    "sc = StandardScaler()\n",
    "sc.fit(X)\n",
    "X = sc.transform(X)\n",
    "print(X[0:5,:])"
   ]
  },
  {
   "cell_type": "code",
   "execution_count": 4,
   "id": "5d4fa0bf",
   "metadata": {},
   "outputs": [
    {
     "name": "stdout",
     "output_type": "stream",
     "text": [
      "X Training: [[ 0.38347475 -1.17012744 -1.0667906  -0.03309619  1.32225329  1.00351918\n",
      "  -0.18484479  0.10533274  0.36625915  0.44825524 -0.76275036  0.76275036]\n",
      " [-0.8642197   0.33706413  0.1634152  -1.03908068  0.76367896  0.73165823\n",
      "   0.39871388  0.44826984  0.36625915  1.05026426 -0.76275036  0.76275036]\n",
      " [ 1.99813815 -0.57674493 -0.13785969  1.28984231  0.9498704   1.61520631\n",
      "  -0.87193805 -0.26125519 -1.38491138 -2.11028314 -0.76275036  0.76275036]\n",
      " [-0.57064453  1.31021144  1.64468341 -0.0468768   0.67058323  0.59572776\n",
      "   0.88815018 -0.72244646  0.43630597  0.44825524 -0.76275036  0.76275036]\n",
      " [-1.01100728 -0.75475969 -0.49771581 -1.70054993 -0.53966116 -1.10340316\n",
      "  -0.10013466 -0.49776353  1.06672737  1.42651991 -0.76275036  0.76275036]]\n",
      "y Training: 5721     A\n",
      "463      B\n",
      "11129    C\n",
      "8649     C\n",
      "2759     C\n",
      "Name: class, dtype: object\n"
     ]
    }
   ],
   "source": [
    "from sklearn.model_selection import train_test_split\n",
    "X_train, X_test, y_train, y_test = train_test_split(X, y, test_size=0.3, random_state=0)\n",
    "print(\"X Training:\", X_train[0:5,:])\n",
    "print(\"y Training:\",y_train[0:5])"
   ]
  },
  {
   "cell_type": "code",
   "execution_count": 6,
   "id": "edd21486",
   "metadata": {},
   "outputs": [
    {
     "data": {
      "text/plain": [
       "SVC(C=0.1, gamma=1, kernel='linear', random_state=0)"
      ]
     },
     "execution_count": 6,
     "metadata": {},
     "output_type": "execute_result"
    }
   ],
   "source": [
    "from sklearn.svm import SVC\n",
    "clf_svc = SVC(kernel='linear', C=0.1, gamma=1, random_state=0)\n",
    "clf_svc.fit(X_train, y_train)"
   ]
  },
  {
   "cell_type": "code",
   "execution_count": 7,
   "id": "94638cb1",
   "metadata": {},
   "outputs": [
    {
     "name": "stdout",
     "output_type": "stream",
     "text": [
      "Koefisien model :  [[ 9.75101010e-01  9.96714809e-03 -6.01918145e-01 -1.01890541e-02\n",
      "  -1.04685124e-03 -8.09940557e-03  7.75010399e-01  1.37299262e+00\n",
      "   1.37853762e+00  5.87764954e-01  5.42836535e-01 -5.42836535e-01]\n",
      " [ 1.19410565e+00  5.35020727e-02 -9.19320736e-01  7.11391557e-02\n",
      "  -1.12751048e-01  9.68366071e-02  9.60548400e-01  1.52974552e+00\n",
      "   1.78276401e+00  5.79951741e-01  5.76036459e-01 -5.76036459e-01]\n",
      " [ 1.12133316e+00  2.12183656e-01 -1.05693937e+00 -1.55855502e-01\n",
      "  -1.19700671e-01  8.91435790e-02  7.74989742e-01  1.54287666e+00\n",
      "   1.75552050e+00  5.35206380e-01  5.19804774e-01 -5.19804774e-01]\n",
      " [ 8.88653671e-01 -2.18126872e-01 -2.78986195e-01  1.60931583e-02\n",
      "  -7.25827634e-02  3.40299426e-02  5.16997077e-01  1.07143329e+00\n",
      "   1.22417679e+00  5.18841452e-01  3.66493279e-01 -3.66493279e-01]\n",
      " [ 1.07736217e+00  1.07233187e-01 -8.74220340e-01 -2.52227306e-01\n",
      "  -5.70114503e-02 -1.08890993e-02  6.69526458e-01  1.35014424e+00\n",
      "   1.53116142e+00  4.00919695e-01  3.95717756e-01 -3.95717756e-01]\n",
      " [ 6.58475120e-01  2.95316946e-01 -9.15047045e-01 -4.22104792e-01\n",
      "  -9.27876353e-02  8.05396038e-02  3.27012554e-01  9.44949919e-01\n",
      "   1.10675364e+00  6.84744766e-02  2.13058184e-01 -2.13058184e-01]]\n",
      "Bias model :  [-1.49171343 -1.12330313 -0.2809292  -0.0902531   0.74406249  1.1509915 ]\n",
      "Indeks Support Vector :  [   0   16   18 ... 9343 9359 9371]\n",
      "Support vector :  [[ 0.38347475 -1.17012744 -1.0667906  ...  0.44825524 -0.76275036\n",
      "   0.76275036]\n",
      " [ 1.70456299  0.17091702 -0.19644092 ...  0.59875749 -0.76275036\n",
      "   0.76275036]\n",
      " [-0.8642197  -1.7991129  -1.36806549 ... -0.27917234  1.31104493\n",
      "  -1.31104493]\n",
      " ...\n",
      " [ 1.92474436 -1.76350995 -1.18395305 ... -3.89122651  1.31104493\n",
      "  -1.31104493]\n",
      " [ 0.45686854 -0.89717149 -0.13785969 ... -2.26078539  1.31104493\n",
      "  -1.31104493]\n",
      " [ 0.97062508 -0.41059783  0.55674631 ...  0.24758556 -0.76275036\n",
      "   0.76275036]]\n",
      "Jumlah support vector:  [1420 2352 2287 1179]\n",
      "Nilai alpha :  [[0.1        0.1        0.1        ... 0.         0.1        0.        ]\n",
      " [0.1        0.         0.08137148 ... 0.         0.1        0.1       ]\n",
      " [0.         0.         0.         ... 0.1        0.1        0.1       ]]\n"
     ]
    }
   ],
   "source": [
    "print(\"Koefisien model : \", clf_svc.coef_)\n",
    "print(\"Bias model : \", clf_svc.intercept_)\n",
    "print(\"Indeks Support Vector : \", clf_svc.support_)\n",
    "print(\"Support vector : \", clf_svc.support_vectors_)\n",
    "print(\"Jumlah support vector: \",clf_svc.n_support_)\n",
    "print(\"Nilai alpha : \", np.abs(clf_svc.dual_coef_))"
   ]
  },
  {
   "cell_type": "code",
   "execution_count": 8,
   "id": "c0b9bedd",
   "metadata": {},
   "outputs": [
    {
     "name": "stdout",
     "output_type": "stream",
     "text": [
      "['A' 'C' 'B' ... 'B' 'B' 'A']\n"
     ]
    }
   ],
   "source": [
    "y_prediksi = clf_svc.predict(X_test)\n",
    "print(y_prediksi)"
   ]
  },
  {
   "cell_type": "code",
   "execution_count": 9,
   "id": "e1b72b5b",
   "metadata": {},
   "outputs": [
    {
     "name": "stdout",
     "output_type": "stream",
     "text": [
      "Akurasi : 63.812842210054754 %\n"
     ]
    },
    {
     "data": {
      "image/png": "[encoded data removed]",
      "text/plain": [
       "<Figure size 432x288 with 2 Axes>"
      ]
     },
     "metadata": {
      "needs_background": "light"
     },
     "output_type": "display_data"
    }
   ],
   "source": [
    "from sklearn.metrics import confusion_matrix, accuracy_score\n",
    "from sklearn import metrics\n",
    "cm = confusion_matrix(y_test, y_prediksi)\n",
    "cm_display = metrics.ConfusionMatrixDisplay(confusion_matrix=cm)\n",
    "cm_display.plot()\n",
    "akurasi = accuracy_score(y_test, y_prediksi)*100\n",
    "print(\"Akurasi : {} %\".format(akurasi))"
   ]
  },
  {
   "cell_type": "code",
   "execution_count": null,
   "id": "e4ad7a45",
   "metadata": {},
   "outputs": [],
   "source": []
  },
  {
   "cell_type": "code",
   "execution_count": null,
   "id": "f25baae3",
   "metadata": {},
   "outputs": [],
   "source": []
  }
 ],
 "metadata": {
  "kernelspec": {
   "display_name": "Python 3 (ipykernel)",
   "language": "python",
   "name": "python3"
  },
  "language_info": {
   "codemirror_mode": {
    "name": "ipython",
    "version": 3
   },
   "file_extension": ".py",
   "mimetype": "text/x-python",
   "name": "python",
   "nbconvert_exporter": "python",
   "pygments_lexer": "ipython3",
   "version": "3.9.12"
  }
 },
 "nbformat": 4,
 "nbformat_minor": 5
}
