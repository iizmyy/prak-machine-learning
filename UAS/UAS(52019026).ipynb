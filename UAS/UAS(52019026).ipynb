{
 "cells": [
  {
   "cell_type": "code",
   "execution_count": 1,
   "id": "05da1fde",
   "metadata": {},
   "outputs": [],
   "source": [
    "from sklearn import datasets\n",
    "import numpy as np\n",
    "import pandas as pd"
   ]
  },
  {
   "cell_type": "code",
   "execution_count": 2,
   "id": "633fb916",
   "metadata": {},
   "outputs": [
    {
     "name": "stdout",
     "output_type": "stream",
     "text": [
      "support english :  [0 1]\n"
     ]
    }
   ],
   "source": [
    "data = pd.read_csv(\"steam.csv\")\n",
    "X = data.loc[:,('required_age','positive_ratings','negative_ratings')]\n",
    "X = pd.get_dummies(X, prefix='required_age', columns=['required_age'])\n",
    "y = data['english']\n",
    "print(\"support english : \", np.unique(y))"
   ]
  },
  {
   "cell_type": "code",
   "execution_count": 3,
   "id": "3d32fed5",
   "metadata": {},
   "outputs": [
    {
     "name": "stdout",
     "output_type": "stream",
     "text": [
      "[[ 6.50574099  0.73000595  0.15002801 -0.02016046 -0.0210573  -0.05199523\n",
      "  -0.08451071 -0.10726932]\n",
      " [ 0.12204528  0.09847998  0.15002801 -0.02016046 -0.0210573  -0.05199523\n",
      "  -0.08451071 -0.10726932]\n",
      " [ 0.12720634  0.0436357   0.15002801 -0.02016046 -0.0210573  -0.05199523\n",
      "  -0.08451071 -0.10726932]\n",
      " [ 0.0143478   0.01306294  0.15002801 -0.02016046 -0.0210573  -0.05199523\n",
      "  -0.08451071 -0.10726932]\n",
      " [ 0.22379175  0.01796392  0.15002801 -0.02016046 -0.0210573  -0.05199523\n",
      "  -0.08451071 -0.10726932]]\n"
     ]
    }
   ],
   "source": [
    "from sklearn.preprocessing import StandardScaler\n",
    "sc = StandardScaler()\n",
    "sc.fit(X)\n",
    "X = sc.transform(X)\n",
    "print(X[0:5,:])"
   ]
  },
  {
   "cell_type": "code",
   "execution_count": 4,
   "id": "0eb2717b",
   "metadata": {},
   "outputs": [
    {
     "name": "stdout",
     "output_type": "stream",
     "text": [
      "X Training: [[-0.04853278 -0.04691569  0.15002801 -0.02016046 -0.0210573  -0.05199523\n",
      "  -0.08451071 -0.10726932]\n",
      " [-0.05227191 -0.04924949  0.15002801 -0.02016046 -0.0210573  -0.05199523\n",
      "  -0.08451071 -0.10726932]\n",
      " [-0.05248256 -0.04901611  0.15002801 -0.02016046 -0.0210573  -0.05199523\n",
      "  -0.08451071 -0.10726932]\n",
      " [-0.03594613 -0.04154796  0.15002801 -0.02016046 -0.0210573  -0.05199523\n",
      "  -0.08451071 -0.10726932]\n",
      " [-0.01282672 -0.02637826  0.15002801 -0.02016046 -0.0210573  -0.05199523\n",
      "  -0.08451071 -0.10726932]]\n",
      "y Training: 10458    1\n",
      "10644    1\n",
      "21889    1\n",
      "17565    1\n",
      "1965     1\n",
      "Name: english, dtype: int64\n"
     ]
    }
   ],
   "source": [
    "from sklearn.model_selection import train_test_split\n",
    "X_train, X_test, y_train, y_test = train_test_split(X, y, test_size=0.3, random_state=0)\n",
    "print(\"X Training:\", X_train[0:5,:])\n",
    "print(\"y Training:\",y_train[0:5])"
   ]
  },
  {
   "cell_type": "code",
   "execution_count": 5,
   "id": "4794e911",
   "metadata": {},
   "outputs": [
    {
     "data": {
      "text/plain": [
       "SVC(C=0.1, gamma=1, kernel='linear', random_state=0)"
      ]
     },
     "execution_count": 5,
     "metadata": {},
     "output_type": "execute_result"
    }
   ],
   "source": [
    "from sklearn.svm import SVC\n",
    "clf_svc = SVC(kernel='linear', C=0.1, gamma=1, random_state=0)\n",
    "clf_svc.fit(X_train, y_train)"
   ]
  },
  {
   "cell_type": "code",
   "execution_count": 6,
   "id": "5e3a3d33",
   "metadata": {},
   "outputs": [
    {
     "name": "stdout",
     "output_type": "stream",
     "text": [
      "Koefisien model :  [[ 1.01304109e-05  5.81984470e-06 -2.22044605e-16  0.00000000e+00\n",
      "   2.77555756e-17  1.11022302e-16  1.11022302e-16 -2.22044605e-16]]\n",
      "Bias model :  [0.9999978]\n",
      "Indeks Support Vector :  [   68   109   220   222   231   247   306   338   398   631   638   660\n",
      "   662   760   788   845   903   913   915  1065  1079  1155  1174  1257\n",
      "  1308  1314  1331  1344  1398  1422  1490  1548  1563  1830  1831  1873\n",
      "  1929  1989  2007  2022  2029  2041  2051  2098  2179  2190  2211  2287\n",
      "  2302  2316  2393  2432  2448  2481  2497  2532  2638  2717  2745  2806\n",
      "  2943  2990  3003  3184  3187  3189  3250  3382  3501  3514  3540  3604\n",
      "  3614  3623  3680  3761  3814  3824  3995  3999  4016  4172  4186  4205\n",
      "  4275  4390  4421  4557  4652  4676  4689  4706  4917  4942  4984  5023\n",
      "  5081  5173  5293  5322  5351  5371  5484  5529  5531  5545  5635  5646\n",
      "  5660  5767  5823  5905  5958  5978  6021  6176  6189  6219  6356  6387\n",
      "  6494  6497  6546  6658  6691  6724  6794  6980  7088  7176  7247  7274\n",
      "  7367  7387  7459  7536  7588  7589  7687  7699  7737  7743  7746  7747\n",
      "  7787  7826  7897  7910  8017  8293  8416  8445  8505  8512  8659  8690\n",
      "  8724  8777  8816  8889  8977  8990  9004  9019  9190  9191  9192  9291\n",
      "  9326  9564  9648  9657  9730  9753  9815  9974  9976 10119 10139 10196\n",
      " 10204 10265 10374 10377 10398 10432 10495 10502 10541 10552 10587 10632\n",
      " 10680 10682 10771 10772 10835 10847 10866 10918 11022 11203 11211 11223\n",
      " 11246 11248 11259 11392 11602 11669 11718 11734 11829 11861 11997 12043\n",
      " 12047 12189 12218 12278 12459 12500 12547 12603 12638 12664 12696 12710\n",
      " 12732 12826 12919 12921 13026 13054 13081 13174 13187 13202 13223 13322\n",
      " 13358 13395 13469 13542 13591 13720 13917 13937 13987 14064 14085 14179\n",
      " 14210 14288 14351 14386 14496 14555 14771 14794 14817 14863 14899 14976\n",
      " 14994 15037 15095 15126 15206 15233 15253 15259 15309 15331 15348 15459\n",
      " 15500 15618 15645 15746 15777 15782 15787 15837 15858 15894 15907 15943\n",
      " 16077 16107 16141 16180 16216 16271 16346 16379 16484 16547 16622 16640\n",
      " 16699 16700 16728 16820 16869 16977 17015 17038 17048 17100 17101 17183\n",
      " 17210 17237 17288 17337 17351 17398 17459 17609 17632 17643 17677 17719\n",
      " 17740 17773 17782 17824 17825 17911 18038 18219 18221 18232 18246 18291\n",
      " 18404 18427 18466 18560 18639 18749 18890 18932   130   161   180   249\n",
      "   409   725   868   965  1295  1453  1470  1679  1693  2155  2518  2626\n",
      "  2628  3117  3308  3370  3751  3959  3993  4165  4184  4214  4223  4333\n",
      "  4380  4946  4956  5558  5954  5982  6084  6252  6263  6445  6605  6654\n",
      "  6668  6809  6862  6913  6988  7311  7331  7483  7500  7572  7774  7914\n",
      "  7919  7968  8301  8303  8491  8579  8721  8725  9054  9186  9269  9302\n",
      "  9377  9415  9434  9587  9690  9757  9897 10167 10315 10327 10332 10546\n",
      " 10622 10701 10788 10797 11068 11160 11381 11431 11591 11667 11722 11778\n",
      " 11876 11967 12048 12086 12234 12431 12548 12647 12785 12849 13160 13245\n",
      " 13378 13385 13410 13482 13627 13643 13648 13734 13737 13866 13899 13954\n",
      " 14026 14228 14268 14284 14296 14353 14373 14392 14425 14442 14615 14826\n",
      " 14913 14926 15013 15026 15168 15184 15203 15431 15450 15611 15650 15741\n",
      " 15785 15921 16064 16089 16113 16115 16194 16210 16226 16273 16310 16359\n",
      " 16383 16459 16477 16502 16534 16549 16551 16555 16565 16586 16697 16767\n",
      " 16796 16854 16871 16894 16900 16957 16978 17025 17073 17098 17126 17213\n",
      " 17390 17402 17430 17443 17485 17495 17498 17519 17564 17580 17596 17604\n",
      " 17627 17646 17686 17767 17810 17829 17860 17882 17886 17892 17894 17901\n",
      " 17909 17914 17944 17950 17959 17966 17974 17988 18011 18051 18064 18070\n",
      " 18103 18106 18111 18112 18126 18136 18138 18144 18147 18154 18159 18166\n",
      " 18170 18174 18225 18237 18244 18249 18256 18263 18268 18290 18292 18298\n",
      " 18309 18315 18339 18349 18356 18358 18362 18369 18387 18391 18410 18416\n",
      " 18424 18428 18431 18439 18467 18468 18476 18479 18481 18497 18500 18505\n",
      " 18509 18516 18522 18535 18547 18588 18597 18609 18626 18629 18637 18647\n",
      " 18648 18656 18657 18658 18661 18674 18676 18677 18680 18687 18693 18697\n",
      " 18698 18701 18706 18709 18712 18713 18714 18716 18722 18726 18729 18731\n",
      " 18745 18751 18754 18759 18762 18766 18770 18773 18776 18781 18791 18800\n",
      " 18802 18804 18812 18816 18818 18824 18827 18833 18834 18836 18847 18851\n",
      " 18863 18865 18867 18871 18872 18874 18876 18878 18884 18886 18887 18889\n",
      " 18896 18898 18899 18902 18903 18905 18907 18914 18917 18924 18933 18936\n",
      " 18938 18940 18943 18944 18950]\n",
      "Support vector :  [[-0.01414331  0.00722844  0.15002801 ... -0.05199523 -0.08451071\n",
      "  -0.10726932]\n",
      " [ 0.17671031  0.09101182  0.15002801 ... -0.05199523 -0.08451071\n",
      "  -0.10726932]\n",
      " [-0.05211392 -0.04761583  0.15002801 ... -0.05199523 -0.08451071\n",
      "  -0.10726932]\n",
      " ...\n",
      " [-0.05253523 -0.04831597  0.15002801 ... -0.05199523 -0.08451071\n",
      "  -0.10726932]\n",
      " [-0.05269322 -0.04901611  0.15002801 ... -0.05199523 -0.08451071\n",
      "  -0.10726932]\n",
      " [-0.05237724 -0.04924949  0.15002801 ... -0.05199523 -0.08451071\n",
      "  -0.10726932]]\n",
      "Jumlah support vector:  [344 345]\n",
      "Nilai alpha :  [[0.1        0.1        0.1        0.1        0.1        0.1\n",
      "  0.1        0.1        0.1        0.1        0.1        0.1\n",
      "  0.1        0.1        0.1        0.1        0.1        0.1\n",
      "  0.1        0.1        0.1        0.1        0.1        0.1\n",
      "  0.1        0.1        0.1        0.1        0.1        0.1\n",
      "  0.1        0.1        0.1        0.1        0.1        0.1\n",
      "  0.1        0.1        0.1        0.1        0.1        0.1\n",
      "  0.1        0.1        0.1        0.1        0.1        0.1\n",
      "  0.1        0.1        0.1        0.1        0.1        0.1\n",
      "  0.1        0.1        0.1        0.1        0.1        0.1\n",
      "  0.1        0.1        0.1        0.1        0.1        0.1\n",
      "  0.1        0.1        0.1        0.1        0.1        0.1\n",
      "  0.1        0.1        0.1        0.1        0.1        0.1\n",
      "  0.1        0.1        0.1        0.1        0.1        0.1\n",
      "  0.1        0.1        0.1        0.1        0.1        0.1\n",
      "  0.1        0.1        0.1        0.1        0.1        0.1\n",
      "  0.1        0.1        0.1        0.1        0.1        0.1\n",
      "  0.1        0.1        0.1        0.1        0.1        0.1\n",
      "  0.1        0.1        0.1        0.1        0.1        0.1\n",
      "  0.1        0.1        0.1        0.1        0.1        0.1\n",
      "  0.1        0.1        0.1        0.1        0.1        0.1\n",
      "  0.1        0.1        0.1        0.1        0.1        0.1\n",
      "  0.1        0.1        0.1        0.1        0.1        0.1\n",
      "  0.1        0.1        0.1        0.1        0.1        0.1\n",
      "  0.1        0.1        0.1        0.1        0.1        0.1\n",
      "  0.1        0.1        0.1        0.1        0.1        0.1\n",
      "  0.1        0.1        0.1        0.1        0.1        0.1\n",
      "  0.1        0.1        0.1        0.1        0.1        0.1\n",
      "  0.1        0.1        0.1        0.1        0.1        0.1\n",
      "  0.1        0.1        0.1        0.1        0.1        0.1\n",
      "  0.1        0.1        0.1        0.1        0.1        0.1\n",
      "  0.1        0.1        0.1        0.1        0.1        0.1\n",
      "  0.1        0.1        0.1        0.1        0.1        0.1\n",
      "  0.1        0.1        0.1        0.1        0.1        0.1\n",
      "  0.1        0.1        0.1        0.1        0.1        0.1\n",
      "  0.1        0.1        0.1        0.1        0.1        0.1\n",
      "  0.1        0.1        0.1        0.1        0.1        0.1\n",
      "  0.1        0.1        0.1        0.1        0.1        0.1\n",
      "  0.1        0.1        0.1        0.1        0.1        0.1\n",
      "  0.1        0.1        0.1        0.1        0.1        0.1\n",
      "  0.1        0.1        0.1        0.1        0.1        0.1\n",
      "  0.1        0.1        0.1        0.1        0.1        0.1\n",
      "  0.1        0.1        0.1        0.1        0.1        0.1\n",
      "  0.1        0.1        0.1        0.1        0.1        0.1\n",
      "  0.1        0.1        0.1        0.1        0.1        0.1\n",
      "  0.1        0.1        0.1        0.1        0.1        0.1\n",
      "  0.1        0.1        0.1        0.1        0.1        0.1\n",
      "  0.1        0.1        0.1        0.1        0.1        0.1\n",
      "  0.1        0.1        0.1        0.1        0.1        0.1\n",
      "  0.1        0.1        0.1        0.1        0.1        0.1\n",
      "  0.1        0.1        0.1        0.1        0.1        0.1\n",
      "  0.1        0.1        0.1        0.1        0.1        0.1\n",
      "  0.1        0.1        0.1        0.1        0.1        0.1\n",
      "  0.1        0.1        0.1        0.1        0.1        0.1\n",
      "  0.1        0.1        0.1        0.1        0.1        0.1\n",
      "  0.1        0.1        0.1        0.1        0.1        0.1\n",
      "  0.1        0.1        0.1        0.1        0.1        0.1\n",
      "  0.1        0.1        0.1        0.1        0.1        0.1\n",
      "  0.1        0.1        0.1        0.1        0.1        0.1\n",
      "  0.1        0.1        0.1        0.1        0.1        0.1\n",
      "  0.1        0.1        0.1        0.1        0.1        0.1\n",
      "  0.1        0.1        0.1        0.1        0.1        0.1\n",
      "  0.1        0.1        0.1        0.1        0.1        0.1\n",
      "  0.1        0.1        0.1        0.1        0.1        0.07931621\n",
      "  0.1        0.1        0.1        0.1        0.1        0.1\n",
      "  0.1        0.1        0.1        0.1        0.1        0.1\n",
      "  0.1        0.1        0.1        0.1        0.1        0.1\n",
      "  0.1        0.1        0.1        0.1        0.1        0.1\n",
      "  0.1        0.1        0.1        0.1        0.1        0.1\n",
      "  0.1        0.1        0.1        0.1        0.1        0.1\n",
      "  0.1        0.1        0.1        0.1        0.1        0.1\n",
      "  0.02068379 0.1        0.1        0.1        0.1        0.1\n",
      "  0.1        0.1        0.1        0.1        0.1        0.1\n",
      "  0.1        0.1        0.1        0.1        0.1        0.1\n",
      "  0.1        0.1        0.1        0.1        0.1        0.1\n",
      "  0.1        0.1        0.1        0.1        0.1        0.1\n",
      "  0.1        0.1        0.1        0.1        0.1        0.1\n",
      "  0.1        0.1        0.1        0.1        0.1        0.1\n",
      "  0.1        0.1        0.1        0.1        0.1        0.1\n",
      "  0.1        0.1        0.1        0.1        0.1        0.1\n",
      "  0.1        0.1        0.1        0.1        0.1        0.1\n",
      "  0.1        0.1        0.1        0.1        0.1        0.1\n",
      "  0.1        0.1        0.1        0.1        0.1        0.1\n",
      "  0.1        0.1        0.1        0.1        0.1        0.1\n",
      "  0.1        0.1        0.1        0.1        0.1        0.1\n",
      "  0.1        0.1        0.1        0.1        0.1        0.1\n",
      "  0.1        0.1        0.1        0.1        0.1        0.1\n",
      "  0.1        0.1        0.1        0.1        0.1        0.1\n",
      "  0.1        0.1        0.1        0.1        0.1        0.1\n",
      "  0.1        0.1        0.1        0.1        0.1        0.1\n",
      "  0.1        0.1        0.1        0.1        0.1        0.1\n",
      "  0.1        0.1        0.1        0.1        0.1        0.1\n",
      "  0.1        0.1        0.1        0.1        0.1        0.1\n",
      "  0.1        0.1        0.1        0.1        0.1        0.1\n",
      "  0.1        0.1        0.1        0.1        0.1        0.1\n",
      "  0.1        0.1        0.1        0.1        0.1        0.1\n",
      "  0.1        0.1        0.1        0.1        0.1        0.1\n",
      "  0.1        0.1        0.1        0.1        0.1        0.1\n",
      "  0.1        0.1        0.1        0.1        0.1        0.1\n",
      "  0.1        0.1        0.1        0.1        0.1        0.1\n",
      "  0.1        0.1        0.1        0.1        0.1        0.1\n",
      "  0.1        0.1        0.1        0.1        0.1        0.1\n",
      "  0.1        0.1        0.1        0.1        0.1        0.1\n",
      "  0.1        0.1        0.1        0.1        0.1        0.1\n",
      "  0.1        0.1        0.1        0.1        0.1        0.1\n",
      "  0.1        0.1        0.1        0.1        0.1        0.1\n",
      "  0.1        0.1        0.1        0.1        0.1        0.1\n",
      "  0.1        0.1        0.1        0.1        0.1        0.1\n",
      "  0.1        0.1        0.1        0.1        0.1        0.1\n",
      "  0.1        0.1        0.1        0.1        0.1        0.1\n",
      "  0.1        0.1        0.1        0.1        0.1        0.1\n",
      "  0.1        0.1        0.1        0.1        0.1        0.1\n",
      "  0.1        0.1        0.1        0.1        0.1        0.1\n",
      "  0.1        0.1        0.1        0.1        0.1        0.1\n",
      "  0.1        0.1        0.1        0.1        0.1       ]]\n"
     ]
    }
   ],
   "source": [
    "print(\"Koefisien model : \", clf_svc.coef_)\n",
    "print(\"Bias model : \", clf_svc.intercept_)\n",
    "print(\"Indeks Support Vector : \", clf_svc.support_)\n",
    "print(\"Support vector : \", clf_svc.support_vectors_)\n",
    "print(\"Jumlah support vector: \",clf_svc.n_support_)\n",
    "print(\"Nilai alpha : \", np.abs(clf_svc.dual_coef_))"
   ]
  },
  {
   "cell_type": "code",
   "execution_count": 7,
   "id": "061627f0",
   "metadata": {},
   "outputs": [
    {
     "name": "stdout",
     "output_type": "stream",
     "text": [
      "[1 1 1 ... 1 1 1]\n"
     ]
    }
   ],
   "source": [
    "y_prediksi = clf_svc.predict(X_test)\n",
    "print(y_prediksi)"
   ]
  },
  {
   "cell_type": "code",
   "execution_count": 8,
   "id": "27c8b970",
   "metadata": {},
   "outputs": [
    {
     "name": "stdout",
     "output_type": "stream",
     "text": [
      "Akurasi : 97.94410931921705 %\n"
     ]
    },
    {
     "data": {
      "image/png": "[encoded data removed]",
      "text/plain": [
       "<Figure size 640x480 with 2 Axes>"
      ]
     },
     "metadata": {},
     "output_type": "display_data"
    }
   ],
   "source": [
    "from sklearn.metrics import confusion_matrix, accuracy_score\n",
    "from sklearn import metrics\n",
    "cm = confusion_matrix(y_test, y_prediksi)\n",
    "cm_display = metrics.ConfusionMatrixDisplay(confusion_matrix=cm)\n",
    "cm_display.plot()\n",
    "akurasi = accuracy_score(y_test, y_prediksi)*100\n",
    "print(\"Akurasi : {} %\".format(akurasi))"
   ]
  },
  {
   "cell_type": "code",
   "execution_count": null,
   "id": "ea6fffed",
   "metadata": {},
   "outputs": [],
   "source": []
  }
 ],
 "metadata": {
  "kernelspec": {
   "display_name": "Python 3 (ipykernel)",
   "language": "python",
   "name": "python3"
  },
  "language_info": {
   "codemirror_mode": {
    "name": "ipython",
    "version": 3
   },
   "file_extension": ".py",
   "mimetype": "text/x-python",
   "name": "python",
   "nbconvert_exporter": "python",
   "pygments_lexer": "ipython3",
   "version": "3.9.13"
  }
 },
 "nbformat": 4,
 "nbformat_minor": 5
}
