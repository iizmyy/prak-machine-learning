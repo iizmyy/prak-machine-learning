{
 "cells": [
  {
   "cell_type": "code",
   "execution_count": 2,
   "id": "970dd793",
   "metadata": {},
   "outputs": [],
   "source": [
    "from sklearn import datasets\n",
    "import numpy as np\n",
    "import pandas as pd"
   ]
  },
  {
   "cell_type": "code",
   "execution_count": null,
   "id": "8e8043b9",
   "metadata": {},
   "outputs": [],
   "source": []
  },
  {
   "cell_type": "code",
   "execution_count": 4,
   "id": "77dc01c2",
   "metadata": {},
   "outputs": [
    {
     "name": "stdout",
     "output_type": "stream",
     "text": [
      "Label kelas :  [0 1]\n"
     ]
    }
   ],
   "source": [
    "data = pd.read_csv(\"waterQuality1.csv\")\n",
    "X = data.loc[:,('aluminium', 'ammonia', 'arsenic', 'barium', 'cadmium', 'chloramine', 'chromium', 'copper', 'flouride', 'bacteria', 'viruses', 'lead', 'nitrates', 'nitrites', 'mercury', 'perchlorate', 'radium', 'selenium', 'silver', 'uranium')]\n",
    "y = data['is_safe']\n",
    "print(\"Label kelas : \", np.unique(y))"
   ]
  },
  {
   "cell_type": "code",
   "execution_count": 5,
   "id": "f17f3763",
   "metadata": {},
   "outputs": [
    {
     "name": "stdout",
     "output_type": "stream",
     "text": [
      "[[ 0.77769984 -0.58471438 -0.48082883  1.05449775 -0.99331288 -0.71169675\n",
      "   2.1534498  -0.97300495 -1.65745451 -0.36321006 -0.86910037 -0.78134877\n",
      "   1.12997554 -0.34886073  0.6088263   1.203735    1.66150641  1.05377233\n",
      "   1.33911238 -0.91713868]\n",
      " [ 1.30731642  0.77549066 -0.59960559  1.4327825  -1.13202009  1.20893261\n",
      "   1.59917419 -0.22319416  0.29501817  1.00264114  0.85014726  0.00946081\n",
      "  -1.40928413  1.04685264 -0.73936432  0.89332646  0.12461018  1.05377233\n",
      "   0.85145064  0.19801013]\n",
      " [ 0.27179743 -0.02847159 -0.48082883 -0.81225524 -0.96557143  0.80376942\n",
      "   1.04489857 -1.20253887  0.50175058 -0.81849379 -0.86116538 -0.36875247\n",
      "   0.78346676 -0.38375356  0.27177864  1.91219021  1.78635232  0.70616522\n",
      "   2.03577202 -1.28885494]\n",
      " [ 0.54846281 -0.33136493 -0.48082883  1.14495715 -1.15976153  1.96861359\n",
      "  -0.8026868   1.30703194  0.70848298  1.18475464  1.00884704 -1.43462626\n",
      "  -1.51756812 -0.06971806 -0.40231667 -0.41502577 -0.5168395  -1.03187034\n",
      "   2.10543799  0.19801013]\n",
      " [ 0.20065491  1.13243188 -0.52042108 -1.12475134 -1.02105432  0.19212883\n",
      "   1.63612589 -0.36091451 -0.37111957 -0.5756758  -0.86645537  0.30171653\n",
      "  -0.5556453  -0.38375356 -0.73936432  0.02486102 -0.21979233 -1.03187034\n",
      "  -0.61153461 -0.91713868]]\n"
     ]
    }
   ],
   "source": [
    "from sklearn.preprocessing import StandardScaler\n",
    "sc = StandardScaler()\n",
    "sc.fit(X)\n",
    "X = sc.transform(X)\n",
    "print(X[0:5,:])"
   ]
  },
  {
   "cell_type": "code",
   "execution_count": 6,
   "id": "5541b76e",
   "metadata": {},
   "outputs": [
    {
     "name": "stdout",
     "output_type": "stream",
     "text": [
      "X Training: [[ 2.32702595  0.52214121 -0.56001334  0.44595272 -0.93782999  1.6959076\n",
      "   0.49062296 -0.2078919   1.12194778  0.18313042 -0.85058539  0.09541838\n",
      "   1.62988665  0.5932458  -1.75050728 -0.75370467 -0.30158793  1.05377233\n",
      "   2.17510395 -0.91713868]\n",
      " [-0.50286562  1.33961543 -0.36205207 -0.51620631  0.75439798 -0.64546815\n",
      "  -0.91354193  0.81735959  1.51244232 -0.97025504 -0.85058539  0.90341948\n",
      "   0.77083363 -0.6280034  -0.06526901 -0.74974682 -0.81388667  0.01095099\n",
      "  -0.61153461 -0.54542241]\n",
      " [-0.51077035 -1.00921546 -0.44123658  1.13673357  0.19956914 -0.84025815\n",
      "  -0.87659022  0.3429895  -0.60082224  1.36686813  1.16754682 -1.50339231\n",
      "  -1.57171012  0.38388879  0.94587395 -0.91484572 -1.01622315 -1.03187034\n",
      "  -0.47220268 -0.17370614]\n",
      " [-0.3052475  -0.44509069 -0.12449855  2.67454331 -0.63267413  1.8361564\n",
      "  -0.17450778 -1.12602756 -0.09547636 -0.78814154 -0.86645537  0.98937704\n",
      "   0.32867398  2.61703018  0.27177864  0.55238593 -0.6804307  -0.68426323\n",
      "  -0.61153461 -0.17370614]\n",
      " [-0.463342   -1.55645027 -0.32245982 -0.54087706  0.75439798 -0.70000935\n",
      "  -0.8026868  -1.1107253  -0.89943571 -0.97025504 -0.86910037  1.04095158\n",
      "   0.93325962  1.3085489   0.6088263  -0.91654194 -0.64599045  0.70616522\n",
      "  -0.61153461 -0.17370614]]\n",
      "y Training: 607     1\n",
      "5278    0\n",
      "6030    0\n",
      "1732    0\n",
      "7688    0\n",
      "Name: is_safe, dtype: int64\n"
     ]
    }
   ],
   "source": [
    "from sklearn.model_selection import train_test_split\n",
    "X_train, X_test, y_train, y_test = train_test_split(X, y, test_size=0.3, random_state=0)\n",
    "print(\"X Training:\", X_train[0:5,:])\n",
    "print(\"y Training:\",y_train[0:5])"
   ]
  },
  {
   "cell_type": "code",
   "execution_count": 7,
   "id": "34162794",
   "metadata": {},
   "outputs": [
    {
     "data": {
      "text/plain": [
       "SVC(C=0.1, gamma=1, kernel='linear', random_state=0)"
      ]
     },
     "execution_count": 7,
     "metadata": {},
     "output_type": "execute_result"
    }
   ],
   "source": [
    "from sklearn.svm import SVC\n",
    "clf_svc = SVC(kernel='linear', C=0.1, gamma=1, random_state=0)\n",
    "clf_svc.fit(X_train, y_train)"
   ]
  },
  {
   "cell_type": "code",
   "execution_count": 8,
   "id": "16c94da9",
   "metadata": {},
   "outputs": [
    {
     "name": "stdout",
     "output_type": "stream",
     "text": [
      "Koefisien model :  [[ 0.54424713 -0.07052951 -0.6483347   0.03728444 -0.191988    0.13643324\n",
      "   0.09977503 -0.05698906  0.01677872  0.04992431 -0.09612521 -0.00640187\n",
      "  -0.07306317 -0.04978305 -0.02071154 -0.33317913 -0.03893109 -0.01525632\n",
      "  -0.05738164 -0.0786028 ]]\n",
      "Bias model :  [-1.49440807]\n",
      "Indeks Support Vector :  [   8   11   18 ... 5557 5571 5572]\n",
      "Support vector :  [[ 2.95149923  1.40492329  0.23183172 ... -0.33665612  1.40877835\n",
      "  -1.66057121]\n",
      " [ 2.82502363  1.69993465 -0.48082883 ...  0.01095099 -0.95986443\n",
      "   1.31315893]\n",
      " [ 2.47721573  1.70331264 -0.12449855 ... -0.68426323 -0.68120057\n",
      "   0.94144266]\n",
      " ...\n",
      " [ 0.16903601 -0.35501088 -0.48082883 ... -1.03187034  0.85145064\n",
      "  -0.91713868]\n",
      " [ 1.21245972  1.00857215 -0.48082883 ... -0.68426323  1.75710817\n",
      "  -1.28885494]\n",
      " [ 1.6156007   0.41066745  0.74653101 ... -1.72708457 -0.47220268\n",
      "  -0.54542241]]\n",
      "Jumlah support vector:  [618 613]\n",
      "Nilai alpha :  [[0.1 0.1 0.1 ... 0.1 0.1 0.1]]\n"
     ]
    }
   ],
   "source": [
    "print(\"Koefisien model : \", clf_svc.coef_)\n",
    "print(\"Bias model : \", clf_svc.intercept_)\n",
    "print(\"Indeks Support Vector : \", clf_svc.support_)\n",
    "print(\"Support vector : \", clf_svc.support_vectors_)\n",
    "print(\"Jumlah support vector: \",clf_svc.n_support_)\n",
    "print(\"Nilai alpha : \", np.abs(clf_svc.dual_coef_))"
   ]
  },
  {
   "cell_type": "code",
   "execution_count": 9,
   "id": "53a61eb1",
   "metadata": {},
   "outputs": [
    {
     "name": "stdout",
     "output_type": "stream",
     "text": [
      "[0 0 0 ... 0 0 0]\n"
     ]
    }
   ],
   "source": [
    "y_prediksi = clf_svc.predict(X_test)\n",
    "print(y_prediksi)"
   ]
  },
  {
   "cell_type": "code",
   "execution_count": 10,
   "id": "61b8b003",
   "metadata": {},
   "outputs": [
    {
     "name": "stdout",
     "output_type": "stream",
     "text": [
      "Akurasi : 90.125 %\n"
     ]
    },
    {
     "data": {
      "image/png": "[encoded data removed]",
      "text/plain": [
       "<Figure size 432x288 with 2 Axes>"
      ]
     },
     "metadata": {
      "needs_background": "light"
     },
     "output_type": "display_data"
    }
   ],
   "source": [
    "from sklearn.metrics import confusion_matrix, accuracy_score\n",
    "from sklearn import metrics\n",
    "cm = confusion_matrix(y_test, y_prediksi)\n",
    "cm_display = metrics.ConfusionMatrixDisplay(confusion_matrix=cm)\n",
    "cm_display.plot()\n",
    "akurasi = accuracy_score(y_test, y_prediksi)*100\n",
    "print(\"Akurasi : {} %\".format(akurasi))"
   ]
  },
  {
   "cell_type": "code",
   "execution_count": null,
   "id": "b67046de",
   "metadata": {},
   "outputs": [],
   "source": []
  },
  {
   "cell_type": "code",
   "execution_count": null,
   "id": "e0cc38a7",
   "metadata": {},
   "outputs": [],
   "source": []
  },
  {
   "cell_type": "code",
   "execution_count": null,
   "id": "7eeb5535",
   "metadata": {},
   "outputs": [],
   "source": []
  },
  {
   "cell_type": "code",
   "execution_count": null,
   "id": "cdb5849f",
   "metadata": {},
   "outputs": [],
   "source": []
  },
  {
   "cell_type": "code",
   "execution_count": null,
   "id": "ee711e06",
   "metadata": {},
   "outputs": [],
   "source": []
  },
  {
   "cell_type": "code",
   "execution_count": null,
   "id": "36a280de",
   "metadata": {},
   "outputs": [],
   "source": []
  },
  {
   "cell_type": "code",
   "execution_count": null,
   "id": "d90b5e4e",
   "metadata": {},
   "outputs": [],
   "source": []
  }
 ],
 "metadata": {
  "kernelspec": {
   "display_name": "Python 3 (ipykernel)",
   "language": "python",
   "name": "python3"
  },
  "language_info": {
   "codemirror_mode": {
    "name": "ipython",
    "version": 3
   },
   "file_extension": ".py",
   "mimetype": "text/x-python",
   "name": "python",
   "nbconvert_exporter": "python",
   "pygments_lexer": "ipython3",
   "version": "3.9.12"
  }
 },
 "nbformat": 4,
 "nbformat_minor": 5
}
