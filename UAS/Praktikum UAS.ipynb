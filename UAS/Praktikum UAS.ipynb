{
 "cells": [
  {
   "cell_type": "code",
   "execution_count": 2,
   "id": "ab4d68a0",
   "metadata": {},
   "outputs": [],
   "source": [
    "from sklearn import datasets\n",
    "import numpy as np\n",
    "import pandas as pd"
   ]
  },
  {
   "cell_type": "code",
   "execution_count": 3,
   "id": "86a50c82",
   "metadata": {},
   "outputs": [
    {
     "data": {
      "text/html": [
       "<div>\n",
       "<style scoped>\n",
       "    .dataframe tbody tr th:only-of-type {\n",
       "        vertical-align: middle;\n",
       "    }\n",
       "\n",
       "    .dataframe tbody tr th {\n",
       "        vertical-align: top;\n",
       "    }\n",
       "\n",
       "    .dataframe thead th {\n",
       "        text-align: right;\n",
       "    }\n",
       "</style>\n",
       "<table border=\"1\" class=\"dataframe\">\n",
       "  <thead>\n",
       "    <tr style=\"text-align: right;\">\n",
       "      <th></th>\n",
       "      <th>Unnamed: 0</th>\n",
       "      <th>name</th>\n",
       "      <th>gender</th>\n",
       "      <th>age</th>\n",
       "      <th>height</th>\n",
       "      <th>nationality</th>\n",
       "      <th>weight</th>\n",
       "      <th>sports</th>\n",
       "      <th>hours_per_day</th>\n",
       "      <th>strength</th>\n",
       "      <th>agility</th>\n",
       "      <th>mental</th>\n",
       "      <th>federation</th>\n",
       "      <th>year_start</th>\n",
       "      <th>rank</th>\n",
       "    </tr>\n",
       "  </thead>\n",
       "  <tbody>\n",
       "    <tr>\n",
       "      <th>0</th>\n",
       "      <td>0</td>\n",
       "      <td>Aaron Peavy</td>\n",
       "      <td>Female</td>\n",
       "      <td>41</td>\n",
       "      <td>165.0</td>\n",
       "      <td>England</td>\n",
       "      <td>82</td>\n",
       "      <td>Boxing, MMA</td>\n",
       "      <td>3</td>\n",
       "      <td>7</td>\n",
       "      <td>8</td>\n",
       "      <td>7</td>\n",
       "      <td>Fight Zone Wrestling</td>\n",
       "      <td>1989</td>\n",
       "      <td>42</td>\n",
       "    </tr>\n",
       "    <tr>\n",
       "      <th>1</th>\n",
       "      <td>1</td>\n",
       "      <td>Abe Rutland</td>\n",
       "      <td>Male</td>\n",
       "      <td>36</td>\n",
       "      <td>185.0</td>\n",
       "      <td>Japan</td>\n",
       "      <td>100</td>\n",
       "      <td>Judo</td>\n",
       "      <td>0</td>\n",
       "      <td>8</td>\n",
       "      <td>5</td>\n",
       "      <td>9</td>\n",
       "      <td>World Wrestling Entertainment</td>\n",
       "      <td>2006</td>\n",
       "      <td>161</td>\n",
       "    </tr>\n",
       "    <tr>\n",
       "      <th>2</th>\n",
       "      <td>2</td>\n",
       "      <td>Adrian Quinn</td>\n",
       "      <td>Male</td>\n",
       "      <td>29</td>\n",
       "      <td>178.5</td>\n",
       "      <td>Japan</td>\n",
       "      <td>93</td>\n",
       "      <td>Karate</td>\n",
       "      <td>4</td>\n",
       "      <td>8</td>\n",
       "      <td>8</td>\n",
       "      <td>7</td>\n",
       "      <td>World Wrestling Entertainment</td>\n",
       "      <td>2012</td>\n",
       "      <td>153</td>\n",
       "    </tr>\n",
       "    <tr>\n",
       "      <th>3</th>\n",
       "      <td>3</td>\n",
       "      <td>Alan Beckham</td>\n",
       "      <td>Male</td>\n",
       "      <td>39</td>\n",
       "      <td>187.5</td>\n",
       "      <td>Japan</td>\n",
       "      <td>107</td>\n",
       "      <td>Judo</td>\n",
       "      <td>3</td>\n",
       "      <td>7</td>\n",
       "      <td>6</td>\n",
       "      <td>8</td>\n",
       "      <td>Fight Zone Wrestling</td>\n",
       "      <td>2003</td>\n",
       "      <td>252</td>\n",
       "    </tr>\n",
       "    <tr>\n",
       "      <th>4</th>\n",
       "      <td>4</td>\n",
       "      <td>Albertha Rodriguez</td>\n",
       "      <td>Female</td>\n",
       "      <td>29</td>\n",
       "      <td>158.0</td>\n",
       "      <td>USA</td>\n",
       "      <td>72</td>\n",
       "      <td>MMA</td>\n",
       "      <td>1</td>\n",
       "      <td>5</td>\n",
       "      <td>7</td>\n",
       "      <td>7</td>\n",
       "      <td>Consejo Global de Lucha Libre</td>\n",
       "      <td>2012</td>\n",
       "      <td>360</td>\n",
       "    </tr>\n",
       "  </tbody>\n",
       "</table>\n",
       "</div>"
      ],
      "text/plain": [
       "   Unnamed: 0                name  gender  age  height nationality  weight  \\\n",
       "0           0         Aaron Peavy  Female   41   165.0     England      82   \n",
       "1           1         Abe Rutland    Male   36   185.0       Japan     100   \n",
       "2           2        Adrian Quinn    Male   29   178.5       Japan      93   \n",
       "3           3        Alan Beckham    Male   39   187.5       Japan     107   \n",
       "4           4  Albertha Rodriguez  Female   29   158.0         USA      72   \n",
       "\n",
       "        sports  hours_per_day  strength  agility  mental  \\\n",
       "0  Boxing, MMA              3         7        8       7   \n",
       "1         Judo              0         8        5       9   \n",
       "2       Karate              4         8        8       7   \n",
       "3         Judo              3         7        6       8   \n",
       "4          MMA              1         5        7       7   \n",
       "\n",
       "                      federation  year_start  rank  \n",
       "0           Fight Zone Wrestling        1989    42  \n",
       "1  World Wrestling Entertainment        2006   161  \n",
       "2  World Wrestling Entertainment        2012   153  \n",
       "3           Fight Zone Wrestling        2003   252  \n",
       "4  Consejo Global de Lucha Libre        2012   360  "
      ]
     },
     "metadata": {},
     "output_type": "display_data"
    },
    {
     "data": {
      "text/plain": [
       "(500, 15)"
      ]
     },
     "execution_count": 3,
     "metadata": {},
     "output_type": "execute_result"
    }
   ],
   "source": [
    "df_wwt = pd.read_csv('WrestlingTournament.csv')\n",
    "display(df_wwt.head())\n",
    "df_wwt.shape"
   ]
  },
  {
   "cell_type": "code",
   "execution_count": 4,
   "id": "377ff6fb",
   "metadata": {},
   "outputs": [
    {
     "data": {
      "text/html": [
       "<div>\n",
       "<style scoped>\n",
       "    .dataframe tbody tr th:only-of-type {\n",
       "        vertical-align: middle;\n",
       "    }\n",
       "\n",
       "    .dataframe tbody tr th {\n",
       "        vertical-align: top;\n",
       "    }\n",
       "\n",
       "    .dataframe thead th {\n",
       "        text-align: right;\n",
       "    }\n",
       "</style>\n",
       "<table border=\"1\" class=\"dataframe\">\n",
       "  <thead>\n",
       "    <tr style=\"text-align: right;\">\n",
       "      <th></th>\n",
       "      <th>age</th>\n",
       "      <th>weight</th>\n",
       "      <th>strength</th>\n",
       "      <th>sports</th>\n",
       "    </tr>\n",
       "  </thead>\n",
       "  <tbody>\n",
       "    <tr>\n",
       "      <th>0</th>\n",
       "      <td>41</td>\n",
       "      <td>82</td>\n",
       "      <td>7</td>\n",
       "      <td>Boxing, MMA</td>\n",
       "    </tr>\n",
       "    <tr>\n",
       "      <th>1</th>\n",
       "      <td>36</td>\n",
       "      <td>100</td>\n",
       "      <td>8</td>\n",
       "      <td>Judo</td>\n",
       "    </tr>\n",
       "    <tr>\n",
       "      <th>2</th>\n",
       "      <td>29</td>\n",
       "      <td>93</td>\n",
       "      <td>8</td>\n",
       "      <td>Karate</td>\n",
       "    </tr>\n",
       "    <tr>\n",
       "      <th>3</th>\n",
       "      <td>39</td>\n",
       "      <td>107</td>\n",
       "      <td>7</td>\n",
       "      <td>Judo</td>\n",
       "    </tr>\n",
       "    <tr>\n",
       "      <th>4</th>\n",
       "      <td>29</td>\n",
       "      <td>72</td>\n",
       "      <td>5</td>\n",
       "      <td>MMA</td>\n",
       "    </tr>\n",
       "    <tr>\n",
       "      <th>...</th>\n",
       "      <td>...</td>\n",
       "      <td>...</td>\n",
       "      <td>...</td>\n",
       "      <td>...</td>\n",
       "    </tr>\n",
       "    <tr>\n",
       "      <th>96</th>\n",
       "      <td>30</td>\n",
       "      <td>89</td>\n",
       "      <td>5</td>\n",
       "      <td>Boxing</td>\n",
       "    </tr>\n",
       "    <tr>\n",
       "      <th>97</th>\n",
       "      <td>24</td>\n",
       "      <td>73</td>\n",
       "      <td>5</td>\n",
       "      <td>Boxing, Kick-Boxing</td>\n",
       "    </tr>\n",
       "    <tr>\n",
       "      <th>98</th>\n",
       "      <td>27</td>\n",
       "      <td>92</td>\n",
       "      <td>9</td>\n",
       "      <td>Kick-Boxing</td>\n",
       "    </tr>\n",
       "    <tr>\n",
       "      <th>99</th>\n",
       "      <td>25</td>\n",
       "      <td>85</td>\n",
       "      <td>6</td>\n",
       "      <td>Boxing, Judo, Kick-Boxing</td>\n",
       "    </tr>\n",
       "    <tr>\n",
       "      <th>100</th>\n",
       "      <td>40</td>\n",
       "      <td>109</td>\n",
       "      <td>8</td>\n",
       "      <td>Boxing, Kick-Boxing, MMA</td>\n",
       "    </tr>\n",
       "  </tbody>\n",
       "</table>\n",
       "<p>101 rows × 4 columns</p>\n",
       "</div>"
      ],
      "text/plain": [
       "     age  weight  strength                     sports\n",
       "0     41      82         7                Boxing, MMA\n",
       "1     36     100         8                       Judo\n",
       "2     29      93         8                     Karate\n",
       "3     39     107         7                       Judo\n",
       "4     29      72         5                        MMA\n",
       "..   ...     ...       ...                        ...\n",
       "96    30      89         5                     Boxing\n",
       "97    24      73         5        Boxing, Kick-Boxing\n",
       "98    27      92         9                Kick-Boxing\n",
       "99    25      85         6  Boxing, Judo, Kick-Boxing\n",
       "100   40     109         8   Boxing, Kick-Boxing, MMA\n",
       "\n",
       "[101 rows x 4 columns]"
      ]
     },
     "metadata": {},
     "output_type": "display_data"
    }
   ],
   "source": [
    "fitur_loc = ['age','weight', 'strength','sports']\n",
    "fitur = ['age','weight','strength']\n",
    "df_wwt = df_wwt.loc[:100,(fitur_loc)]\n",
    "X = df_wwt[fitur]\n",
    "y = df_wwt.sports\n",
    "display(df_wwt)"
   ]
  },
  {
   "cell_type": "code",
   "execution_count": 5,
   "id": "ec697874",
   "metadata": {},
   "outputs": [
    {
     "name": "stdout",
     "output_type": "stream",
     "text": [
      "[[ 1.78301544 -0.66963237  0.59572472]\n",
      " [ 0.88796296  0.86167788  1.23581192]\n",
      " [-0.36511052  0.26616834  1.23581192]\n",
      " [ 1.42499444  1.45718741  0.59572472]\n",
      " [-0.36511052 -1.52036028 -0.68444968]]\n"
     ]
    }
   ],
   "source": [
    "from sklearn.preprocessing import StandardScaler\n",
    "sc = StandardScaler()\n",
    "sc.fit(X)\n",
    "X = sc.transform(X)\n",
    "print(X[0:5,:])"
   ]
  },
  {
   "cell_type": "code",
   "execution_count": 6,
   "id": "aaf261e8",
   "metadata": {},
   "outputs": [
    {
     "name": "stdout",
     "output_type": "stream",
     "text": [
      "X Training: [[-0.18610002  1.28704183  0.59572472]\n",
      " [-1.61818399 -1.26514191 -0.04436248]\n",
      " [ 0.35093147 -1.60543307 -0.68444968]\n",
      " [-0.00708952 -0.3293412  -0.68444968]\n",
      " [ 1.06697345 -0.49948678 -0.68444968]]\n",
      "y Training: 80                  MMA\n",
      "91    Judo, Kick-Boxing\n",
      "68               Karate\n",
      "51               Karate\n",
      "27               Boxing\n",
      "Name: sports, dtype: object\n"
     ]
    }
   ],
   "source": [
    "from sklearn.model_selection import train_test_split\n",
    "X_train, X_test, y_train, y_test = train_test_split(X, y, test_size=0.3, random_state=0)\n",
    "print(\"X Training:\", X_train[0:5,:])\n",
    "print(\"y Training:\",y_train[0:5])"
   ]
  },
  {
   "cell_type": "code",
   "execution_count": 7,
   "id": "499c1948",
   "metadata": {},
   "outputs": [
    {
     "data": {
      "text/plain": [
       "SVC(C=1, kernel='linear', random_state=0)"
      ]
     },
     "execution_count": 7,
     "metadata": {},
     "output_type": "execute_result"
    }
   ],
   "source": [
    "from sklearn.svm import SVC\n",
    "clf_svc = SVC(kernel='linear', C=1, random_state=0)\n",
    "clf_svc.fit(X_train, y_train)"
   ]
  },
  {
   "cell_type": "code",
   "execution_count": 8,
   "id": "16f8be7b",
   "metadata": {},
   "outputs": [
    {
     "name": "stdout",
     "output_type": "stream",
     "text": [
      "['Judo' 'Judo' 'MMA' 'MMA' 'MMA' 'Judo' 'Boxing, Kick-Boxing' 'MMA'\n",
      " 'Boxing, Kick-Boxing' 'Judo' 'Boxing, Kick-Boxing' 'Judo' 'Judo'\n",
      " 'Boxing, Kick-Boxing' 'MMA' 'Judo' 'Judo' 'Judo' 'Boxing, Kick-Boxing'\n",
      " 'Judo' 'Boxing, Kick-Boxing, MMA' 'Judo' 'Judo' 'Judo'\n",
      " 'Boxing, Kick-Boxing' 'Boxing, Kick-Boxing, MMA' 'MMA' 'Judo' 'Judo'\n",
      " 'Boxing' 'Boxing, Kick-Boxing']\n"
     ]
    }
   ],
   "source": [
    "y_prediksi = clf_svc.predict(X_test)\n",
    "print(y_prediksi)"
   ]
  },
  {
   "cell_type": "code",
   "execution_count": 9,
   "id": "d28d3725",
   "metadata": {},
   "outputs": [
    {
     "name": "stdout",
     "output_type": "stream",
     "text": [
      "Akurasi : 6.451612903225806 %\n"
     ]
    },
    {
     "data": {
      "image/png": "[encoded data removed]",
      "text/plain": [
       "<Figure size 432x288 with 2 Axes>"
      ]
     },
     "metadata": {
      "needs_background": "light"
     },
     "output_type": "display_data"
    }
   ],
   "source": [
    "from sklearn.metrics import confusion_matrix, accuracy_score\n",
    "from sklearn import metrics\n",
    "cm = confusion_matrix(y_test, y_prediksi)\n",
    "cm_display = metrics.ConfusionMatrixDisplay(confusion_matrix=cm)\n",
    "cm_display.plot()\n",
    "akurasi = accuracy_score(y_test, y_prediksi)*100\n",
    "print(\"Akurasi : {} %\".format(akurasi))"
   ]
  },
  {
   "cell_type": "code",
   "execution_count": null,
   "id": "b95c77b9",
   "metadata": {},
   "outputs": [],
   "source": []
  }
 ],
 "metadata": {
  "kernelspec": {
   "display_name": "Python 3 (ipykernel)",
   "language": "python",
   "name": "python3"
  },
  "language_info": {
   "codemirror_mode": {
    "name": "ipython",
    "version": 3
   },
   "file_extension": ".py",
   "mimetype": "text/x-python",
   "name": "python",
   "nbconvert_exporter": "python",
   "pygments_lexer": "ipython3",
   "version": "3.9.12"
  }
 },
 "nbformat": 4,
 "nbformat_minor": 5
}
