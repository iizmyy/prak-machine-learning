{
 "cells": [
  {
   "cell_type": "code",
   "execution_count": 1,
   "id": "a039abd3",
   "metadata": {},
   "outputs": [],
   "source": [
    "from sklearn import datasets\n",
    "import numpy as np\n",
    "import pandas as pd\n",
    "import io"
   ]
  },
  {
   "cell_type": "code",
   "execution_count": 3,
   "id": "6d7de502",
   "metadata": {},
   "outputs": [
    {
     "name": "stdout",
     "output_type": "stream",
     "text": [
      "Label kelas:  ['high' 'low' 'med']\n"
     ]
    }
   ],
   "source": [
    "df_mobil = pd.read_csv('cars.csv')\n",
    "X = df_mobil.iloc[:,[2,3,4]]\n",
    "X= pd.get_dummies(X, prefix=['lug boot'], columns=['lug boot'])\n",
    "y= df_mobil['safety']\n",
    "\n",
    "print (\"Label kelas: \", np.unique(y))"
   ]
  },
  {
   "cell_type": "code",
   "execution_count": 4,
   "id": "2f6bfd1f",
   "metadata": {},
   "outputs": [
    {
     "name": "stdout",
     "output_type": "stream",
     "text": [
      "[[-1.34164079 -1.33630621 -0.70710678 -0.70710678  1.41421356]\n",
      " [-1.34164079 -1.33630621 -0.70710678 -0.70710678  1.41421356]\n",
      " [-1.34164079 -1.33630621 -0.70710678 -0.70710678  1.41421356]\n",
      " [-1.34164079 -1.33630621 -0.70710678  1.41421356 -0.70710678]\n",
      " [-1.34164079 -1.33630621 -0.70710678  1.41421356 -0.70710678]]\n"
     ]
    }
   ],
   "source": [
    "from sklearn.preprocessing import StandardScaler\n",
    "\n",
    "sc = StandardScaler()\n",
    "sc.fit(X)\n",
    "X = sc.transform(X)\n",
    "\n",
    "print(X[0:5,:])"
   ]
  },
  {
   "cell_type": "code",
   "execution_count": 5,
   "id": "2bfe4985",
   "metadata": {},
   "outputs": [
    {
     "name": "stdout",
     "output_type": "stream",
     "text": [
      "X Training: [[-0.4472136   0.26726124 -0.70710678  1.41421356 -0.70710678]\n",
      " [-1.34164079  1.06904497  1.41421356 -0.70710678 -0.70710678]\n",
      " [-0.4472136   1.06904497 -0.70710678 -0.70710678  1.41421356]\n",
      " [-1.34164079  0.26726124 -0.70710678  1.41421356 -0.70710678]\n",
      " [-0.4472136   1.06904497 -0.70710678 -0.70710678  1.41421356]]\n",
      "y Training: 580      med\n",
      "1214    high\n",
      "1665     low\n",
      "661      med\n",
      "587     high\n",
      "Name: safety, dtype: object\n"
     ]
    }
   ],
   "source": [
    "from sklearn.model_selection import train_test_split\n",
    "\n",
    "X_train, X_test, y_train, y_test = train_test_split(X, y, test_size=0.3, random_state=0)\n",
    "\n",
    "print(\"X Training:\", X_train[0:5,:])\n",
    "print(\"y Training:\",y_train[0:5])"
   ]
  },
  {
   "cell_type": "code",
   "execution_count": 6,
   "id": "e79b48f7",
   "metadata": {},
   "outputs": [
    {
     "data": {
      "text/plain": [
       "SVC(C=1, kernel='linear', random_state=0)"
      ]
     },
     "execution_count": 6,
     "metadata": {},
     "output_type": "execute_result"
    }
   ],
   "source": [
    "from sklearn.svm import SVC\n",
    "\n",
    "clf_svc = SVC(kernel='linear', C=1, random_state=0)\n",
    "clf_svc.fit(X_train, y_train)"
   ]
  },
  {
   "cell_type": "code",
   "execution_count": 7,
   "id": "7bfea137",
   "metadata": {},
   "outputs": [
    {
     "name": "stdout",
     "output_type": "stream",
     "text": [
      "Koefisien model :  [[ 4.61648717e-07 -2.41896974e-08  3.14192427e-01  3.14178604e-01\n",
      "  -6.28371031e-01]\n",
      " [-1.64993370e-05 -3.44347723e-05  3.14337027e-01  3.14134904e-01\n",
      "  -6.28471931e-01]\n",
      " [-9.30132206e-05 -1.76249160e-04  3.14250975e-01  3.14292496e-01\n",
      "  -6.28543471e-01]]\n",
      "Bias model :  [0.33334565 0.33329357 0.33329915]\n",
      "Indeks Support Vector :  [   1    4    7 ... 1204 1205 1207]\n",
      "Support vector :  [[-1.34164079  1.06904497  1.41421356 -0.70710678 -0.70710678]\n",
      " [-0.4472136   1.06904497 -0.70710678 -0.70710678  1.41421356]\n",
      " [ 1.34164079  1.06904497  1.41421356 -0.70710678 -0.70710678]\n",
      " ...\n",
      " [ 0.4472136   1.06904497  1.41421356 -0.70710678 -0.70710678]\n",
      " [-0.4472136  -1.33630621 -0.70710678 -0.70710678  1.41421356]\n",
      " [-1.34164079  1.06904497 -0.70710678 -0.70710678  1.41421356]]\n",
      "Jumlah support vector:  [403 411 392]\n",
      "Nilai alpha :  [[1. 1. 1. ... 1. 1. 0.]\n",
      " [1. 1. 1. ... 1. 1. 1.]]\n"
     ]
    }
   ],
   "source": [
    "print(\"Koefisien model : \", clf_svc.coef_)\n",
    "print(\"Bias model : \", clf_svc.intercept_)\n",
    "print(\"Indeks Support Vector : \", clf_svc.support_)\n",
    "print(\"Support vector : \", clf_svc.support_vectors_)\n",
    "print(\"Jumlah support vector: \",clf_svc.n_support_)\n",
    "print(\"Nilai alpha : \", np.abs(clf_svc.dual_coef_))"
   ]
  },
  {
   "cell_type": "code",
   "execution_count": 8,
   "id": "a0dd33e4",
   "metadata": {},
   "outputs": [
    {
     "name": "stdout",
     "output_type": "stream",
     "text": [
      "['high' 'high' 'med' 'high' 'high' 'high' 'med' 'high' 'high' 'high'\n",
      " 'high' 'med' 'high' 'med' 'high' 'high' 'med' 'high' 'high' 'med' 'high'\n",
      " 'high' 'high' 'high' 'high' 'med' 'high' 'med' 'high' 'med' 'high' 'med'\n",
      " 'high' 'high' 'high' 'high' 'high' 'high' 'high' 'high' 'med' 'high'\n",
      " 'high' 'high' 'high' 'med' 'med' 'high' 'high' 'high' 'high' 'high' 'med'\n",
      " 'high' 'high' 'high' 'high' 'high' 'med' 'high' 'med' 'high' 'high'\n",
      " 'high' 'high' 'med' 'high' 'high' 'high' 'med' 'high' 'high' 'high' 'med'\n",
      " 'high' 'high' 'med' 'med' 'high' 'high' 'high' 'high' 'high' 'med' 'med'\n",
      " 'high' 'med' 'high' 'med' 'high' 'high' 'high' 'high' 'med' 'high' 'high'\n",
      " 'high' 'high' 'high' 'high' 'high' 'high' 'med' 'high' 'high' 'high'\n",
      " 'high' 'high' 'high' 'med' 'high' 'med' 'med' 'high' 'med' 'high' 'high'\n",
      " 'med' 'high' 'med' 'high' 'high' 'high' 'high' 'med' 'high' 'high' 'high'\n",
      " 'high' 'high' 'high' 'med' 'high' 'high' 'high' 'high' 'high' 'med' 'med'\n",
      " 'med' 'high' 'high' 'high' 'med' 'high' 'med' 'high' 'high' 'med' 'high'\n",
      " 'high' 'high' 'med' 'med' 'med' 'high' 'med' 'med' 'med' 'med' 'med'\n",
      " 'med' 'med' 'high' 'high' 'med' 'med' 'med' 'high' 'high' 'high' 'med'\n",
      " 'high' 'high' 'high' 'high' 'med' 'high' 'med' 'med' 'high' 'high' 'med'\n",
      " 'high' 'med' 'high' 'med' 'high' 'high' 'high' 'med' 'med' 'med' 'high'\n",
      " 'med' 'med' 'high' 'high' 'high' 'high' 'high' 'med' 'med' 'high' 'high'\n",
      " 'med' 'high' 'high' 'med' 'med' 'high' 'high' 'high' 'med' 'high' 'high'\n",
      " 'med' 'med' 'med' 'med' 'high' 'high' 'high' 'high' 'med' 'high' 'high'\n",
      " 'high' 'med' 'med' 'high' 'high' 'high' 'med' 'med' 'high' 'med' 'med'\n",
      " 'med' 'high' 'high' 'high' 'high' 'high' 'med' 'med' 'med' 'med' 'high'\n",
      " 'high' 'med' 'high' 'med' 'med' 'high' 'med' 'high' 'high' 'high' 'high'\n",
      " 'med' 'high' 'high' 'high' 'med' 'high' 'high' 'high' 'high' 'high'\n",
      " 'high' 'high' 'high' 'high' 'high' 'high' 'high' 'high' 'high' 'med'\n",
      " 'high' 'high' 'high' 'med' 'high' 'high' 'high' 'high' 'high' 'high'\n",
      " 'high' 'high' 'med' 'med' 'med' 'high' 'med' 'med' 'med' 'high' 'med'\n",
      " 'high' 'high' 'high' 'high' 'med' 'high' 'med' 'med' 'high' 'med' 'med'\n",
      " 'high' 'high' 'med' 'high' 'med' 'high' 'high' 'high' 'high' 'high'\n",
      " 'high' 'high' 'med' 'high' 'med' 'med' 'high' 'high' 'high' 'high' 'high'\n",
      " 'med' 'high' 'high' 'high' 'high' 'high' 'med' 'med' 'high' 'high' 'med'\n",
      " 'high' 'high' 'med' 'high' 'med' 'med' 'high' 'high' 'high' 'med' 'med'\n",
      " 'med' 'med' 'high' 'high' 'high' 'med' 'med' 'high' 'high' 'med' 'high'\n",
      " 'high' 'high' 'high' 'high' 'med' 'high' 'high' 'med' 'med' 'med' 'high'\n",
      " 'high' 'med' 'med' 'high' 'high' 'high' 'high' 'med' 'high' 'high' 'high'\n",
      " 'med' 'high' 'high' 'med' 'med' 'high' 'high' 'high' 'high' 'high' 'high'\n",
      " 'med' 'high' 'high' 'high' 'high' 'high' 'high' 'high' 'high' 'high'\n",
      " 'high' 'med' 'high' 'med' 'high' 'med' 'med' 'med' 'high' 'high' 'high'\n",
      " 'med' 'high' 'high' 'high' 'med' 'high' 'high' 'high' 'high' 'high'\n",
      " 'high' 'high' 'high' 'med' 'med' 'high' 'high' 'high' 'med' 'high' 'med'\n",
      " 'med' 'high' 'med' 'high' 'med' 'med' 'high' 'high' 'med' 'high' 'med'\n",
      " 'high' 'med' 'med' 'high' 'high' 'high' 'high' 'med' 'med' 'high' 'high'\n",
      " 'high' 'high' 'med' 'med' 'high' 'high' 'high' 'high' 'med' 'med' 'high'\n",
      " 'high' 'high' 'med' 'high' 'med' 'high' 'high' 'high' 'high' 'high'\n",
      " 'high' 'med' 'high' 'high' 'high' 'high' 'high' 'med' 'med' 'med' 'high'\n",
      " 'high' 'high' 'med' 'high' 'high' 'high' 'high' 'high' 'high' 'med'\n",
      " 'high' 'high' 'med' 'high' 'high' 'high' 'high' 'high' 'high' 'high'\n",
      " 'high' 'med' 'high' 'high']\n"
     ]
    }
   ],
   "source": [
    "y_prediksi = clf_svc.predict(X_test)\n",
    "print(y_prediksi)"
   ]
  },
  {
   "cell_type": "code",
   "execution_count": 9,
   "id": "f17dd444",
   "metadata": {},
   "outputs": [
    {
     "name": "stdout",
     "output_type": "stream",
     "text": [
      "Akurasi : 30.2504816955684 %\n"
     ]
    },
    {
     "data": {
      "image/png": "[encoded data removed]",
      "text/plain": [
       "<Figure size 432x288 with 2 Axes>"
      ]
     },
     "metadata": {
      "needs_background": "light"
     },
     "output_type": "display_data"
    }
   ],
   "source": [
    "from sklearn.metrics import confusion_matrix, accuracy_score\n",
    "from sklearn import metrics\n",
    "cm = confusion_matrix(y_test, y_prediksi)\n",
    "cm_display = metrics.ConfusionMatrixDisplay(confusion_matrix=cm)\n",
    "cm_display.plot()\n",
    "akurasi = accuracy_score(y_test, y_prediksi)*100\n",
    "print(\"Akurasi : {} %\".format(akurasi))"
   ]
  },
  {
   "cell_type": "code",
   "execution_count": null,
   "id": "b7f67084",
   "metadata": {},
   "outputs": [],
   "source": []
  }
 ],
 "metadata": {
  "kernelspec": {
   "display_name": "Python 3 (ipykernel)",
   "language": "python",
   "name": "python3"
  },
  "language_info": {
   "codemirror_mode": {
    "name": "ipython",
    "version": 3
   },
   "file_extension": ".py",
   "mimetype": "text/x-python",
   "name": "python",
   "nbconvert_exporter": "python",
   "pygments_lexer": "ipython3",
   "version": "3.9.12"
  }
 },
 "nbformat": 4,
 "nbformat_minor": 5
}
