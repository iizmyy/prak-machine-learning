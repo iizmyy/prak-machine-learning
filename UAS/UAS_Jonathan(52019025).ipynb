{
 "cells": [
  {
   "cell_type": "code",
   "execution_count": 2,
   "metadata": {},
   "outputs": [],
   "source": [
    "from sklearn import datasets\n",
    "import numpy as np\n",
    "import pandas as pd"
   ]
  },
  {
   "cell_type": "code",
   "execution_count": 17,
   "metadata": {
    "scrolled": true
   },
   "outputs": [
    {
     "data": {
      "text/html": [
       "<div>\n",
       "<style scoped>\n",
       "    .dataframe tbody tr th:only-of-type {\n",
       "        vertical-align: middle;\n",
       "    }\n",
       "\n",
       "    .dataframe tbody tr th {\n",
       "        vertical-align: top;\n",
       "    }\n",
       "\n",
       "    .dataframe thead th {\n",
       "        text-align: right;\n",
       "    }\n",
       "</style>\n",
       "<table border=\"1\" class=\"dataframe\">\n",
       "  <thead>\n",
       "    <tr style=\"text-align: right;\">\n",
       "      <th></th>\n",
       "      <th>fixed acidity</th>\n",
       "      <th>volatile acidity</th>\n",
       "      <th>citric acid</th>\n",
       "      <th>residual sugar</th>\n",
       "      <th>chlorides</th>\n",
       "      <th>free sulfur dioxide</th>\n",
       "      <th>total sulfur dioxide</th>\n",
       "      <th>density</th>\n",
       "      <th>pH</th>\n",
       "      <th>sulphates</th>\n",
       "      <th>alcohol</th>\n",
       "      <th>quality</th>\n",
       "    </tr>\n",
       "  </thead>\n",
       "  <tbody>\n",
       "    <tr>\n",
       "      <th>0</th>\n",
       "      <td>7.4</td>\n",
       "      <td>0.70</td>\n",
       "      <td>0.00</td>\n",
       "      <td>1.9</td>\n",
       "      <td>0.076</td>\n",
       "      <td>11.0</td>\n",
       "      <td>34.0</td>\n",
       "      <td>0.9978</td>\n",
       "      <td>3.51</td>\n",
       "      <td>0.56</td>\n",
       "      <td>9.4</td>\n",
       "      <td>5</td>\n",
       "    </tr>\n",
       "    <tr>\n",
       "      <th>1</th>\n",
       "      <td>7.8</td>\n",
       "      <td>0.88</td>\n",
       "      <td>0.00</td>\n",
       "      <td>2.6</td>\n",
       "      <td>0.098</td>\n",
       "      <td>25.0</td>\n",
       "      <td>67.0</td>\n",
       "      <td>0.9968</td>\n",
       "      <td>3.20</td>\n",
       "      <td>0.68</td>\n",
       "      <td>9.8</td>\n",
       "      <td>5</td>\n",
       "    </tr>\n",
       "    <tr>\n",
       "      <th>2</th>\n",
       "      <td>7.8</td>\n",
       "      <td>0.76</td>\n",
       "      <td>0.04</td>\n",
       "      <td>2.3</td>\n",
       "      <td>0.092</td>\n",
       "      <td>15.0</td>\n",
       "      <td>54.0</td>\n",
       "      <td>0.9970</td>\n",
       "      <td>3.26</td>\n",
       "      <td>0.65</td>\n",
       "      <td>9.8</td>\n",
       "      <td>5</td>\n",
       "    </tr>\n",
       "    <tr>\n",
       "      <th>3</th>\n",
       "      <td>11.2</td>\n",
       "      <td>0.28</td>\n",
       "      <td>0.56</td>\n",
       "      <td>1.9</td>\n",
       "      <td>0.075</td>\n",
       "      <td>17.0</td>\n",
       "      <td>60.0</td>\n",
       "      <td>0.9980</td>\n",
       "      <td>3.16</td>\n",
       "      <td>0.58</td>\n",
       "      <td>9.8</td>\n",
       "      <td>6</td>\n",
       "    </tr>\n",
       "    <tr>\n",
       "      <th>4</th>\n",
       "      <td>7.4</td>\n",
       "      <td>0.70</td>\n",
       "      <td>0.00</td>\n",
       "      <td>1.9</td>\n",
       "      <td>0.076</td>\n",
       "      <td>11.0</td>\n",
       "      <td>34.0</td>\n",
       "      <td>0.9978</td>\n",
       "      <td>3.51</td>\n",
       "      <td>0.56</td>\n",
       "      <td>9.4</td>\n",
       "      <td>5</td>\n",
       "    </tr>\n",
       "  </tbody>\n",
       "</table>\n",
       "</div>"
      ],
      "text/plain": [
       "   fixed acidity  volatile acidity  citric acid  residual sugar  chlorides  \\\n",
       "0            7.4              0.70         0.00             1.9      0.076   \n",
       "1            7.8              0.88         0.00             2.6      0.098   \n",
       "2            7.8              0.76         0.04             2.3      0.092   \n",
       "3           11.2              0.28         0.56             1.9      0.075   \n",
       "4            7.4              0.70         0.00             1.9      0.076   \n",
       "\n",
       "   free sulfur dioxide  total sulfur dioxide  density    pH  sulphates  \\\n",
       "0                 11.0                  34.0   0.9978  3.51       0.56   \n",
       "1                 25.0                  67.0   0.9968  3.20       0.68   \n",
       "2                 15.0                  54.0   0.9970  3.26       0.65   \n",
       "3                 17.0                  60.0   0.9980  3.16       0.58   \n",
       "4                 11.0                  34.0   0.9978  3.51       0.56   \n",
       "\n",
       "   alcohol  quality  \n",
       "0      9.4        5  \n",
       "1      9.8        5  \n",
       "2      9.8        5  \n",
       "3      9.8        6  \n",
       "4      9.4        5  "
      ]
     },
     "execution_count": 17,
     "metadata": {},
     "output_type": "execute_result"
    }
   ],
   "source": [
    "data = pd.read_csv(\"winequality-red.csv\")\n",
    "data.head()"
   ]
  },
  {
   "cell_type": "code",
   "execution_count": 23,
   "metadata": {},
   "outputs": [
    {
     "name": "stdout",
     "output_type": "stream",
     "text": [
      "Label kelas :  [3 4 5 6 7 8]\n"
     ]
    }
   ],
   "source": [
    "X = data.loc[:,('fixed acidity', 'volatile acidity', 'citric acid', 'residual sugar', 'chlorides', 'free sulfur dioxide', 'total sulfur dioxide', 'density','pH','sulphates','alcohol')]\n",
    "y = data['quality']\n",
    "print(\"Label kelas : \", np.unique(y))"
   ]
  },
  {
   "cell_type": "code",
   "execution_count": 4,
   "metadata": {},
   "outputs": [
    {
     "name": "stdout",
     "output_type": "stream",
     "text": [
      "[[-0.52835961  0.96187667 -1.39147228 -0.45321841 -0.24370669 -0.46619252\n",
      "  -0.37913269  0.55827446  1.28864292 -0.57920652 -0.96024611]\n",
      " [-0.29854743  1.96744245 -1.39147228  0.04341614  0.2238752   0.87263823\n",
      "   0.62436323  0.02826077 -0.7199333   0.1289504  -0.58477711]\n",
      " [-0.29854743  1.29706527 -1.18607043 -0.16942723  0.09635286 -0.08366945\n",
      "   0.22904665  0.13426351 -0.33117661 -0.04808883 -0.58477711]\n",
      " [ 1.65485608 -1.38444349  1.4841536  -0.45321841 -0.26496041  0.10759209\n",
      "   0.41150046  0.6642772  -0.97910442 -0.46118037 -0.58477711]\n",
      " [-0.52835961  0.96187667 -1.39147228 -0.45321841 -0.24370669 -0.46619252\n",
      "  -0.37913269  0.55827446  1.28864292 -0.57920652 -0.96024611]]\n"
     ]
    }
   ],
   "source": [
    "from sklearn.preprocessing import StandardScaler\n",
    "sc = StandardScaler()\n",
    "sc.fit(X)\n",
    "X = sc.transform(X)\n",
    "print(X[0:5,:])"
   ]
  },
  {
   "cell_type": "code",
   "execution_count": 5,
   "metadata": {},
   "outputs": [
    {
     "name": "stdout",
     "output_type": "stream",
     "text": [
      "X Training: [[ 0.16107692 -0.21128341  0.09769112 -0.38227061  0.47891986  0.29885363\n",
      "   2.63135506  0.24026625 -2.46933839  7.8006504  -0.58477711]\n",
      " [-0.18364134 -1.94309115  0.50849482 -1.16269634 -0.81755718  1.92457668\n",
      "   1.90153985 -3.5387314  -2.72850951 -1.28736344  2.13737311]\n",
      " [-0.87307788  0.79428237 -1.39147228 -0.45321841 -0.1586918   0.58574593\n",
      "  -0.22708785  0.13956364  0.57592232  0.48302886 -0.67864436]\n",
      " [ 1.02287259 -1.21684919  0.4057939  -0.66606179 -0.26496041 -0.65745405\n",
      "  -0.56158649 -0.01414033 -0.46076217  1.01414655  0.72936437]\n",
      " [-0.58581266 -0.43474247  0.45714436  2.38469332 -0.28621413 -0.37056175\n",
      "   1.23254257  0.55827446  0.12237286  1.01414655  0.07229363]]\n",
      "y Training: 92      5\n",
      "1017    6\n",
      "1447    5\n",
      "838     7\n",
      "40      5\n",
      "Name: quality, dtype: int64\n"
     ]
    }
   ],
   "source": [
    "from sklearn.model_selection import train_test_split\n",
    "X_train, X_test, y_train, y_test = train_test_split(X, y, test_size=0.3, random_state=0)\n",
    "print(\"X Training:\", X_train[0:5,:])\n",
    "print(\"y Training:\",y_train[0:5])"
   ]
  },
  {
   "cell_type": "code",
   "execution_count": 12,
   "metadata": {},
   "outputs": [
    {
     "data": {
      "text/plain": [
       "SVC(C=0.1, gamma=1, kernel='linear', random_state=0)"
      ]
     },
     "execution_count": 12,
     "metadata": {},
     "output_type": "execute_result"
    }
   ],
   "source": [
    "from sklearn.svm import SVC\n",
    "clf_svc = SVC(kernel='linear', C=0.1, gamma=1, random_state=0)\n",
    "clf_svc.fit(X_train, y_train)"
   ]
  },
  {
   "cell_type": "code",
   "execution_count": 13,
   "metadata": {},
   "outputs": [
    {
     "name": "stdout",
     "output_type": "stream",
     "text": [
      "Koefisien model :  [[ 1.43118378e-01  9.24393557e-02 -7.43000164e-02 -1.91459117e-02\n",
      "   1.11228385e-01  3.47621013e-02 -1.02926543e-01  1.86661960e-02\n",
      "   2.49216001e-02 -7.89932621e-02 -1.61138295e-02]\n",
      " [ 5.66122150e-04  1.85541238e-03  8.71375585e-04  6.29787391e-05\n",
      "   8.20822322e-04  4.74207656e-03 -1.03302658e-02  4.29585822e-04\n",
      "   8.64166883e-04  8.86903803e-04 -6.65789693e-04]\n",
      " [ 1.02989939e-01  3.31785642e-01 -1.08289761e-01  2.91744908e-02\n",
      "   1.48569870e-01  7.70026767e-02 -1.28233341e-01  2.33768015e-02\n",
      "   1.19769675e-01 -3.33223321e-03  5.14733550e-03]\n",
      " [ 6.61228962e-02  6.46022067e-01 -4.46165248e-02 -1.45119578e-01\n",
      "   2.95296128e-01 -4.47564391e-03  2.62611243e-02  1.15544217e-01\n",
      "   6.93400302e-02 -9.90624168e-02 -2.44984881e-01]\n",
      " [ 6.55909572e-02  2.51105763e-01 -1.46221386e-01 -2.95277773e-02\n",
      "   1.81613231e-01  2.09245368e-01  8.14084732e-02  2.21268349e-01\n",
      "   2.35233712e-01 -4.72127363e-02 -2.60595279e-01]\n",
      " [ 2.90854239e-04  4.71208848e-05 -1.39367528e-06  1.36556859e-04\n",
      "   2.08720344e-05 -2.26138378e-05  4.60529399e-05 -3.60991799e-04\n",
      "   2.77238881e-04  1.09484095e-04 -2.79258210e-04]\n",
      " [ 3.30727185e-04  1.43284602e-04  1.79457121e-05  1.26506044e-04\n",
      "   5.37661761e-05  5.13499800e-06 -4.65077602e-05 -3.39512745e-04\n",
      "   1.77612400e-04  3.75008328e-05 -2.15089453e-04]\n",
      " [ 2.43639663e-02  6.74788583e-01 -3.65878387e-03  1.24863353e-01\n",
      "   3.37717553e-01 -1.34047859e-01  1.56636583e-01 -9.82561329e-02\n",
      "   2.81911432e-02 -3.25891500e-01 -6.61228205e-01]\n",
      " [-6.80162197e-02  2.63307455e-01 -3.26220305e-01  3.26533965e-01\n",
      "   2.74555760e-01  1.67312370e-01  2.18673542e-01  1.88264714e-01\n",
      "   2.31956189e-01 -2.69047820e-01 -5.19851065e-01]\n",
      " [-2.80310206e-01  3.76806117e-01  2.23214263e-01 -4.64527580e-02\n",
      "   9.84694356e-02 -1.26345547e-01  3.63130768e-01  3.49591966e-02\n",
      "   5.79667819e-03 -3.53408264e-01 -7.86937279e-01]\n",
      " [-3.22785210e-01  4.71948230e-01 -1.15564350e-01 -1.99576279e-01\n",
      "   1.66479643e-01 -1.76781905e-01  4.11269048e-01  4.85687667e-01\n",
      "   9.17907026e-03 -4.48856245e-01 -7.29678252e-01]\n",
      " [ 2.06895883e-01  6.71756247e-02 -3.17029697e-01  1.33212416e-01\n",
      "   6.33508780e-02  1.80376848e-03  1.97278035e-01  4.52511760e-02\n",
      "   6.63487277e-02 -1.44152413e-01 -3.13032649e-01]\n",
      " [-4.28970849e-01  4.76763363e-01  1.49057043e-01 -2.89717215e-01\n",
      "   5.38902283e-02  2.36920296e-01  3.23048054e-02  2.83419630e-01\n",
      "  -1.59790112e-01 -3.37536345e-01 -3.77674181e-01]\n",
      " [ 4.32311216e-04  9.54352750e-05 -1.83336338e-04  8.81325264e-05\n",
      "   2.40922779e-04 -9.73925303e-05  3.84640271e-04 -2.44621039e-04\n",
      "   2.22440022e-04 -5.14130948e-05 -1.24765994e-04]\n",
      " [ 5.16338874e-04 -6.67744110e-05 -1.18261327e-04  6.22888901e-04\n",
      "   2.33077827e-04 -1.28864852e-05  1.49946859e-04 -3.44448605e-04\n",
      "   5.05983659e-04  3.90783462e-05 -2.73998875e-04]]\n",
      "Bias model :  [-1.32235458 -1.00899655 -1.86823936 -1.40072912  0.02037778 -1.00020229\n",
      " -1.0001947  -0.49817887  0.81499985 -0.10292965  1.01602656  1.60741035\n",
      "  1.45927901  1.00053749  1.0004166 ]\n",
      "Indeks Support Vector :  [  39  252  332  393  654  743  798   35   47   80   89   93  103  110\n",
      "  144  174  181  227  338  411  420  436  438  494  550  556  580  611\n",
      "  627  652  787  788  841  879  882  886  922  941  960  962  981 1040\n",
      " 1072 1084 1107    0    2    4    6   11   14   16   18   24   36   37\n",
      "   51   52   54   55   57   59   61   64   67   69   72   73   74   75\n",
      "   82   84   96  100  104  108  113  117  118  121  123  128  130  131\n",
      "  132  136  139  140  142  147  148  157  161  162  170  172  176  177\n",
      "  190  191  192  194  198  199  203  205  206  211  212  213  217  218\n",
      "  222  228  231  234  239  246  248  250  254  257  258  259  260  262\n",
      "  266  267  269  271  274  283  286  289  293  299  302  304  306  309\n",
      "  311  312  315  324  333  337  343  345  346  350  352  360  362  363\n",
      "  364  365  369  370  378  381  386  388  391  392  400  403  405  406\n",
      "  407  408  410  415  425  426  427  430  433  437  444  445  447  449\n",
      "  453  457  462  467  469  471  474  476  477  478  480  481  482  488\n",
      "  489  491  497  498  499  501  510  511  513  516  518  522  527  529\n",
      "  535  536  538  542  543  544  546  548  554  555  558  560  561  562\n",
      "  563  566  568  570  574  582  585  586  587  588  590  592  594  600\n",
      "  609  612  613  616  621  626  629  634  635  636  643  645  648  649\n",
      "  650  651  655  656  657  659  661  664  669  672  675  677  678  683\n",
      "  684  687  688  690  691  708  710  712  715  717  719  721  723  724\n",
      "  730  736  739  741  744  758  770  772  781  783  790  792  796  800\n",
      "  801  802  808  818  819  822  823  825  827  829  831  839  848  855\n",
      "  858  860  862  878  883  885  890  892  895  896  902  903  905  910\n",
      "  912  913  914  921  924  925  927  928  930  931  932  933  937  949\n",
      "  950  952  953  958  974  980  984  994  996  997  998  999 1002 1005\n",
      " 1006 1008 1010 1011 1015 1017 1019 1021 1024 1027 1032 1042 1047 1049\n",
      " 1050 1059 1062 1067 1069 1070 1071 1079 1080 1089 1093 1097 1099 1100\n",
      " 1101 1104 1105 1106    1    5    7    8   10   13   15   19   20   23\n",
      "   25   26   28   29   31   33   34   40   42   43   46   49   53   56\n",
      "   58   60   63   65   66   70   71   76   77   78   81   85   86   88\n",
      "   90   95   97   98  105  106  112  114  115  116  120  124  125  126\n",
      "  127  129  134  135  141  145  150  153  155  156  159  160  163  164\n",
      "  165  166  171  173  175  178  180  182  183  185  187  188  195  202\n",
      "  207  210  215  216  219  221  224  226  229  232  233  235  236  237\n",
      "  238  240  241  244  247  249  253  255  270  272  273  277  278  279\n",
      "  282  284  285  287  290  291  292  296  300  301  303  307  308  310\n",
      "  313  314  316  318  319  323  328  329  330  334  341  347  348  351\n",
      "  353  355  356  357  361  366  367  368  371  372  373  374  375  380\n",
      "  382  383  385  387  389  395  396  397  398  401  414  416  422  423\n",
      "  424  428  429  431  432  441  443  446  450  451  452  454  455  456\n",
      "  458  459  460  461  468  470  472  473  475  484  485  486  490  492\n",
      "  493  496  503  504  505  507  508  509  512  515  517  520  525  526\n",
      "  539  540  541  547  549  552  557  564  565  567  569  571  572  573\n",
      "  575  577  578  579  591  595  597  598  599  601  605  606  607  608\n",
      "  614  617  618  619  620  622  631  632  637  639  640  641  642  644\n",
      "  646  653  663  666  668  671  673  676  680  682  685  686  692  693\n",
      "  694  697  699  700  701  703  704  706  707  711  714  720  725  728\n",
      "  732  737  738  740  742  745  747  749  752  753  754  756  759  760\n",
      "  761  763  764  766  767  768  769  778  780  785  786  791  795  797\n",
      "  809  810  812  813  814  815  820  821  826  828  837  838  840  842\n",
      "  845  847  849  852  853  854  856  857  859  864  865  866  868  870\n",
      "  872  873  874  877  880  881  884  888  894  897  899  901  904  906\n",
      "  907  911  915  919  923  926  929  934  935  936  939  942  945  946\n",
      "  948  951  954  955  956  961  966  970  971  972  977  978  979  983\n",
      "  985  987  988  990  993 1004 1007 1009 1012 1013 1014 1016 1018 1020\n",
      " 1023 1026 1030 1033 1035 1036 1037 1039 1041 1043 1044 1045 1048 1051\n",
      " 1053 1057 1060 1061 1068 1075 1076 1077 1078 1082 1083 1088 1090 1091\n",
      " 1092 1094 1095 1098 1102 1103 1109 1110 1111 1112 1116 1117    3   27\n",
      "   30   48   50   68   87   94  101  102  109  119  143  152  158  167\n",
      "  169  179  184  200  201  209  214  220  230  243  245  251  256  261\n",
      "  264  265  268  275  281  297  298  325  327  331  336  340  344  349\n",
      "  354  358  359  376  377  379  384  390  399  402  404  412  419  439\n",
      "  463  464  465  466  479  483  495  500  506  519  523  524  530  532\n",
      "  553  581  593  603  624  628  630  633  638  647  667  689  695  702\n",
      "  705  718  726  727  729  731  733  735  748  750  751  757  765  771\n",
      "  775  776  777  779  784  794  799  804  807  811  816  830  843  844\n",
      "  850  867  871  875  887  889  891  893  898  900  908  909  938  940\n",
      "  957  963  967  968  969  973  975  982  986  992 1000 1028 1029 1031\n",
      " 1046 1054 1055 1056 1058 1063 1064 1065 1073 1081 1085 1087  122  189\n",
      "  197  208  322  409  413  596  615  662  674  803  824]\n",
      "Support vector :  [[-0.58581266  2.52609011 -1.13471997 ... -0.0072127  -0.6382196\n",
      "  -0.67864436]\n",
      " [-0.41345352  5.87797605 -1.39147228 ...  1.22385014 -1.52341575\n",
      "   0.44776263]\n",
      " [-0.93053092  1.29706527 -1.28877135 ...  1.54781404 -0.16611498\n",
      "  -0.44397624]\n",
      " ...\n",
      " [-1.61996746 -0.21128341 -1.23742089 ...  1.22385014  0.95513348\n",
      "   3.35764735]\n",
      " [ 1.71230912  0.51495855  2.04900868 ... -0.59034773  0.18796348\n",
      "   2.79444385]\n",
      " [ 1.36759086 -0.99339013  1.33010221 ... -1.0438972  -0.04808883\n",
      "   0.54162988]]\n",
      "Jumlah support vector:  [  7  38 337 428 154  13]\n",
      "Nilai alpha :  [[0.1        0.1        0.1        ... 0.         0.00499075 0.        ]\n",
      " [0.1        0.1        0.1        ... 0.00165129 0.         0.1       ]\n",
      " [0.1        0.1        0.1        ... 0.1        0.1        0.1       ]\n",
      " [0.1        0.         0.1        ... 0.1        0.1        0.1       ]\n",
      " [0.         0.         0.1        ... 0.1        0.1        0.1       ]]\n"
     ]
    }
   ],
   "source": [
    "print(\"Koefisien model : \", clf_svc.coef_)\n",
    "print(\"Bias model : \", clf_svc.intercept_)\n",
    "print(\"Indeks Support Vector : \", clf_svc.support_)\n",
    "print(\"Support vector : \", clf_svc.support_vectors_)\n",
    "print(\"Jumlah support vector: \",clf_svc.n_support_)\n",
    "print(\"Nilai alpha : \", np.abs(clf_svc.dual_coef_))"
   ]
  },
  {
   "cell_type": "code",
   "execution_count": 14,
   "metadata": {},
   "outputs": [
    {
     "name": "stdout",
     "output_type": "stream",
     "text": [
      "[6 5 7 5 6 5 5 6 5 5 5 5 6 5 5 6 7 6 6 5 6 5 6 7 5 5 5 6 5 6 6 6 6 5 6 6 5\n",
      " 5 6 6 5 6 7 7 6 5 5 6 5 6 5 5 6 7 6 5 5 5 7 5 5 6 6 6 5 6 5 6 6 6 5 5 5 5\n",
      " 5 6 5 5 5 6 6 5 6 6 5 5 7 5 5 5 5 5 6 5 6 5 6 5 5 6 7 6 6 6 6 5 6 5 6 5 6\n",
      " 5 6 5 6 6 6 7 6 6 5 6 5 5 6 7 5 5 6 6 5 5 6 6 7 5 6 5 6 5 6 5 5 5 6 6 6 7\n",
      " 6 5 6 6 5 6 6 5 5 5 6 6 6 5 7 5 6 5 6 7 5 6 6 5 5 7 6 6 7 7 6 5 5 7 5 6 7\n",
      " 5 5 6 5 6 6 6 5 5 5 5 5 5 5 5 5 6 5 5 5 5 5 6 6 5 6 6 5 6 5 5 6 6 6 5 5 6\n",
      " 6 6 5 6 6 6 5 5 5 6 5 6 6 6 6 7 7 6 5 5 5 5 6 5 5 5 5 6 5 5 5 5 5 5 5 5 5\n",
      " 5 5 7 5 5 5 5 5 5 6 6 6 6 5 6 6 6 6 5 7 6 5 7 6 6 6 5 5 5 6 6 6 6 6 5 5 6\n",
      " 5 5 5 5 6 5 5 5 6 6 5 5 5 5 6 6 5 5 5 7 6 6 5 6 5 6 6 6 5 5 7 5 5 5 7 5 5\n",
      " 6 5 6 6 5 5 5 5 5 5 6 6 5 5 5 5 7 6 6 5 6 7 5 6 6 6 6 5 6 5 6 6 5 5 6 5 5\n",
      " 6 6 5 6 5 5 6 6 6 6 6 6 5 5 5 6 6 5 6 5 7 5 5 6 5 6 5 6 6 5 5 5 5 5 6 5 6\n",
      " 6 5 6 5 5 5 6 6 5 6 5 5 6 6 6 6 6 5 6 5 6 5 5 5 6 5 6 6 7 6 7 5 5 6 5 6 5\n",
      " 6 5 5 7 5 5 6 5 6 7 6 5 6 5 6 5 5 7 5 5 5 5 6 5 5 5 6 5 5 5 6 5 5 5 6 5]\n"
     ]
    }
   ],
   "source": [
    "y_prediksi = clf_svc.predict(X_test)\n",
    "print(y_prediksi)"
   ]
  },
  {
   "cell_type": "code",
   "execution_count": 15,
   "metadata": {},
   "outputs": [
    {
     "name": "stdout",
     "output_type": "stream",
     "text": [
      "Akurasi : 61.25000000000001 %\n"
     ]
    },
    {
     "data": {
      "image/png": "[encoded data removed]",
      "text/plain": [
       "<Figure size 432x288 with 2 Axes>"
      ]
     },
     "metadata": {
      "needs_background": "light"
     },
     "output_type": "display_data"
    }
   ],
   "source": [
    "from sklearn.metrics import confusion_matrix, accuracy_score\n",
    "from sklearn import metrics\n",
    "cm = confusion_matrix(y_test, y_prediksi)\n",
    "cm_display = metrics.ConfusionMatrixDisplay(confusion_matrix=cm)\n",
    "cm_display.plot()\n",
    "akurasi = accuracy_score(y_test, y_prediksi)*100\n",
    "print(\"Akurasi : {} %\".format(akurasi))"
   ]
  },
  {
   "cell_type": "code",
   "execution_count": null,
   "metadata": {},
   "outputs": [],
   "source": []
  }
 ],
 "metadata": {
  "kernelspec": {
   "display_name": "Python 3",
   "language": "python",
   "name": "python3"
  },
  "language_info": {
   "codemirror_mode": {
    "name": "ipython",
    "version": 3
   },
   "file_extension": ".py",
   "mimetype": "text/x-python",
   "name": "python",
   "nbconvert_exporter": "python",
   "pygments_lexer": "ipython3",
   "version": "3.8.5"
  }
 },
 "nbformat": 4,
 "nbformat_minor": 5
}
