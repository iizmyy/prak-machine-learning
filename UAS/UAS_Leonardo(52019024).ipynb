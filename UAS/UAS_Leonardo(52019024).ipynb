{
 "cells": [
  {
   "cell_type": "code",
   "execution_count": 1,
   "metadata": {},
   "outputs": [],
   "source": [
    "from sklearn import datasets\n",
    "import numpy as np\n",
    "import pandas as pd"
   ]
  },
  {
   "cell_type": "code",
   "execution_count": 2,
   "metadata": {
    "scrolled": true
   },
   "outputs": [
    {
     "data": {
      "text/html": [
       "<div>\n",
       "<style scoped>\n",
       "    .dataframe tbody tr th:only-of-type {\n",
       "        vertical-align: middle;\n",
       "    }\n",
       "\n",
       "    .dataframe tbody tr th {\n",
       "        vertical-align: top;\n",
       "    }\n",
       "\n",
       "    .dataframe thead th {\n",
       "        text-align: right;\n",
       "    }\n",
       "</style>\n",
       "<table border=\"1\" class=\"dataframe\">\n",
       "  <thead>\n",
       "    <tr style=\"text-align: right;\">\n",
       "      <th></th>\n",
       "      <th>Favorite Color</th>\n",
       "      <th>Favorite Music Genre</th>\n",
       "      <th>Favorite Beverage</th>\n",
       "      <th>Favorite Soft Drink</th>\n",
       "      <th>Gender</th>\n",
       "    </tr>\n",
       "  </thead>\n",
       "  <tbody>\n",
       "    <tr>\n",
       "      <th>0</th>\n",
       "      <td>Cool</td>\n",
       "      <td>Rock</td>\n",
       "      <td>Vodka</td>\n",
       "      <td>7UP/Sprite</td>\n",
       "      <td>F</td>\n",
       "    </tr>\n",
       "    <tr>\n",
       "      <th>1</th>\n",
       "      <td>Neutral</td>\n",
       "      <td>Hip hop</td>\n",
       "      <td>Vodka</td>\n",
       "      <td>Coca Cola/Pepsi</td>\n",
       "      <td>F</td>\n",
       "    </tr>\n",
       "    <tr>\n",
       "      <th>2</th>\n",
       "      <td>Warm</td>\n",
       "      <td>Rock</td>\n",
       "      <td>Wine</td>\n",
       "      <td>Coca Cola/Pepsi</td>\n",
       "      <td>F</td>\n",
       "    </tr>\n",
       "    <tr>\n",
       "      <th>3</th>\n",
       "      <td>Warm</td>\n",
       "      <td>Folk/Traditional</td>\n",
       "      <td>Whiskey</td>\n",
       "      <td>Fanta</td>\n",
       "      <td>F</td>\n",
       "    </tr>\n",
       "    <tr>\n",
       "      <th>4</th>\n",
       "      <td>Cool</td>\n",
       "      <td>Rock</td>\n",
       "      <td>Vodka</td>\n",
       "      <td>Coca Cola/Pepsi</td>\n",
       "      <td>F</td>\n",
       "    </tr>\n",
       "  </tbody>\n",
       "</table>\n",
       "</div>"
      ],
      "text/plain": [
       "  Favorite Color Favorite Music Genre Favorite Beverage Favorite Soft Drink  \\\n",
       "0           Cool                 Rock             Vodka          7UP/Sprite   \n",
       "1        Neutral              Hip hop             Vodka     Coca Cola/Pepsi   \n",
       "2           Warm                 Rock              Wine     Coca Cola/Pepsi   \n",
       "3           Warm     Folk/Traditional           Whiskey               Fanta   \n",
       "4           Cool                 Rock             Vodka     Coca Cola/Pepsi   \n",
       "\n",
       "  Gender  \n",
       "0      F  \n",
       "1      F  \n",
       "2      F  \n",
       "3      F  \n",
       "4      F  "
      ]
     },
     "execution_count": 2,
     "metadata": {},
     "output_type": "execute_result"
    }
   ],
   "source": [
    "data = pd.read_csv(\"Transformed Data Set - Sheet1.csv\")\n",
    "data.head()"
   ]
  },
  {
   "cell_type": "code",
   "execution_count": 6,
   "metadata": {},
   "outputs": [
    {
     "name": "stdout",
     "output_type": "stream",
     "text": [
      "Label kelas :  ['F' 'M']\n"
     ]
    }
   ],
   "source": [
    "X = data.loc[:,('Favorite Color', 'Favorite Music Genre', 'Favorite Beverage', 'Favorite Soft Drink')]\n",
    "X = pd.get_dummies(X, prefix=('Favorite Color', 'Favorite Music Genre', 'Favorite Beverage', 'Favorite Soft Drink'), columns=['Favorite Color', 'Favorite Music Genre', 'Favorite Beverage', 'Favorite Soft Drink'])\n",
    "y = data['Gender']\n",
    "print(\"Label kelas : \", np.unique(y))"
   ]
  },
  {
   "cell_type": "code",
   "execution_count": 7,
   "metadata": {},
   "outputs": [
    {
     "name": "stdout",
     "output_type": "stream",
     "text": [
      "[[ 0.88531564 -0.34444748 -0.70710678 -0.37139068 -0.25400025 -0.37139068\n",
      "  -0.25400025 -0.58901509 -0.31622777  1.57279503 -0.49526056 -0.51887452\n",
      "  -0.4472136   2.51661148 -0.39735971 -0.42257713  2.01913919 -0.9701425\n",
      "  -0.51887452 -0.34444748]\n",
      " [-1.12954065  2.9032002  -0.70710678 -0.37139068 -0.25400025  2.6925824\n",
      "  -0.25400025 -0.58901509 -0.31622777 -0.63581076 -0.49526056 -0.51887452\n",
      "  -0.4472136   2.51661148 -0.39735971 -0.42257713 -0.49526056  1.03077641\n",
      "  -0.51887452 -0.34444748]\n",
      " [-1.12954065 -0.34444748  1.41421356 -0.37139068 -0.25400025 -0.37139068\n",
      "  -0.25400025 -0.58901509 -0.31622777  1.57279503 -0.49526056 -0.51887452\n",
      "  -0.4472136  -0.39735971 -0.39735971  2.36643191 -0.49526056  1.03077641\n",
      "  -0.51887452 -0.34444748]\n",
      " [-1.12954065 -0.34444748  1.41421356 -0.37139068  3.93700394 -0.37139068\n",
      "  -0.25400025 -0.58901509 -0.31622777 -0.63581076 -0.49526056 -0.51887452\n",
      "  -0.4472136  -0.39735971  2.51661148 -0.42257713 -0.49526056 -0.9701425\n",
      "   1.92724822 -0.34444748]\n",
      " [ 0.88531564 -0.34444748 -0.70710678 -0.37139068 -0.25400025 -0.37139068\n",
      "  -0.25400025 -0.58901509 -0.31622777  1.57279503 -0.49526056 -0.51887452\n",
      "  -0.4472136   2.51661148 -0.39735971 -0.42257713 -0.49526056  1.03077641\n",
      "  -0.51887452 -0.34444748]]\n"
     ]
    }
   ],
   "source": [
    "from sklearn.preprocessing import StandardScaler\n",
    "sc = StandardScaler()\n",
    "sc.fit(X)\n",
    "X = sc.transform(X)\n",
    "print(X[0:5,:])"
   ]
  },
  {
   "cell_type": "code",
   "execution_count": 8,
   "metadata": {},
   "outputs": [
    {
     "name": "stdout",
     "output_type": "stream",
     "text": [
      "X Training: [[-1.12954065  2.9032002  -0.70710678 -0.37139068 -0.25400025 -0.37139068\n",
      "  -0.25400025  1.69774938 -0.31622777 -0.63581076 -0.49526056  1.92724822\n",
      "  -0.4472136  -0.39735971 -0.39735971 -0.42257713  2.01913919 -0.9701425\n",
      "  -0.51887452 -0.34444748]\n",
      " [ 0.88531564 -0.34444748 -0.70710678 -0.37139068 -0.25400025 -0.37139068\n",
      "  -0.25400025 -0.58901509 -0.31622777  1.57279503 -0.49526056 -0.51887452\n",
      "  -0.4472136  -0.39735971 -0.39735971  2.36643191 -0.49526056  1.03077641\n",
      "  -0.51887452 -0.34444748]\n",
      " [ 0.88531564 -0.34444748 -0.70710678 -0.37139068 -0.25400025 -0.37139068\n",
      "  -0.25400025 -0.58901509  3.16227766 -0.63581076  2.01913919 -0.51887452\n",
      "  -0.4472136  -0.39735971 -0.39735971 -0.42257713 -0.49526056  1.03077641\n",
      "  -0.51887452 -0.34444748]\n",
      " [-1.12954065 -0.34444748  1.41421356 -0.37139068 -0.25400025 -0.37139068\n",
      "  -0.25400025  1.69774938 -0.31622777 -0.63581076 -0.49526056 -0.51887452\n",
      "  -0.4472136  -0.39735971  2.51661148 -0.42257713 -0.49526056 -0.9701425\n",
      "   1.92724822 -0.34444748]\n",
      " [ 0.88531564 -0.34444748 -0.70710678 -0.37139068 -0.25400025 -0.37139068\n",
      "  -0.25400025 -0.58901509 -0.31622777  1.57279503  2.01913919 -0.51887452\n",
      "  -0.4472136  -0.39735971 -0.39735971 -0.42257713 -0.49526056  1.03077641\n",
      "  -0.51887452 -0.34444748]]\n",
      "y Training: 41    M\n",
      "64    M\n",
      "32    F\n",
      "7     F\n",
      "14    F\n",
      "Name: Gender, dtype: object\n"
     ]
    }
   ],
   "source": [
    "from sklearn.model_selection import train_test_split\n",
    "X_train, X_test, y_train, y_test = train_test_split(X, y, test_size=0.3, random_state=0)\n",
    "print(\"X Training:\", X_train[0:5,:])\n",
    "print(\"y Training:\",y_train[0:5])"
   ]
  },
  {
   "cell_type": "code",
   "execution_count": 9,
   "metadata": {},
   "outputs": [
    {
     "data": {
      "text/plain": [
       "SVC(C=0.1, gamma=1, kernel='linear', random_state=0)"
      ]
     },
     "execution_count": 9,
     "metadata": {},
     "output_type": "execute_result"
    }
   ],
   "source": [
    "from sklearn.svm import SVC\n",
    "clf_svc = SVC(kernel='linear', C=0.1, gamma=1, random_state=0)\n",
    "clf_svc.fit(X_train, y_train)"
   ]
  },
  {
   "cell_type": "code",
   "execution_count": 10,
   "metadata": {},
   "outputs": [
    {
     "name": "stdout",
     "output_type": "stream",
     "text": [
      "Koefisien model :  [[ 2.77447794e-02  5.61534490e-03 -3.28786692e-02  1.06202354e-01\n",
      "   1.07525318e-17  3.06397308e-01 -2.32773182e-01 -4.26766443e-01\n",
      "   1.36035665e-01  1.51061059e-01 -4.36489970e-02  1.80448399e-01\n",
      "  -2.68328157e-01  1.99305633e-01 -4.51640861e-02 -2.59571908e-02\n",
      "  -2.77489362e-02 -1.62604389e-02  4.68738121e-02 -1.06008534e-16]]\n",
      "Bias model :  [0.05128066]\n",
      "Indeks Support Vector :  [ 2  3  4  5  6 11 14 15 16 18 19 20 22 27 30 31 35 36 37 41 42  0  1  7\n",
      "  8  9 10 12 21 23 25 26 29 33 34 38 39 40 43 44 45]\n",
      "Support vector :  [[ 0.88531564 -0.34444748 -0.70710678 -0.37139068 -0.25400025 -0.37139068\n",
      "  -0.25400025 -0.58901509  3.16227766 -0.63581076  2.01913919 -0.51887452\n",
      "  -0.4472136  -0.39735971 -0.39735971 -0.42257713 -0.49526056  1.03077641\n",
      "  -0.51887452 -0.34444748]\n",
      " [-1.12954065 -0.34444748  1.41421356 -0.37139068 -0.25400025 -0.37139068\n",
      "  -0.25400025  1.69774938 -0.31622777 -0.63581076 -0.49526056 -0.51887452\n",
      "  -0.4472136  -0.39735971  2.51661148 -0.42257713 -0.49526056 -0.9701425\n",
      "   1.92724822 -0.34444748]\n",
      " [ 0.88531564 -0.34444748 -0.70710678 -0.37139068 -0.25400025 -0.37139068\n",
      "  -0.25400025 -0.58901509 -0.31622777  1.57279503  2.01913919 -0.51887452\n",
      "  -0.4472136  -0.39735971 -0.39735971 -0.42257713 -0.49526056  1.03077641\n",
      "  -0.51887452 -0.34444748]\n",
      " [ 0.88531564 -0.34444748 -0.70710678 -0.37139068 -0.25400025 -0.37139068\n",
      "  -0.25400025  1.69774938 -0.31622777 -0.63581076  2.01913919 -0.51887452\n",
      "  -0.4472136  -0.39735971 -0.39735971 -0.42257713 -0.49526056 -0.9701425\n",
      "  -0.51887452  2.9032002 ]\n",
      " [ 0.88531564 -0.34444748 -0.70710678 -0.37139068 -0.25400025 -0.37139068\n",
      "  -0.25400025  1.69774938 -0.31622777 -0.63581076 -0.49526056  1.92724822\n",
      "  -0.4472136  -0.39735971 -0.39735971 -0.42257713 -0.49526056 -0.9701425\n",
      "  -0.51887452  2.9032002 ]\n",
      " [ 0.88531564 -0.34444748 -0.70710678 -0.37139068 -0.25400025 -0.37139068\n",
      "  -0.25400025 -0.58901509 -0.31622777  1.57279503 -0.49526056 -0.51887452\n",
      "   2.23606798 -0.39735971 -0.39735971 -0.42257713 -0.49526056  1.03077641\n",
      "  -0.51887452 -0.34444748]\n",
      " [-1.12954065 -0.34444748  1.41421356 -0.37139068 -0.25400025 -0.37139068\n",
      "   3.93700394 -0.58901509 -0.31622777 -0.63581076 -0.49526056  1.92724822\n",
      "  -0.4472136  -0.39735971 -0.39735971 -0.42257713 -0.49526056 -0.9701425\n",
      "   1.92724822 -0.34444748]\n",
      " [ 0.88531564 -0.34444748 -0.70710678 -0.37139068 -0.25400025 -0.37139068\n",
      "  -0.25400025  1.69774938 -0.31622777 -0.63581076 -0.49526056 -0.51887452\n",
      "  -0.4472136  -0.39735971 -0.39735971  2.36643191  2.01913919 -0.9701425\n",
      "  -0.51887452 -0.34444748]\n",
      " [ 0.88531564 -0.34444748 -0.70710678 -0.37139068 -0.25400025 -0.37139068\n",
      "  -0.25400025  1.69774938 -0.31622777 -0.63581076  2.01913919 -0.51887452\n",
      "  -0.4472136  -0.39735971 -0.39735971 -0.42257713 -0.49526056 -0.9701425\n",
      "   1.92724822 -0.34444748]\n",
      " [-1.12954065 -0.34444748  1.41421356 -0.37139068 -0.25400025 -0.37139068\n",
      "  -0.25400025 -0.58901509 -0.31622777  1.57279503 -0.49526056 -0.51887452\n",
      "   2.23606798 -0.39735971 -0.39735971 -0.42257713  2.01913919 -0.9701425\n",
      "  -0.51887452 -0.34444748]\n",
      " [-1.12954065 -0.34444748  1.41421356  2.6925824  -0.25400025 -0.37139068\n",
      "  -0.25400025 -0.58901509 -0.31622777 -0.63581076 -0.49526056 -0.51887452\n",
      "  -0.4472136  -0.39735971 -0.39735971  2.36643191 -0.49526056  1.03077641\n",
      "  -0.51887452 -0.34444748]\n",
      " [-1.12954065 -0.34444748  1.41421356 -0.37139068 -0.25400025 -0.37139068\n",
      "  -0.25400025 -0.58901509  3.16227766 -0.63581076 -0.49526056 -0.51887452\n",
      "  -0.4472136  -0.39735971  2.51661148 -0.42257713 -0.49526056  1.03077641\n",
      "  -0.51887452 -0.34444748]\n",
      " [ 0.88531564 -0.34444748 -0.70710678 -0.37139068 -0.25400025 -0.37139068\n",
      "  -0.25400025 -0.58901509 -0.31622777  1.57279503 -0.49526056 -0.51887452\n",
      "   2.23606798 -0.39735971 -0.39735971 -0.42257713 -0.49526056  1.03077641\n",
      "  -0.51887452 -0.34444748]\n",
      " [-1.12954065  2.9032002  -0.70710678 -0.37139068 -0.25400025  2.6925824\n",
      "  -0.25400025 -0.58901509 -0.31622777 -0.63581076 -0.49526056 -0.51887452\n",
      "  -0.4472136   2.51661148 -0.39735971 -0.42257713 -0.49526056  1.03077641\n",
      "  -0.51887452 -0.34444748]\n",
      " [ 0.88531564 -0.34444748 -0.70710678 -0.37139068  3.93700394 -0.37139068\n",
      "  -0.25400025 -0.58901509 -0.31622777 -0.63581076 -0.49526056 -0.51887452\n",
      "  -0.4472136  -0.39735971  2.51661148 -0.42257713  2.01913919 -0.9701425\n",
      "  -0.51887452 -0.34444748]\n",
      " [ 0.88531564 -0.34444748 -0.70710678 -0.37139068 -0.25400025 -0.37139068\n",
      "  -0.25400025  1.69774938 -0.31622777 -0.63581076  2.01913919 -0.51887452\n",
      "  -0.4472136  -0.39735971 -0.39735971 -0.42257713 -0.49526056  1.03077641\n",
      "  -0.51887452 -0.34444748]\n",
      " [-1.12954065 -0.34444748  1.41421356 -0.37139068 -0.25400025 -0.37139068\n",
      "   3.93700394 -0.58901509 -0.31622777 -0.63581076 -0.49526056 -0.51887452\n",
      "  -0.4472136  -0.39735971  2.51661148 -0.42257713 -0.49526056 -0.9701425\n",
      "   1.92724822 -0.34444748]\n",
      " [ 0.88531564 -0.34444748 -0.70710678 -0.37139068 -0.25400025 -0.37139068\n",
      "  -0.25400025  1.69774938 -0.31622777 -0.63581076 -0.49526056  1.92724822\n",
      "  -0.4472136  -0.39735971 -0.39735971 -0.42257713  2.01913919 -0.9701425\n",
      "  -0.51887452 -0.34444748]\n",
      " [-1.12954065  2.9032002  -0.70710678 -0.37139068 -0.25400025 -0.37139068\n",
      "  -0.25400025  1.69774938 -0.31622777 -0.63581076 -0.49526056 -0.51887452\n",
      "  -0.4472136  -0.39735971 -0.39735971  2.36643191 -0.49526056  1.03077641\n",
      "  -0.51887452 -0.34444748]\n",
      " [-1.12954065 -0.34444748  1.41421356 -0.37139068  3.93700394 -0.37139068\n",
      "  -0.25400025 -0.58901509 -0.31622777 -0.63581076 -0.49526056 -0.51887452\n",
      "  -0.4472136  -0.39735971  2.51661148 -0.42257713 -0.49526056 -0.9701425\n",
      "   1.92724822 -0.34444748]\n",
      " [ 0.88531564 -0.34444748 -0.70710678 -0.37139068 -0.25400025 -0.37139068\n",
      "  -0.25400025 -0.58901509 -0.31622777  1.57279503 -0.49526056 -0.51887452\n",
      "  -0.4472136   2.51661148 -0.39735971 -0.42257713  2.01913919 -0.9701425\n",
      "  -0.51887452 -0.34444748]\n",
      " [-1.12954065  2.9032002  -0.70710678 -0.37139068 -0.25400025 -0.37139068\n",
      "  -0.25400025  1.69774938 -0.31622777 -0.63581076 -0.49526056  1.92724822\n",
      "  -0.4472136  -0.39735971 -0.39735971 -0.42257713  2.01913919 -0.9701425\n",
      "  -0.51887452 -0.34444748]\n",
      " [ 0.88531564 -0.34444748 -0.70710678 -0.37139068 -0.25400025 -0.37139068\n",
      "  -0.25400025 -0.58901509 -0.31622777  1.57279503 -0.49526056 -0.51887452\n",
      "  -0.4472136  -0.39735971 -0.39735971  2.36643191 -0.49526056  1.03077641\n",
      "  -0.51887452 -0.34444748]\n",
      " [-1.12954065 -0.34444748  1.41421356 -0.37139068  3.93700394 -0.37139068\n",
      "  -0.25400025 -0.58901509 -0.31622777 -0.63581076 -0.49526056 -0.51887452\n",
      "   2.23606798 -0.39735971 -0.39735971 -0.42257713 -0.49526056 -0.9701425\n",
      "   1.92724822 -0.34444748]\n",
      " [-1.12954065 -0.34444748  1.41421356 -0.37139068 -0.25400025 -0.37139068\n",
      "  -0.25400025 -0.58901509  3.16227766 -0.63581076 -0.49526056  1.92724822\n",
      "  -0.4472136  -0.39735971 -0.39735971 -0.42257713 -0.49526056  1.03077641\n",
      "  -0.51887452 -0.34444748]\n",
      " [ 0.88531564 -0.34444748 -0.70710678 -0.37139068 -0.25400025 -0.37139068\n",
      "  -0.25400025 -0.58901509 -0.31622777  1.57279503 -0.49526056 -0.51887452\n",
      "  -0.4472136  -0.39735971 -0.39735971  2.36643191  2.01913919 -0.9701425\n",
      "  -0.51887452 -0.34444748]\n",
      " [ 0.88531564 -0.34444748 -0.70710678  2.6925824  -0.25400025 -0.37139068\n",
      "  -0.25400025 -0.58901509 -0.31622777 -0.63581076 -0.49526056 -0.51887452\n",
      "  -0.4472136  -0.39735971  2.51661148 -0.42257713 -0.49526056  1.03077641\n",
      "  -0.51887452 -0.34444748]\n",
      " [ 0.88531564 -0.34444748 -0.70710678 -0.37139068 -0.25400025  2.6925824\n",
      "  -0.25400025 -0.58901509 -0.31622777 -0.63581076  2.01913919 -0.51887452\n",
      "  -0.4472136  -0.39735971 -0.39735971 -0.42257713 -0.49526056  1.03077641\n",
      "  -0.51887452 -0.34444748]\n",
      " [ 0.88531564 -0.34444748 -0.70710678 -0.37139068 -0.25400025 -0.37139068\n",
      "  -0.25400025  1.69774938 -0.31622777 -0.63581076 -0.49526056 -0.51887452\n",
      "   2.23606798 -0.39735971 -0.39735971 -0.42257713 -0.49526056 -0.9701425\n",
      "   1.92724822 -0.34444748]\n",
      " [-1.12954065 -0.34444748  1.41421356 -0.37139068 -0.25400025  2.6925824\n",
      "  -0.25400025 -0.58901509 -0.31622777 -0.63581076  2.01913919 -0.51887452\n",
      "  -0.4472136  -0.39735971 -0.39735971 -0.42257713 -0.49526056  1.03077641\n",
      "  -0.51887452 -0.34444748]\n",
      " [-1.12954065 -0.34444748  1.41421356 -0.37139068 -0.25400025 -0.37139068\n",
      "   3.93700394 -0.58901509 -0.31622777 -0.63581076 -0.49526056 -0.51887452\n",
      "  -0.4472136   2.51661148 -0.39735971 -0.42257713 -0.49526056  1.03077641\n",
      "  -0.51887452 -0.34444748]\n",
      " [ 0.88531564 -0.34444748 -0.70710678 -0.37139068 -0.25400025 -0.37139068\n",
      "  -0.25400025  1.69774938 -0.31622777 -0.63581076 -0.49526056 -0.51887452\n",
      "  -0.4472136  -0.39735971  2.51661148 -0.42257713 -0.49526056 -0.9701425\n",
      "   1.92724822 -0.34444748]\n",
      " [ 0.88531564 -0.34444748 -0.70710678  2.6925824  -0.25400025 -0.37139068\n",
      "  -0.25400025 -0.58901509 -0.31622777 -0.63581076 -0.49526056  1.92724822\n",
      "  -0.4472136  -0.39735971 -0.39735971 -0.42257713 -0.49526056 -0.9701425\n",
      "   1.92724822 -0.34444748]\n",
      " [-1.12954065  2.9032002  -0.70710678 -0.37139068 -0.25400025 -0.37139068\n",
      "  -0.25400025 -0.58901509 -0.31622777  1.57279503 -0.49526056  1.92724822\n",
      "  -0.4472136  -0.39735971 -0.39735971 -0.42257713 -0.49526056  1.03077641\n",
      "  -0.51887452 -0.34444748]\n",
      " [ 0.88531564 -0.34444748 -0.70710678 -0.37139068 -0.25400025 -0.37139068\n",
      "  -0.25400025 -0.58901509  3.16227766 -0.63581076 -0.49526056  1.92724822\n",
      "  -0.4472136  -0.39735971 -0.39735971 -0.42257713 -0.49526056  1.03077641\n",
      "  -0.51887452 -0.34444748]\n",
      " [-1.12954065 -0.34444748  1.41421356 -0.37139068 -0.25400025 -0.37139068\n",
      "  -0.25400025 -0.58901509 -0.31622777  1.57279503 -0.49526056 -0.51887452\n",
      "  -0.4472136   2.51661148 -0.39735971 -0.42257713  2.01913919 -0.9701425\n",
      "  -0.51887452 -0.34444748]\n",
      " [ 0.88531564 -0.34444748 -0.70710678 -0.37139068 -0.25400025 -0.37139068\n",
      "  -0.25400025 -0.58901509 -0.31622777  1.57279503 -0.49526056 -0.51887452\n",
      "  -0.4472136   2.51661148 -0.39735971 -0.42257713 -0.49526056  1.03077641\n",
      "  -0.51887452 -0.34444748]\n",
      " [ 0.88531564 -0.34444748 -0.70710678 -0.37139068 -0.25400025 -0.37139068\n",
      "  -0.25400025  1.69774938 -0.31622777 -0.63581076 -0.49526056 -0.51887452\n",
      "  -0.4472136  -0.39735971  2.51661148 -0.42257713 -0.49526056 -0.9701425\n",
      "  -0.51887452  2.9032002 ]\n",
      " [-1.12954065 -0.34444748  1.41421356 -0.37139068 -0.25400025 -0.37139068\n",
      "  -0.25400025 -0.58901509 -0.31622777  1.57279503  2.01913919 -0.51887452\n",
      "  -0.4472136  -0.39735971 -0.39735971 -0.42257713 -0.49526056 -0.9701425\n",
      "   1.92724822 -0.34444748]\n",
      " [ 0.88531564 -0.34444748 -0.70710678 -0.37139068 -0.25400025 -0.37139068\n",
      "  -0.25400025 -0.58901509  3.16227766 -0.63581076 -0.49526056 -0.51887452\n",
      "  -0.4472136  -0.39735971  2.51661148 -0.42257713  2.01913919 -0.9701425\n",
      "  -0.51887452 -0.34444748]\n",
      " [ 0.88531564 -0.34444748 -0.70710678 -0.37139068  3.93700394 -0.37139068\n",
      "  -0.25400025 -0.58901509 -0.31622777 -0.63581076  2.01913919 -0.51887452\n",
      "  -0.4472136  -0.39735971 -0.39735971 -0.42257713 -0.49526056 -0.9701425\n",
      "  -0.51887452  2.9032002 ]]\n",
      "Jumlah support vector:  [21 20]\n",
      "Nilai alpha :  [[0.1        0.05995801 0.1        0.1        0.1        0.1\n",
      "  0.1        0.01103601 0.1        0.1        0.1        0.1\n",
      "  0.1        0.1        0.1        0.01735961 0.05554115 0.1\n",
      "  0.09827095 0.1        0.1        0.1        0.1        0.1\n",
      "  0.1        0.1        0.1        0.1        0.1        0.1\n",
      "  0.1        0.1        0.03466165 0.1        0.0391075  0.1\n",
      "  0.06839657 0.1        0.1        0.1        0.1       ]]\n"
     ]
    }
   ],
   "source": [
    "print(\"Koefisien model : \", clf_svc.coef_)\n",
    "print(\"Bias model : \", clf_svc.intercept_)\n",
    "print(\"Indeks Support Vector : \", clf_svc.support_)\n",
    "print(\"Support vector : \", clf_svc.support_vectors_)\n",
    "print(\"Jumlah support vector: \",clf_svc.n_support_)\n",
    "print(\"Nilai alpha : \", np.abs(clf_svc.dual_coef_))"
   ]
  },
  {
   "cell_type": "code",
   "execution_count": 11,
   "metadata": {},
   "outputs": [
    {
     "name": "stdout",
     "output_type": "stream",
     "text": [
      "['M' 'F' 'M' 'F' 'M' 'M' 'M' 'M' 'M' 'M' 'F' 'M' 'M' 'M' 'M' 'M' 'F' 'F'\n",
      " 'F' 'M']\n"
     ]
    }
   ],
   "source": [
    "y_prediksi = clf_svc.predict(X_test)\n",
    "print(y_prediksi)"
   ]
  },
  {
   "cell_type": "code",
   "execution_count": 12,
   "metadata": {},
   "outputs": [
    {
     "name": "stdout",
     "output_type": "stream",
     "text": [
      "Akurasi : 65.0 %\n"
     ]
    },
    {
     "data": {
      "image/png": "[encoded data removed]",
      "text/plain": [
       "<Figure size 432x288 with 2 Axes>"
      ]
     },
     "metadata": {
      "needs_background": "light"
     },
     "output_type": "display_data"
    }
   ],
   "source": [
    "from sklearn.metrics import confusion_matrix, accuracy_score\n",
    "from sklearn import metrics\n",
    "cm = confusion_matrix(y_test, y_prediksi)\n",
    "cm_display = metrics.ConfusionMatrixDisplay(confusion_matrix=cm)\n",
    "cm_display.plot()\n",
    "akurasi = accuracy_score(y_test, y_prediksi)*100\n",
    "print(\"Akurasi : {} %\".format(akurasi))"
   ]
  },
  {
   "cell_type": "code",
   "execution_count": null,
   "metadata": {},
   "outputs": [],
   "source": []
  }
 ],
 "metadata": {
  "kernelspec": {
   "display_name": "Python 3",
   "language": "python",
   "name": "python3"
  },
  "language_info": {
   "codemirror_mode": {
    "name": "ipython",
    "version": 3
   },
   "file_extension": ".py",
   "mimetype": "text/x-python",
   "name": "python",
   "nbconvert_exporter": "python",
   "pygments_lexer": "ipython3",
   "version": "3.8.5"
  }
 },
 "nbformat": 4,
 "nbformat_minor": 5
}
