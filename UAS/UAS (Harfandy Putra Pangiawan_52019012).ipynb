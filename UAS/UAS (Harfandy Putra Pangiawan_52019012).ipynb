{
 "cells": [
  {
   "cell_type": "code",
   "execution_count": 12,
   "id": "6d7de502",
   "metadata": {},
   "outputs": [
    {
     "name": "stdout",
     "output_type": "stream",
     "text": [
      "      USMER  MEDICAL_UNIT  SEX  PATIENT_TYPE   DATE_DIED  INTUBED  PNEUMONIA  \\\n",
      "0         2             3    2             2  13/04/2020        1          1   \n",
      "1         1             3    2             2  14/04/2020        1          1   \n",
      "2         1             3    1             2  14/04/2020        2          1   \n",
      "3         2             3    2             2  14/04/2020        1          1   \n",
      "4         2             3    1             2  15/04/2020        1          1   \n",
      "...     ...           ...  ...           ...         ...      ...        ...   \n",
      "1438      1             3    1             2  18/08/2020        1          1   \n",
      "1439      1             3    2             2  19/08/2020        1          1   \n",
      "1440      1             3    2             2  20/08/2020        1          1   \n",
      "1441      2             3    2             2  25/08/2020        1          1   \n",
      "1442      1             3    2             2  25/08/2020        2          1   \n",
      "\n",
      "      AGE  PREGNANT  DIABETES  ...  ASTHMA  INMSUPR  HIPERTENSION  \\\n",
      "0      57        97         2  ...       2        2             2   \n",
      "1      68        97         1  ...       2        2             1   \n",
      "2      84         2         1  ...       2        2             2   \n",
      "3      57        97         1  ...       2        2             2   \n",
      "4      66         2         2  ...       2        2             1   \n",
      "...   ...       ...       ...  ...     ...      ...           ...   \n",
      "1438   46         2         2  ...       2        2             2   \n",
      "1439   78        97         2  ...       2        2             1   \n",
      "1440   61        97         1  ...       2        2             1   \n",
      "1441   62        97         1  ...       2        2             2   \n",
      "1442   62        97         1  ...       2        2             1   \n",
      "\n",
      "      OTHER_DISEASE  CARDIOVASCULAR  OBESITY  RENAL_CHRONIC  TOBACCO  \\\n",
      "0                 2               2        1              2        1   \n",
      "1                 2               2        2              1        1   \n",
      "2                 2               2        2              2        2   \n",
      "3                 2               2        2              2        2   \n",
      "4                 2               2        2              2        2   \n",
      "...             ...             ...      ...            ...      ...   \n",
      "1438              2               2        2              2        2   \n",
      "1439              2               2        2              2        2   \n",
      "1440              2               1        2              2        2   \n",
      "1441              2               2        1              2        2   \n",
      "1442              2               2        2              2        2   \n",
      "\n",
      "      CLASIFFICATION_FINAL  ICU  \n",
      "0                        3    2  \n",
      "1                        3    2  \n",
      "2                        3    2  \n",
      "3                        3    2  \n",
      "4                        3    2  \n",
      "...                    ...  ...  \n",
      "1438                     3    1  \n",
      "1439                     3    2  \n",
      "1440                     3    2  \n",
      "1441                     2    2  \n",
      "1442                     7    2  \n",
      "\n",
      "[1443 rows x 21 columns]\n",
      "Label kelas:  [1 2 3 4 5 6 7]\n"
     ]
    }
   ],
   "source": [
    "import numpy as np\n",
    "import pandas as pd\n",
    "data = pd.read_csv('Covid.csv')\n",
    "X = data.loc[:,('SEX', 'PATIENT_TYPE', 'INTUBED', 'PNEUMONIA', 'AGE', 'PREGNANT', 'DIABETES')]\n",
    "y= data['CLASIFFICATION_FINAL']\n",
    "print(data)\n",
    "print (\"Label kelas: \", np.unique(y))"
   ]
  },
  {
   "cell_type": "code",
   "execution_count": 5,
   "id": "2f6bfd1f",
   "metadata": {},
   "outputs": [
    {
     "name": "stdout",
     "output_type": "stream",
     "text": [
      "[[ 0.74158364  0.31465839 -0.4254194  -0.37990775 -0.31066268  0.74043741\n",
      "  -0.01931947]\n",
      " [ 0.74158364  0.31465839 -0.4254194  -0.37990775  0.42085322  0.74043741\n",
      "  -0.15870942]\n",
      " [-1.34846556  0.31465839 -0.39569442 -0.37990775  1.48487635 -1.35037896\n",
      "  -0.15870942]\n",
      " [ 0.74158364  0.31465839 -0.4254194  -0.37990775 -0.31066268  0.74043741\n",
      "  -0.15870942]\n",
      " [-1.34846556  0.31465839 -0.4254194  -0.37990775  0.28785033 -1.35037896\n",
      "  -0.01931947]]\n"
     ]
    }
   ],
   "source": [
    "from sklearn.preprocessing import StandardScaler\n",
    "\n",
    "sc = StandardScaler()\n",
    "sc.fit(X)\n",
    "X = sc.transform(X)\n",
    "\n",
    "print(X[0:5,:])"
   ]
  },
  {
   "cell_type": "code",
   "execution_count": 6,
   "id": "2bfe4985",
   "metadata": {},
   "outputs": [
    {
     "name": "stdout",
     "output_type": "stream",
     "text": [
      "X Training: [[ 0.74158364 -3.17804972  2.42817823 -0.37990775 -0.84267424  0.74043741\n",
      "  -0.01931947]\n",
      " [ 0.74158364  0.31465839 -0.4254194  -0.37990775 -0.11115834  0.74043741\n",
      "  -0.15870942]\n",
      " [-1.34846556  0.31465839 -0.39569442 -0.37990775  0.22134889 -1.35037896\n",
      "  -0.01931947]\n",
      " [-1.34846556  0.31465839 -0.4254194  -0.37990775 -1.84019592 -1.35037896\n",
      "  -0.01931947]\n",
      " [ 0.74158364 -3.17804972  2.42817823 -0.37990775  2.34939514  0.74043741\n",
      "  -0.01931947]]\n",
      "y Training: 1182    3\n",
      "1096    3\n",
      "438     3\n",
      "506     6\n",
      "880     3\n",
      "Name: CLASIFFICATION_FINAL, dtype: int64\n"
     ]
    }
   ],
   "source": [
    "from sklearn.model_selection import train_test_split\n",
    "\n",
    "X_train, X_test, y_train, y_test = train_test_split(X, y, test_size=0.3, random_state=0)\n",
    "\n",
    "print(\"X Training:\", X_train[0:5,:])\n",
    "print(\"y Training:\",y_train[0:5])"
   ]
  },
  {
   "cell_type": "code",
   "execution_count": 8,
   "id": "e79b48f7",
   "metadata": {},
   "outputs": [
    {
     "data": {
      "text/plain": [
       "SVC(C=1, kernel='linear', random_state=0)"
      ]
     },
     "execution_count": 8,
     "metadata": {},
     "output_type": "execute_result"
    }
   ],
   "source": [
    "from sklearn.svm import SVC\n",
    "\n",
    "clf_svc = SVC(kernel='linear', C=1, random_state=0)\n",
    "clf_svc.fit(X_train, y_train)\n"
   ]
  },
  {
   "cell_type": "code",
   "execution_count": 9,
   "id": "7bfea137",
   "metadata": {},
   "outputs": [
    {
     "name": "stdout",
     "output_type": "stream",
     "text": [
      "Koefisien model :  [[-9.03825438e-06  2.22044605e-16  2.81728045e-04  0.00000000e+00\n",
      "  -1.48544950e-05 -9.04157195e-06  8.08705695e-04]\n",
      " [ 0.00000000e+00  0.00000000e+00 -1.31074770e-04  0.00000000e+00\n",
      "   9.77336730e-05  0.00000000e+00 -3.39219982e-04]\n",
      " [ 1.11022302e-16  0.00000000e+00  0.00000000e+00  2.22044605e-16\n",
      "   2.14363081e-07  0.00000000e+00  0.00000000e+00]\n",
      " [ 0.00000000e+00  2.49803842e-02  3.09013891e-02  0.00000000e+00\n",
      "   4.79823351e-06  4.44089210e-16  4.56484939e-03]\n",
      " [-1.33024263e-04  2.30251078e-02  2.85717142e-02 -5.94428106e-04\n",
      "  -2.68424217e-04 -1.33073091e-04  5.02514762e-03]\n",
      " [ 0.00000000e+00  0.00000000e+00  0.00000000e+00  0.00000000e+00\n",
      "   1.00002941e-07  0.00000000e+00  0.00000000e+00]\n",
      " [-3.48308056e-04  8.88178420e-16 -3.31979481e-05  8.88178420e-16\n",
      "  -9.39143873e-06  3.41638025e-04 -6.57085442e-06]\n",
      " [-1.11351482e-02  5.65720305e-01  6.30192300e-01  4.94690530e-01\n",
      "   1.96622184e-01 -1.11392354e-02  2.40084724e-01]\n",
      " [ 9.59839733e-03  5.66559281e-01  6.93453326e-01 -6.76832530e-03\n",
      "   2.58203526e-05 -9.54242247e-03  1.64100361e-03]\n",
      " [-4.71602032e-01  1.69162425e+00  6.81664177e-01  6.54709210e-01\n",
      "  -3.70093960e-03 -4.71775137e-01  2.31027278e-01]\n",
      " [ 1.90034023e-05  0.00000000e+00 -5.02631204e-05  8.88178420e-16\n",
      "   2.91361582e-05  1.90103777e-05 -9.61171122e-06]\n",
      " [-1.70705541e-06  2.24143009e-04  3.26950962e-04  1.10001993e-04\n",
      "   3.46160417e-06 -1.70768201e-06  2.06649574e-04]\n",
      " [ 9.47056438e-01  6.06591557e-05  5.57649495e-05 -6.03874641e-05\n",
      "   5.28962183e-06 -9.46742046e-01  1.19390362e-03]\n",
      " [ 5.26773873e-05  5.95670683e-03  7.31894093e-03 -2.39379295e-05\n",
      "  -1.28374024e-05  5.26967229e-05  3.35745983e-03]\n",
      " [ 2.20433657e-02  2.46674303e-05  1.87184559e-05  1.69837384e-05\n",
      "  -5.56191841e-05 -2.19643201e-02  4.78926860e-05]\n",
      " [ 3.32842436e-01  1.05208405e-01  5.52729789e-02 -3.02635929e-01\n",
      "  -6.51373634e-01  1.96175039e-02  1.39389957e-01]\n",
      " [-1.77635684e-15  1.93079542e-01 -7.48093683e-03 -4.90897050e-01\n",
      "  -6.53647799e-01  8.88178420e-16  4.18169870e-01]\n",
      " [ 4.64374081e-05  1.77635684e-15  2.19452398e-05 -8.88178420e-16\n",
      "   3.53765953e-05  4.64544533e-05 -1.87163764e-05]\n",
      " [-1.36396952e-04 -9.28097374e-04 -1.03222530e-03 -9.95824932e-06\n",
      "   1.88931511e-04 -1.36447017e-04  2.76521279e-03]\n",
      " [-9.47044173e-01 -1.38998653e-02 -1.70049518e-02  7.68857772e-05\n",
      "   9.88042841e-06  9.46780317e-01 -3.55753938e-05]\n",
      " [-1.77635684e-15  3.55271368e-15  1.77635684e-15  8.88178420e-16\n",
      "   1.90464298e-04 -1.77635684e-15 -2.00589624e-03]]\n",
      "Bias model :  [-0.99994291 -0.99995099 -0.99999993 -0.99506284 -0.99551613 -1.00000012\n",
      " -0.99997331 -0.51466178 -0.88584706 -0.27652501 -0.9999547   0.99995517\n",
      "  0.99881492  1.00152318  0.99990157 -0.67548983 -0.05380007 -0.99992151\n",
      "  0.99995723 -1.00136319 -1.00021437]\n",
      "Indeks Support Vector :  [ 120  212  284  414  803   29   70   90  254  303  421  427  456  472\n",
      "  489  636  661  741  748  801  852  857  870  993  997    4    8   14\n",
      "   23   27   43   45   49   50   57   71   74   79   93  101  103  104\n",
      "  105  113  114  133  139  148  159  162  165  166  169  170  181  187\n",
      "  189  191  197  203  205  209  211  227  235  240  251  255  256  261\n",
      "  264  269  273  285  298  308  314  320  325  333  343  374  375  379\n",
      "  385  386  392  394  395  398  404  408  410  412  418  420  428  439\n",
      "  444  481  482  493  494  495  498  501  503  504  505  510  521  522\n",
      "  524  530  551  571  586  593  603  605  611  620  621  638  640  641\n",
      "  642  645  649  655  673  677  692  695  697  699  706  715  727  730\n",
      "  736  740  743  747  755  757  763  765  769  781  787  792  800  804\n",
      "  810  814  815  822  832  834  835  840  844  860  868  874  881  885\n",
      "  896  904  914  918  926  933  939  944  950  955  957  960  964  972\n",
      "  978  980  983  985  996 1002 1004 1009  140  151  173  199  215  279\n",
      "  332  399  407  416  470  497  525  550  556  588  657  739  744  745\n",
      "  851  867  889 1005   33   55   73   91  154  200  266  268  272  299\n",
      "  301  324  334  366  367  377  471  509  539  577  581  601  616  637\n",
      "  671  698  793  816  823  826  831  843  849  856  872  880  898  902\n",
      "  941  989  999 1001 1003    3   10   21   61   98  146  183  188  260\n",
      "  328  335  387  446  487  544  592  608  651  666  723  742  836  866\n",
      "  903  953  971   11   25   36   59   68   78   94   95  116  118  125\n",
      "  127  141  150  161  213  216  218  223  225  245  253  267  277  283\n",
      "  289  293  305  306  309  310  318  331  337  339  347  351  354  357\n",
      "  371  378  380  388  390  391  396  397  401  411  413  419  425  431\n",
      "  433  450  452  466  475  502  507  520  528  532  533  540  545  562\n",
      "  568  569  574  575  578  597  612  619  625  628  631  672  675  684\n",
      "  710  714  720  737  750  751  768  773  774  794  796  799  806  813\n",
      "  818  825  827  830  847  850  853  854  873  882  883  888  897  900\n",
      "  909  916  919  920  928  938  946  952  959  962  968  969  974  982\n",
      "  984  990]\n",
      "Support vector :  [[-1.34846556  0.31465839 -0.39569442 ... -1.10868002 -1.35037896\n",
      "  -0.01931947]\n",
      " [ 0.74158364  0.31465839 -0.39569442 ... -0.0446569   0.74043741\n",
      "  -0.01931947]\n",
      " [ 0.74158364  0.31465839 -0.39569442 ... -2.37220748  0.74043741\n",
      "  -0.15870942]\n",
      " ...\n",
      " [ 0.74158364  0.31465839 -0.39569442 ...  0.15484744  0.74043741\n",
      "  -0.15870942]\n",
      " [ 0.74158364  0.31465839 -0.39569442 ...  0.75336045  0.74043741\n",
      "  -0.15870942]\n",
      " [ 0.74158364  0.31465839 -0.4254194  ... -0.17765979  0.74043741\n",
      "  -0.01931947]]\n",
      "Jumlah support vector:  [  5  20 165  24  43  26 125]\n",
      "Nilai alpha :  [[1.         1.         1.         ... 0.         0.         0.        ]\n",
      " [1.         1.         1.         ... 0.         0.         1.        ]\n",
      " [1.         1.         1.         ... 1.         1.         1.        ]\n",
      " [1.         1.         1.         ... 0.         0.         1.        ]\n",
      " [1.         1.         1.         ... 0.91197001 0.         1.        ]\n",
      " [1.         1.         1.         ... 0.         1.         0.        ]]\n"
     ]
    }
   ],
   "source": [
    "print(\"Koefisien model : \", clf_svc.coef_)\n",
    "print(\"Bias model : \", clf_svc.intercept_)\n",
    "print(\"Indeks Support Vector : \", clf_svc.support_)\n",
    "print(\"Support vector : \", clf_svc.support_vectors_)\n",
    "print(\"Jumlah support vector: \",clf_svc.n_support_)\n",
    "print(\"Nilai alpha : \", np.abs(clf_svc.dual_coef_))"
   ]
  },
  {
   "cell_type": "code",
   "execution_count": 10,
   "id": "a0dd33e4",
   "metadata": {},
   "outputs": [
    {
     "name": "stdout",
     "output_type": "stream",
     "text": [
      "[3 3 3 3 3 3 3 3 3 3 3 3 3 3 3 3 3 3 3 3 3 3 3 3 3 3 3 3 3 3 3 3 3 3 3 3 3\n",
      " 3 3 3 3 3 3 3 3 3 3 3 3 3 3 3 3 3 3 3 3 3 3 3 3 3 3 3 3 3 3 3 3 3 3 3 3 3\n",
      " 3 3 3 3 3 3 3 3 3 3 3 3 3 3 3 3 3 3 3 3 3 3 3 3 3 3 3 3 3 3 3 3 3 3 3 3 3\n",
      " 3 3 3 3 3 3 3 3 3 3 3 3 3 3 3 3 3 3 3 3 3 3 3 3 3 3 3 3 3 3 3 3 3 3 3 3 3\n",
      " 3 3 3 3 3 3 3 3 3 3 3 3 3 3 3 3 3 3 3 3 3 3 3 3 3 3 3 3 3 3 3 3 3 3 3 3 3\n",
      " 3 3 3 3 3 3 3 3 3 3 3 3 3 3 3 3 3 3 3 3 3 3 3 3 3 3 3 3 3 3 3 3 3 3 3 3 3\n",
      " 3 3 3 3 3 3 3 3 3 3 3 3 3 3 3 3 3 3 3 3 3 3 3 3 3 3 3 3 3 3 3 3 3 3 3 3 3\n",
      " 3 3 3 3 3 3 3 3 3 3 3 3 3 3 3 3 3 3 3 3 3 3 3 3 3 3 3 3 3 3 3 3 3 3 3 3 3\n",
      " 3 3 3 3 3 3 3 3 3 3 3 3 3 3 3 3 3 3 3 3 3 3 3 3 3 3 3 3 3 3 3 3 3 3 3 3 3\n",
      " 3 3 3 3 3 3 3 3 3 3 3 3 3 3 3 3 3 3 3 3 3 3 3 3 3 3 3 3 3 3 3 3 3 3 3 3 3\n",
      " 3 3 3 3 3 3 3 3 3 3 3 3 3 3 3 3 3 3 3 3 3 3 3 3 3 3 3 3 3 3 3 3 3 3 3 3 3\n",
      " 3 3 3 3 3 3 3 3 3 3 3 3 3 3 3 3 3 3 3 3 3 3 3 3 3 3]\n"
     ]
    }
   ],
   "source": [
    "y_prediksi = clf_svc.predict(X_test)\n",
    "print(y_prediksi)"
   ]
  },
  {
   "cell_type": "code",
   "execution_count": 11,
   "id": "f17dd444",
   "metadata": {},
   "outputs": [
    {
     "name": "stdout",
     "output_type": "stream",
     "text": [
      "Akurasi : 77.59815242494227 %\n"
     ]
    },
    {
     "data": {
      "image/png": "[encoded data removed]",
      "text/plain": [
       "<Figure size 432x288 with 2 Axes>"
      ]
     },
     "metadata": {
      "needs_background": "light"
     },
     "output_type": "display_data"
    }
   ],
   "source": [
    "from sklearn.metrics import confusion_matrix, accuracy_score\n",
    "from sklearn import metrics\n",
    "cm = confusion_matrix(y_test, y_prediksi)\n",
    "cm_display = metrics.ConfusionMatrixDisplay(confusion_matrix=cm)\n",
    "cm_display.plot()\n",
    "akurasi = accuracy_score(y_test, y_prediksi)*100\n",
    "print(\"Akurasi : {} %\".format(akurasi))"
   ]
  },
  {
   "cell_type": "code",
   "execution_count": null,
   "id": "b7f67084",
   "metadata": {},
   "outputs": [],
   "source": []
  }
 ],
 "metadata": {
  "kernelspec": {
   "display_name": "Python 3 (ipykernel)",
   "language": "python",
   "name": "python3"
  },
  "language_info": {
   "codemirror_mode": {
    "name": "ipython",
    "version": 3
   },
   "file_extension": ".py",
   "mimetype": "text/x-python",
   "name": "python",
   "nbconvert_exporter": "python",
   "pygments_lexer": "ipython3",
   "version": "3.9.12"
  }
 },
 "nbformat": 4,
 "nbformat_minor": 5
}
